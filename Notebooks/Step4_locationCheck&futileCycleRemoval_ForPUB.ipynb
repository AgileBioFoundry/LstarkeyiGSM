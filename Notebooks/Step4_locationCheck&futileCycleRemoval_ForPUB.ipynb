{
 "cells": [
  {
   "cell_type": "markdown",
   "id": "936e831f",
   "metadata": {},
   "source": [
    "# Futile Cycle Removal.\n",
    "\n",
    "This notebook takes the draft *Lipomyces starkeyi* GSM and simulates growth on and extracts reactions that are generating redox/energy molecules such as ATP, NADPH, NADH to identify futile cycles. Reaction bounds are adjusted to block futile cycles. "
   ]
  },
  {
   "cell_type": "markdown",
   "id": "e1167aaf",
   "metadata": {},
   "source": [
    "import needed libraries."
   ]
  },
  {
   "cell_type": "code",
   "execution_count": 1,
   "id": "c71878fc",
   "metadata": {},
   "outputs": [],
   "source": [
    "import cobra\n",
    "import pandas\n",
    "import numpy\n",
    "from cobra.flux_analysis import pfba\n",
    "from cobra.flux_analysis import gapfill"
   ]
  },
  {
   "cell_type": "markdown",
   "id": "7e36ca84",
   "metadata": {},
   "source": [
    "load GSM models."
   ]
  },
  {
   "cell_type": "code",
   "execution_count": 2,
   "id": "47459534",
   "metadata": {},
   "outputs": [
    {
     "name": "stdout",
     "output_type": "stream",
     "text": [
      "Set parameter TokenServer to value \"leghorn.emsl.pnl.gov\"\n"
     ]
    },
    {
     "name": "stderr",
     "output_type": "stream",
     "text": [
      "This model seems to have confidenceScores instead of rxnConfidenceScores field. Will use confidenceScores for what rxnConfidenceScores represents.\n",
      "This model seems to have metCharge instead of metCharges field. Will use metCharge for what metCharges represents.\n",
      "No defined compartments in model model. Compartments will be deduced heuristically using regular expressions.\n",
      "Using regular expression found the following compartments:c, e, g, m, n, r, v, x\n"
     ]
    }
   ],
   "source": [
    "# Lipomyces starkeyi constructed model (based on NRRL 11557 genome and 11558 phenotypic data).\n",
    "lst = cobra.io.load_json_model('../models/Lst_v0.2_model_forPUB_copy.json')\n",
    "\n",
    "# Rhodosporidium toruloides IFOxxxx.\n",
    "rto = cobra.io.load_json_model('../models/Rt_IFO0880.json')\n",
    "\n",
    "# Yarrowia lipolytica POxx.\n",
    "ylip = cobra.io.load_matlab_model('../models/twoModels/iYLI647_corr.mat')\n",
    "\n",
    "# Sacchromyces cerevisiae Yeast8.\n",
    "sce = cobra.io.load_matlab_model('../models/yeast8_modifiedwBIGGnames.mat')\n",
    "\n",
    "\n",
    "# E. coli iJO1366\n",
    "eco = cobra.io.load_json_model('../models/iJO1366.json')"
   ]
  },
  {
   "cell_type": "code",
   "execution_count": 3,
   "id": "2feb35ad",
   "metadata": {},
   "outputs": [],
   "source": [
    "r = lst.reactions.NADPHtru.copy()\n",
    "r.id = 'NADHtru'\n",
    "lst.add_reactions([r])\n",
    "r.add_metabolites({'nadph_c': 1.0, 'nadph_r': -1.0,\n",
    "                   'nadh_c': -1.0, 'nadh_r': 1.0 })\n",
    "r = lst.reactions.NADPtru.copy()\n",
    "r.id = 'NADtru'\n",
    "lst.add_reactions([r])\n",
    "r.add_metabolites({'nadp_r': 1.0, 'nadp_c': -1.0,\n",
    "                   'nad_r': -1.0, 'nad_c': 1.0 })\n"
   ]
  },
  {
   "cell_type": "code",
   "execution_count": 4,
   "id": "bc85f705",
   "metadata": {},
   "outputs": [],
   "source": [
    "# adjust iYLI647 parameters for consistent annotation. \n",
    "for m in ylip.metabolites:\n",
    "    if ('[' in m.id):\n",
    "        ylip.metabolites.get_by_id(m.id).id = m.id.replace('[','_').replace(']','')\n",
    "    if ('_L_' in m.id):\n",
    "        ylip.metabolites.get_by_id(m.id).id = m.id.replace('_L_','__L_')\n",
    "    if ('_D_' in m.id):\n",
    "        ylip.metabolites.get_by_id(m.id).id = m.id.replace('_D_','__D_')\n",
    "for r in ylip.reactions:\n",
    "    if ('(e)' in r.id):\n",
    "        ylip.reactions.get_by_id(r.id).id = r.id.replace('(e)','_e')\n",
    "    if(('_L_') in r.id):\n",
    "        ylip.reactions.get_by_id(r.id).id = r.id.replace('_L_','__L_')\n",
    "\n",
    "    if(('_D_') in r.id):\n",
    "        ylip.reactions.get_by_id(r.id).id = r.id.replace('_D_','__D_')\n"
   ]
  },
  {
   "cell_type": "markdown",
   "id": "f9b69b56",
   "metadata": {},
   "source": [
    "view summary of the GSMs."
   ]
  },
  {
   "cell_type": "code",
   "execution_count": 5,
   "id": "87cbf369",
   "metadata": {},
   "outputs": [
    {
     "data": {
      "text/html": [
       "<h3>Objective</h3><p>1.0 BIOMASS_Ls = 0.8935947829585967</p><h4>Uptake</h4><table border=\"1\" class=\"dataframe\">\n",
       "  <thead>\n",
       "    <tr style=\"text-align: right;\">\n",
       "      <th>Metabolite</th>\n",
       "      <th>Reaction</th>\n",
       "      <th>Flux</th>\n",
       "      <th>C-Number</th>\n",
       "      <th>C-Flux</th>\n",
       "    </tr>\n",
       "  </thead>\n",
       "  <tbody>\n",
       "    <tr>\n",
       "      <td>ca2_e</td>\n",
       "      <td>EX_ca2_e</td>\n",
       "      <td>0.000508</td>\n",
       "      <td>0</td>\n",
       "      <td>0.00%</td>\n",
       "    </tr>\n",
       "    <tr>\n",
       "      <td>cu2_e</td>\n",
       "      <td>EX_cu2_e</td>\n",
       "      <td>0.0003206</td>\n",
       "      <td>0</td>\n",
       "      <td>0.00%</td>\n",
       "    </tr>\n",
       "    <tr>\n",
       "      <td>fe3_e</td>\n",
       "      <td>EX_fe3_e</td>\n",
       "      <td>0.003767</td>\n",
       "      <td>0</td>\n",
       "      <td>0.00%</td>\n",
       "    </tr>\n",
       "    <tr>\n",
       "      <td>glc__D_e</td>\n",
       "      <td>EX_glc__D_e</td>\n",
       "      <td>10</td>\n",
       "      <td>6</td>\n",
       "      <td>98.02%</td>\n",
       "    </tr>\n",
       "    <tr>\n",
       "      <td>k_e</td>\n",
       "      <td>EX_k_e</td>\n",
       "      <td>0.3576</td>\n",
       "      <td>0</td>\n",
       "      <td>0.00%</td>\n",
       "    </tr>\n",
       "    <tr>\n",
       "      <td>mg2_e</td>\n",
       "      <td>EX_mg2_e</td>\n",
       "      <td>0.03769</td>\n",
       "      <td>0</td>\n",
       "      <td>0.00%</td>\n",
       "    </tr>\n",
       "    <tr>\n",
       "      <td>mn2_e</td>\n",
       "      <td>EX_mn2_e</td>\n",
       "      <td>0.0003706</td>\n",
       "      <td>0</td>\n",
       "      <td>0.00%</td>\n",
       "    </tr>\n",
       "    <tr>\n",
       "      <td>na1_e</td>\n",
       "      <td>EX_na1_e</td>\n",
       "      <td>0.01594</td>\n",
       "      <td>0</td>\n",
       "      <td>0.00%</td>\n",
       "    </tr>\n",
       "    <tr>\n",
       "      <td>nh4_e</td>\n",
       "      <td>EX_nh4_e</td>\n",
       "      <td>5.158</td>\n",
       "      <td>0</td>\n",
       "      <td>0.00%</td>\n",
       "    </tr>\n",
       "    <tr>\n",
       "      <td>o2_e</td>\n",
       "      <td>EX_o2_e</td>\n",
       "      <td>17.76</td>\n",
       "      <td>0</td>\n",
       "      <td>0.00%</td>\n",
       "    </tr>\n",
       "    <tr>\n",
       "      <td>pi_e</td>\n",
       "      <td>EX_pi_e</td>\n",
       "      <td>0.6054</td>\n",
       "      <td>0</td>\n",
       "      <td>0.00%</td>\n",
       "    </tr>\n",
       "    <tr>\n",
       "      <td>so4_e</td>\n",
       "      <td>EX_so4_e</td>\n",
       "      <td>0.0996</td>\n",
       "      <td>0</td>\n",
       "      <td>0.00%</td>\n",
       "    </tr>\n",
       "    <tr>\n",
       "      <td>zn2_e</td>\n",
       "      <td>EX_zn2_e</td>\n",
       "      <td>0.0003114</td>\n",
       "      <td>0</td>\n",
       "      <td>0.00%</td>\n",
       "    </tr>\n",
       "    <tr>\n",
       "      <td>8aonn_m</td>\n",
       "      <td>SRC_8aonn_m</td>\n",
       "      <td>0.001476</td>\n",
       "      <td>9</td>\n",
       "      <td>0.02%</td>\n",
       "    </tr>\n",
       "    <tr>\n",
       "      <td>lipoate_m</td>\n",
       "      <td>SRC_lipoate_m</td>\n",
       "      <td>0.001897</td>\n",
       "      <td>8</td>\n",
       "      <td>0.02%</td>\n",
       "    </tr>\n",
       "    <tr>\n",
       "      <td>trnaala_c</td>\n",
       "      <td>SRC_trnaala_c</td>\n",
       "      <td>0.4071</td>\n",
       "      <td>0</td>\n",
       "      <td>0.00%</td>\n",
       "    </tr>\n",
       "    <tr>\n",
       "      <td>trnaarg_c</td>\n",
       "      <td>SRC_trnaarg_c</td>\n",
       "      <td>0.1267</td>\n",
       "      <td>0</td>\n",
       "      <td>0.00%</td>\n",
       "    </tr>\n",
       "    <tr>\n",
       "      <td>trnaasn_c</td>\n",
       "      <td>SRC_trnaasn_c</td>\n",
       "      <td>0.1183</td>\n",
       "      <td>10</td>\n",
       "      <td>1.93%</td>\n",
       "    </tr>\n",
       "    <tr>\n",
       "      <td>trnaasp_c</td>\n",
       "      <td>SRC_trnaasp_c</td>\n",
       "      <td>0.1826</td>\n",
       "      <td>0</td>\n",
       "      <td>0.00%</td>\n",
       "    </tr>\n",
       "    <tr>\n",
       "      <td>trnacys_c</td>\n",
       "      <td>SRC_trnacys_c</td>\n",
       "      <td>0.03598</td>\n",
       "      <td>0</td>\n",
       "      <td>0.00%</td>\n",
       "    </tr>\n",
       "    <tr>\n",
       "      <td>trnagln_c</td>\n",
       "      <td>SRC_trnagln_c</td>\n",
       "      <td>0.1032</td>\n",
       "      <td>0</td>\n",
       "      <td>0.00%</td>\n",
       "    </tr>\n",
       "    <tr>\n",
       "      <td>trnaglu_c</td>\n",
       "      <td>SRC_trnaglu_c</td>\n",
       "      <td>0.1785</td>\n",
       "      <td>0</td>\n",
       "      <td>0.00%</td>\n",
       "    </tr>\n",
       "    <tr>\n",
       "      <td>trnagly_c</td>\n",
       "      <td>SRC_trnagly_c</td>\n",
       "      <td>0.3951</td>\n",
       "      <td>0</td>\n",
       "      <td>0.00%</td>\n",
       "    </tr>\n",
       "    <tr>\n",
       "      <td>trnahis_c</td>\n",
       "      <td>SRC_trnahis_c</td>\n",
       "      <td>0.05428</td>\n",
       "      <td>0</td>\n",
       "      <td>0.00%</td>\n",
       "    </tr>\n",
       "    <tr>\n",
       "      <td>trnaile_c</td>\n",
       "      <td>SRC_trnaile_c</td>\n",
       "      <td>0.1804</td>\n",
       "      <td>0</td>\n",
       "      <td>0.00%</td>\n",
       "    </tr>\n",
       "    <tr>\n",
       "      <td>trnaleu_c</td>\n",
       "      <td>SRC_trnaleu_c</td>\n",
       "      <td>0.2619</td>\n",
       "      <td>0</td>\n",
       "      <td>0.00%</td>\n",
       "    </tr>\n",
       "    <tr>\n",
       "      <td>trnalys_c</td>\n",
       "      <td>SRC_trnalys_c</td>\n",
       "      <td>0.1492</td>\n",
       "      <td>0</td>\n",
       "      <td>0.00%</td>\n",
       "    </tr>\n",
       "    <tr>\n",
       "      <td>trnamet_c</td>\n",
       "      <td>SRC_trnamet_c</td>\n",
       "      <td>0.05817</td>\n",
       "      <td>0</td>\n",
       "      <td>0.00%</td>\n",
       "    </tr>\n",
       "    <tr>\n",
       "      <td>trnaphe_c</td>\n",
       "      <td>SRC_trnaphe_c</td>\n",
       "      <td>0.0968</td>\n",
       "      <td>0</td>\n",
       "      <td>0.00%</td>\n",
       "    </tr>\n",
       "    <tr>\n",
       "      <td>trnapro_c</td>\n",
       "      <td>SRC_trnapro_c</td>\n",
       "      <td>0.1865</td>\n",
       "      <td>0</td>\n",
       "      <td>0.00%</td>\n",
       "    </tr>\n",
       "    <tr>\n",
       "      <td>trnaser_c</td>\n",
       "      <td>SRC_trnaser_c</td>\n",
       "      <td>0.3588</td>\n",
       "      <td>0</td>\n",
       "      <td>0.00%</td>\n",
       "    </tr>\n",
       "    <tr>\n",
       "      <td>trnathr_c</td>\n",
       "      <td>SRC_trnathr_c</td>\n",
       "      <td>0.2028</td>\n",
       "      <td>0</td>\n",
       "      <td>0.00%</td>\n",
       "    </tr>\n",
       "    <tr>\n",
       "      <td>trnatrp_c</td>\n",
       "      <td>SRC_trnatrp_c</td>\n",
       "      <td>0.02289</td>\n",
       "      <td>0</td>\n",
       "      <td>0.00%</td>\n",
       "    </tr>\n",
       "    <tr>\n",
       "      <td>trnatyr_c</td>\n",
       "      <td>SRC_trnatyr_c</td>\n",
       "      <td>0.06947</td>\n",
       "      <td>0</td>\n",
       "      <td>0.00%</td>\n",
       "    </tr>\n",
       "    <tr>\n",
       "      <td>trnaval_c</td>\n",
       "      <td>SRC_trnaval_c</td>\n",
       "      <td>0.2444</td>\n",
       "      <td>0</td>\n",
       "      <td>0.00%</td>\n",
       "    </tr>\n",
       "  </tbody>\n",
       "</table><h4>Secretion</h4><table border=\"1\" class=\"dataframe\">\n",
       "  <thead>\n",
       "    <tr style=\"text-align: right;\">\n",
       "      <th>Metabolite</th>\n",
       "      <th>Reaction</th>\n",
       "      <th>Flux</th>\n",
       "      <th>C-Number</th>\n",
       "      <th>C-Flux</th>\n",
       "    </tr>\n",
       "  </thead>\n",
       "  <tbody>\n",
       "    <tr>\n",
       "      <td>4oglu_c</td>\n",
       "      <td>DM_4oglu_c</td>\n",
       "      <td>-0.0008506</td>\n",
       "      <td>5</td>\n",
       "      <td>0.02%</td>\n",
       "    </tr>\n",
       "    <tr>\n",
       "      <td>amob_m</td>\n",
       "      <td>DM_amob_m</td>\n",
       "      <td>-0.001476</td>\n",
       "      <td>15</td>\n",
       "      <td>0.10%</td>\n",
       "    </tr>\n",
       "    <tr>\n",
       "      <td>dad_5_m</td>\n",
       "      <td>DM_dad_5_m</td>\n",
       "      <td>-0.001476</td>\n",
       "      <td>10</td>\n",
       "      <td>0.07%</td>\n",
       "    </tr>\n",
       "    <tr>\n",
       "      <td>co2_e</td>\n",
       "      <td>EX_co2_e</td>\n",
       "      <td>-22.33</td>\n",
       "      <td>1</td>\n",
       "      <td>99.71%</td>\n",
       "    </tr>\n",
       "    <tr>\n",
       "      <td>fe2_e</td>\n",
       "      <td>EX_fe2_e</td>\n",
       "      <td>-0.002616</td>\n",
       "      <td>0</td>\n",
       "      <td>0.00%</td>\n",
       "    </tr>\n",
       "    <tr>\n",
       "      <td>h2o_e</td>\n",
       "      <td>EX_h2o_e</td>\n",
       "      <td>-40.25</td>\n",
       "      <td>0</td>\n",
       "      <td>0.00%</td>\n",
       "    </tr>\n",
       "    <tr>\n",
       "      <td>h_e</td>\n",
       "      <td>EX_h_e</td>\n",
       "      <td>-1.181</td>\n",
       "      <td>0</td>\n",
       "      <td>0.00%</td>\n",
       "    </tr>\n",
       "    <tr>\n",
       "      <td>hco3_e</td>\n",
       "      <td>EX_hco3_e</td>\n",
       "      <td>-0.0249</td>\n",
       "      <td>1</td>\n",
       "      <td>0.11%</td>\n",
       "    </tr>\n",
       "  </tbody>\n",
       "</table>"
      ],
      "text/plain": [
       "<cobra.summary.model_summary.ModelSummary at 0x288d81c50>"
      ]
     },
     "execution_count": 5,
     "metadata": {},
     "output_type": "execute_result"
    }
   ],
   "source": [
    "lst.reactions.EX_glc__D_e.lower_bound=-10\n",
    "# lst.reactions.EX_xyl__D_e.upper_bound=0\n",
    "\n",
    "lst.summary()"
   ]
  },
  {
   "cell_type": "code",
   "execution_count": 6,
   "id": "38f59a2c",
   "metadata": {
    "scrolled": false
   },
   "outputs": [
    {
     "name": "stdout",
     "output_type": "stream",
     "text": [
      "EX_h_e (-1000.0, 1000.0)\n",
      "EX_h2o_e (-1000.0, 1000.0)\n",
      "EX_nh4_e (-1000.0, 1000.0)\n",
      "EX_o2_e (-1000.0, 1000.0)\n",
      "EX_pi_e (-1000.0, 1000.0)\n",
      "EX_so4_e (-1000.0, 1000.0)\n",
      "EX_glc__D_e (-10, 1000.0)\n",
      "EX_ca2_e (-1000.0, 1000.0)\n",
      "EX_fe2_e (-1000.0, 1000.0)\n",
      "EX_fe3_e (-1000.0, 1000.0)\n",
      "EX_k_e (-1000.0, 1000.0)\n",
      "EX_na1_e (-1000.0, 1000.0)\n",
      "EX_mg2_e (-1000.0, 1000.0)\n",
      "EX_mn2_e (-1000.0, 1000.0)\n",
      "EX_cu2_e (-1000.0, 1000.0)\n",
      "EX_zn2_e (-1000.0, 1000.0)\n"
     ]
    }
   ],
   "source": [
    "for r in lst.exchanges:\n",
    "    if r.lower_bound!=0:\n",
    "        print(r.id,r.bounds)"
   ]
  },
  {
   "cell_type": "code",
   "execution_count": 7,
   "id": "8bd7b162",
   "metadata": {},
   "outputs": [
    {
     "data": {
      "text/html": [
       "<h3>Objective</h3><p>1.0 BIOMASS_RT = 0.7543722008049403</p><h4>Uptake</h4><table border=\"1\" class=\"dataframe\">\n",
       "  <thead>\n",
       "    <tr style=\"text-align: right;\">\n",
       "      <th>Metabolite</th>\n",
       "      <th>Reaction</th>\n",
       "      <th>Flux</th>\n",
       "      <th>C-Number</th>\n",
       "      <th>C-Flux</th>\n",
       "    </tr>\n",
       "  </thead>\n",
       "  <tbody>\n",
       "    <tr>\n",
       "      <td>ca2_e</td>\n",
       "      <td>EX_ca2_e</td>\n",
       "      <td>0.0006276</td>\n",
       "      <td>0</td>\n",
       "      <td>0.00%</td>\n",
       "    </tr>\n",
       "    <tr>\n",
       "      <td>cu2_e</td>\n",
       "      <td>EX_cu2_e</td>\n",
       "      <td>0.000396</td>\n",
       "      <td>0</td>\n",
       "      <td>0.00%</td>\n",
       "    </tr>\n",
       "    <tr>\n",
       "      <td>fe3_e</td>\n",
       "      <td>EX_fe3_e</td>\n",
       "      <td>0.004654</td>\n",
       "      <td>0</td>\n",
       "      <td>0.00%</td>\n",
       "    </tr>\n",
       "    <tr>\n",
       "      <td>glc__D_e</td>\n",
       "      <td>EX_glc__D_e</td>\n",
       "      <td>10</td>\n",
       "      <td>6</td>\n",
       "      <td>98.60%</td>\n",
       "    </tr>\n",
       "    <tr>\n",
       "      <td>k_e</td>\n",
       "      <td>EX_k_e</td>\n",
       "      <td>0.4418</td>\n",
       "      <td>0</td>\n",
       "      <td>0.00%</td>\n",
       "    </tr>\n",
       "    <tr>\n",
       "      <td>mg2_e</td>\n",
       "      <td>EX_mg2_e</td>\n",
       "      <td>0.04656</td>\n",
       "      <td>0</td>\n",
       "      <td>0.00%</td>\n",
       "    </tr>\n",
       "    <tr>\n",
       "      <td>mn2_e</td>\n",
       "      <td>EX_mn2_e</td>\n",
       "      <td>0.0004579</td>\n",
       "      <td>0</td>\n",
       "      <td>0.00%</td>\n",
       "    </tr>\n",
       "    <tr>\n",
       "      <td>na1_e</td>\n",
       "      <td>EX_na1_e</td>\n",
       "      <td>0.01969</td>\n",
       "      <td>0</td>\n",
       "      <td>0.00%</td>\n",
       "    </tr>\n",
       "    <tr>\n",
       "      <td>nh4_e</td>\n",
       "      <td>EX_nh4_e</td>\n",
       "      <td>4.979</td>\n",
       "      <td>0</td>\n",
       "      <td>0.00%</td>\n",
       "    </tr>\n",
       "    <tr>\n",
       "      <td>o2_e</td>\n",
       "      <td>EX_o2_e</td>\n",
       "      <td>21.83</td>\n",
       "      <td>0</td>\n",
       "      <td>0.00%</td>\n",
       "    </tr>\n",
       "    <tr>\n",
       "      <td>pi_e</td>\n",
       "      <td>EX_pi_e</td>\n",
       "      <td>0.2008</td>\n",
       "      <td>0</td>\n",
       "      <td>0.00%</td>\n",
       "    </tr>\n",
       "    <tr>\n",
       "      <td>so4_e</td>\n",
       "      <td>EX_so4_e</td>\n",
       "      <td>0.07562</td>\n",
       "      <td>0</td>\n",
       "      <td>0.00%</td>\n",
       "    </tr>\n",
       "    <tr>\n",
       "      <td>zn2_e</td>\n",
       "      <td>EX_zn2_e</td>\n",
       "      <td>0.0003847</td>\n",
       "      <td>0</td>\n",
       "      <td>0.00%</td>\n",
       "    </tr>\n",
       "    <tr>\n",
       "      <td>8aonn_m</td>\n",
       "      <td>SRC_8aonn_m</td>\n",
       "      <td>0.001824</td>\n",
       "      <td>9</td>\n",
       "      <td>0.03%</td>\n",
       "    </tr>\n",
       "    <tr>\n",
       "      <td>lipoate_m</td>\n",
       "      <td>SRC_lipoate_m</td>\n",
       "      <td>0.002344</td>\n",
       "      <td>8</td>\n",
       "      <td>0.03%</td>\n",
       "    </tr>\n",
       "    <tr>\n",
       "      <td>trnaala_c</td>\n",
       "      <td>SRC_trnaala_c</td>\n",
       "      <td>0.4357</td>\n",
       "      <td>0</td>\n",
       "      <td>0.00%</td>\n",
       "    </tr>\n",
       "    <tr>\n",
       "      <td>trnaarg_c</td>\n",
       "      <td>SRC_trnaarg_c</td>\n",
       "      <td>0.1106</td>\n",
       "      <td>0</td>\n",
       "      <td>0.00%</td>\n",
       "    </tr>\n",
       "    <tr>\n",
       "      <td>trnaasn_c</td>\n",
       "      <td>SRC_trnaasn_c</td>\n",
       "      <td>0.08145</td>\n",
       "      <td>10</td>\n",
       "      <td>1.34%</td>\n",
       "    </tr>\n",
       "    <tr>\n",
       "      <td>trnaasp_c</td>\n",
       "      <td>SRC_trnaasp_c</td>\n",
       "      <td>0.1488</td>\n",
       "      <td>0</td>\n",
       "      <td>0.00%</td>\n",
       "    </tr>\n",
       "    <tr>\n",
       "      <td>trnacys_c</td>\n",
       "      <td>SRC_trnacys_c</td>\n",
       "      <td>0.02585</td>\n",
       "      <td>0</td>\n",
       "      <td>0.00%</td>\n",
       "    </tr>\n",
       "    <tr>\n",
       "      <td>trnagln_c</td>\n",
       "      <td>SRC_trnagln_c</td>\n",
       "      <td>0.08894</td>\n",
       "      <td>0</td>\n",
       "      <td>0.00%</td>\n",
       "    </tr>\n",
       "    <tr>\n",
       "      <td>trnaglu_c</td>\n",
       "      <td>SRC_trnaglu_c</td>\n",
       "      <td>0.1574</td>\n",
       "      <td>0</td>\n",
       "      <td>0.00%</td>\n",
       "    </tr>\n",
       "    <tr>\n",
       "      <td>trnagly_c</td>\n",
       "      <td>SRC_trnagly_c</td>\n",
       "      <td>0.3872</td>\n",
       "      <td>0</td>\n",
       "      <td>0.00%</td>\n",
       "    </tr>\n",
       "    <tr>\n",
       "      <td>trnahis_c</td>\n",
       "      <td>SRC_trnahis_c</td>\n",
       "      <td>0.04614</td>\n",
       "      <td>0</td>\n",
       "      <td>0.00%</td>\n",
       "    </tr>\n",
       "    <tr>\n",
       "      <td>trnaile_c</td>\n",
       "      <td>SRC_trnaile_c</td>\n",
       "      <td>0.1196</td>\n",
       "      <td>0</td>\n",
       "      <td>0.00%</td>\n",
       "    </tr>\n",
       "    <tr>\n",
       "      <td>trnaleu_c</td>\n",
       "      <td>SRC_trnaleu_c</td>\n",
       "      <td>0.2416</td>\n",
       "      <td>0</td>\n",
       "      <td>0.00%</td>\n",
       "    </tr>\n",
       "    <tr>\n",
       "      <td>trnalys_c</td>\n",
       "      <td>SRC_trnalys_c</td>\n",
       "      <td>0.13</td>\n",
       "      <td>0</td>\n",
       "      <td>0.00%</td>\n",
       "    </tr>\n",
       "    <tr>\n",
       "      <td>trnamet_c</td>\n",
       "      <td>SRC_trnamet_c</td>\n",
       "      <td>0.04304</td>\n",
       "      <td>0</td>\n",
       "      <td>0.00%</td>\n",
       "    </tr>\n",
       "    <tr>\n",
       "      <td>trnaphe_c</td>\n",
       "      <td>SRC_trnaphe_c</td>\n",
       "      <td>0.07179</td>\n",
       "      <td>0</td>\n",
       "      <td>0.00%</td>\n",
       "    </tr>\n",
       "    <tr>\n",
       "      <td>trnapro_c</td>\n",
       "      <td>SRC_trnapro_c</td>\n",
       "      <td>0.178</td>\n",
       "      <td>0</td>\n",
       "      <td>0.00%</td>\n",
       "    </tr>\n",
       "    <tr>\n",
       "      <td>trnaser_c</td>\n",
       "      <td>SRC_trnaser_c</td>\n",
       "      <td>0.2541</td>\n",
       "      <td>0</td>\n",
       "      <td>0.00%</td>\n",
       "    </tr>\n",
       "    <tr>\n",
       "      <td>trnathr_c</td>\n",
       "      <td>SRC_trnathr_c</td>\n",
       "      <td>0.1646</td>\n",
       "      <td>0</td>\n",
       "      <td>0.00%</td>\n",
       "    </tr>\n",
       "    <tr>\n",
       "      <td>trnatrp_c</td>\n",
       "      <td>SRC_trnatrp_c</td>\n",
       "      <td>0.01759</td>\n",
       "      <td>0</td>\n",
       "      <td>0.00%</td>\n",
       "    </tr>\n",
       "    <tr>\n",
       "      <td>trnatyr_c</td>\n",
       "      <td>SRC_trnatyr_c</td>\n",
       "      <td>0.04704</td>\n",
       "      <td>0</td>\n",
       "      <td>0.00%</td>\n",
       "    </tr>\n",
       "    <tr>\n",
       "      <td>trnaval_c</td>\n",
       "      <td>SRC_trnaval_c</td>\n",
       "      <td>0.2076</td>\n",
       "      <td>0</td>\n",
       "      <td>0.00%</td>\n",
       "    </tr>\n",
       "  </tbody>\n",
       "</table><h4>Secretion</h4><table border=\"1\" class=\"dataframe\">\n",
       "  <thead>\n",
       "    <tr style=\"text-align: right;\">\n",
       "      <th>Metabolite</th>\n",
       "      <th>Reaction</th>\n",
       "      <th>Flux</th>\n",
       "      <th>C-Number</th>\n",
       "      <th>C-Flux</th>\n",
       "    </tr>\n",
       "  </thead>\n",
       "  <tbody>\n",
       "    <tr>\n",
       "      <td>3aap_c</td>\n",
       "      <td>DM_3aap_c</td>\n",
       "      <td>-0.5343</td>\n",
       "      <td>5</td>\n",
       "      <td>8.87%</td>\n",
       "    </tr>\n",
       "    <tr>\n",
       "      <td>4oglu_c</td>\n",
       "      <td>DM_4oglu_c</td>\n",
       "      <td>-0.001051</td>\n",
       "      <td>5</td>\n",
       "      <td>0.02%</td>\n",
       "    </tr>\n",
       "    <tr>\n",
       "      <td>amob_m</td>\n",
       "      <td>DM_amob_m</td>\n",
       "      <td>-0.001824</td>\n",
       "      <td>15</td>\n",
       "      <td>0.09%</td>\n",
       "    </tr>\n",
       "    <tr>\n",
       "      <td>dad_5_m</td>\n",
       "      <td>DM_dad_5_m</td>\n",
       "      <td>-0.001824</td>\n",
       "      <td>10</td>\n",
       "      <td>0.06%</td>\n",
       "    </tr>\n",
       "    <tr>\n",
       "      <td>co2_e</td>\n",
       "      <td>EX_co2_e</td>\n",
       "      <td>-24.63</td>\n",
       "      <td>1</td>\n",
       "      <td>81.78%</td>\n",
       "    </tr>\n",
       "    <tr>\n",
       "      <td>fe2_e</td>\n",
       "      <td>EX_fe2_e</td>\n",
       "      <td>-0.003232</td>\n",
       "      <td>0</td>\n",
       "      <td>0.00%</td>\n",
       "    </tr>\n",
       "    <tr>\n",
       "      <td>h2o_e</td>\n",
       "      <td>EX_h2o_e</td>\n",
       "      <td>-41.71</td>\n",
       "      <td>0</td>\n",
       "      <td>0.00%</td>\n",
       "    </tr>\n",
       "    <tr>\n",
       "      <td>h_e</td>\n",
       "      <td>EX_h_e</td>\n",
       "      <td>-1.726</td>\n",
       "      <td>0</td>\n",
       "      <td>0.00%</td>\n",
       "    </tr>\n",
       "    <tr>\n",
       "      <td>hco3_e</td>\n",
       "      <td>EX_hco3_e</td>\n",
       "      <td>-0.0189</td>\n",
       "      <td>1</td>\n",
       "      <td>0.06%</td>\n",
       "    </tr>\n",
       "    <tr>\n",
       "      <td>zymst_e</td>\n",
       "      <td>EX_zymst_e</td>\n",
       "      <td>-0.1018</td>\n",
       "      <td>27</td>\n",
       "      <td>9.12%</td>\n",
       "    </tr>\n",
       "  </tbody>\n",
       "</table>"
      ],
      "text/plain": [
       "<cobra.summary.model_summary.ModelSummary at 0x28873b410>"
      ]
     },
     "execution_count": 7,
     "metadata": {},
     "output_type": "execute_result"
    }
   ],
   "source": [
    "rto.reactions.EX_glc__D_e.lower_bound=-10\n",
    "\n",
    "rto.summary()"
   ]
  },
  {
   "cell_type": "code",
   "execution_count": 8,
   "id": "4658d855",
   "metadata": {},
   "outputs": [
    {
     "data": {
      "text/html": [
       "<h3>Objective</h3><p>1.0 biomass_C = 1.139816617441404</p><h4>Uptake</h4><table border=\"1\" class=\"dataframe\">\n",
       "  <thead>\n",
       "    <tr style=\"text-align: right;\">\n",
       "      <th>Metabolite</th>\n",
       "      <th>Reaction</th>\n",
       "      <th>Flux</th>\n",
       "      <th>C-Number</th>\n",
       "      <th>C-Flux</th>\n",
       "    </tr>\n",
       "  </thead>\n",
       "  <tbody>\n",
       "    <tr>\n",
       "      <td>glc__D_e</td>\n",
       "      <td>EX_glc_e</td>\n",
       "      <td>10</td>\n",
       "      <td>6</td>\n",
       "      <td>100.00%</td>\n",
       "    </tr>\n",
       "    <tr>\n",
       "      <td>h_e</td>\n",
       "      <td>EX_h_e</td>\n",
       "      <td>0.3853</td>\n",
       "      <td>0</td>\n",
       "      <td>0.00%</td>\n",
       "    </tr>\n",
       "    <tr>\n",
       "      <td>nh4_e</td>\n",
       "      <td>EX_nh4_e</td>\n",
       "      <td>7.772</td>\n",
       "      <td>0</td>\n",
       "      <td>0.00%</td>\n",
       "    </tr>\n",
       "    <tr>\n",
       "      <td>o2_e</td>\n",
       "      <td>EX_o2_e</td>\n",
       "      <td>14.99</td>\n",
       "      <td>0</td>\n",
       "      <td>0.00%</td>\n",
       "    </tr>\n",
       "    <tr>\n",
       "      <td>pi_e</td>\n",
       "      <td>EX_pi_e</td>\n",
       "      <td>0.3853</td>\n",
       "      <td>0</td>\n",
       "      <td>0.00%</td>\n",
       "    </tr>\n",
       "    <tr>\n",
       "      <td>so4_e</td>\n",
       "      <td>EX_so4_e</td>\n",
       "      <td>0.07735</td>\n",
       "      <td>0</td>\n",
       "      <td>0.00%</td>\n",
       "    </tr>\n",
       "  </tbody>\n",
       "</table><h4>Secretion</h4><table border=\"1\" class=\"dataframe\">\n",
       "  <thead>\n",
       "    <tr style=\"text-align: right;\">\n",
       "      <th>Metabolite</th>\n",
       "      <th>Reaction</th>\n",
       "      <th>Flux</th>\n",
       "      <th>C-Number</th>\n",
       "      <th>C-Flux</th>\n",
       "    </tr>\n",
       "  </thead>\n",
       "  <tbody>\n",
       "    <tr>\n",
       "      <td>biomass_c</td>\n",
       "      <td>EX_biom</td>\n",
       "      <td>-1.14</td>\n",
       "      <td>0</td>\n",
       "      <td>0.00%</td>\n",
       "    </tr>\n",
       "    <tr>\n",
       "      <td>co2_e</td>\n",
       "      <td>EX_co2_e</td>\n",
       "      <td>-16.79</td>\n",
       "      <td>1</td>\n",
       "      <td>100.00%</td>\n",
       "    </tr>\n",
       "    <tr>\n",
       "      <td>h2o_e</td>\n",
       "      <td>EX_h2o_e</td>\n",
       "      <td>-32.53</td>\n",
       "      <td>0</td>\n",
       "      <td>0.00%</td>\n",
       "    </tr>\n",
       "  </tbody>\n",
       "</table>"
      ],
      "text/plain": [
       "<cobra.summary.model_summary.ModelSummary at 0x28c4c0550>"
      ]
     },
     "execution_count": 8,
     "metadata": {},
     "output_type": "execute_result"
    }
   ],
   "source": [
    "ylip.reactions.EX_glc_e.lower_bound=-10\n",
    "ylip.summary()"
   ]
  },
  {
   "cell_type": "code",
   "execution_count": 9,
   "id": "605a3186",
   "metadata": {},
   "outputs": [
    {
     "data": {
      "text/html": [
       "<h3>Objective</h3><p>1.0 r_2111 = 0.8471930218949472</p><h4>Uptake</h4><table border=\"1\" class=\"dataframe\">\n",
       "  <thead>\n",
       "    <tr style=\"text-align: right;\">\n",
       "      <th>Metabolite</th>\n",
       "      <th>Reaction</th>\n",
       "      <th>Flux</th>\n",
       "      <th>C-Number</th>\n",
       "      <th>C-Flux</th>\n",
       "    </tr>\n",
       "  </thead>\n",
       "  <tbody>\n",
       "    <tr>\n",
       "      <td>ca2_e</td>\n",
       "      <td>EX_ca2_e</td>\n",
       "      <td>0.0001838</td>\n",
       "      <td>0</td>\n",
       "      <td>0.00%</td>\n",
       "    </tr>\n",
       "    <tr>\n",
       "      <td>cl_e</td>\n",
       "      <td>EX_cl_e</td>\n",
       "      <td>0.001093</td>\n",
       "      <td>0</td>\n",
       "      <td>0.00%</td>\n",
       "    </tr>\n",
       "    <tr>\n",
       "      <td>cu2_e</td>\n",
       "      <td>EX_cu2_e</td>\n",
       "      <td>0.0005583</td>\n",
       "      <td>0</td>\n",
       "      <td>0.00%</td>\n",
       "    </tr>\n",
       "    <tr>\n",
       "      <td>fe2_e</td>\n",
       "      <td>EX_fe2_e</td>\n",
       "      <td>2.66E-05</td>\n",
       "      <td>0</td>\n",
       "      <td>0.00%</td>\n",
       "    </tr>\n",
       "    <tr>\n",
       "      <td>glc__D_e</td>\n",
       "      <td>EX_glc__D_e</td>\n",
       "      <td>10</td>\n",
       "      <td>6</td>\n",
       "      <td>100.00%</td>\n",
       "    </tr>\n",
       "    <tr>\n",
       "      <td>h_e</td>\n",
       "      <td>EX_h_e</td>\n",
       "      <td>0.4285</td>\n",
       "      <td>0</td>\n",
       "      <td>0.00%</td>\n",
       "    </tr>\n",
       "    <tr>\n",
       "      <td>k_e</td>\n",
       "      <td>EX_k_e</td>\n",
       "      <td>0.003075</td>\n",
       "      <td>0</td>\n",
       "      <td>0.00%</td>\n",
       "    </tr>\n",
       "    <tr>\n",
       "      <td>mg2_e</td>\n",
       "      <td>EX_mg2_e</td>\n",
       "      <td>0.001053</td>\n",
       "      <td>0</td>\n",
       "      <td>0.00%</td>\n",
       "    </tr>\n",
       "    <tr>\n",
       "      <td>mn2_e</td>\n",
       "      <td>EX_mn2_e</td>\n",
       "      <td>0.002313</td>\n",
       "      <td>0</td>\n",
       "      <td>0.00%</td>\n",
       "    </tr>\n",
       "    <tr>\n",
       "      <td>na1_e</td>\n",
       "      <td>EX_na1_e</td>\n",
       "      <td>0.003363</td>\n",
       "      <td>0</td>\n",
       "      <td>0.00%</td>\n",
       "    </tr>\n",
       "    <tr>\n",
       "      <td>nh4_e</td>\n",
       "      <td>EX_nh4_e</td>\n",
       "      <td>6.057</td>\n",
       "      <td>0</td>\n",
       "      <td>0.00%</td>\n",
       "    </tr>\n",
       "    <tr>\n",
       "      <td>o2_e</td>\n",
       "      <td>EX_o2_e</td>\n",
       "      <td>22.07</td>\n",
       "      <td>0</td>\n",
       "      <td>0.00%</td>\n",
       "    </tr>\n",
       "    <tr>\n",
       "      <td>pi_e</td>\n",
       "      <td>EX_pi_e</td>\n",
       "      <td>5.513</td>\n",
       "      <td>0</td>\n",
       "      <td>0.00%</td>\n",
       "    </tr>\n",
       "    <tr>\n",
       "      <td>so4_e</td>\n",
       "      <td>EX_so4_e</td>\n",
       "      <td>0.07287</td>\n",
       "      <td>0</td>\n",
       "      <td>0.00%</td>\n",
       "    </tr>\n",
       "    <tr>\n",
       "      <td>zn2_e</td>\n",
       "      <td>EX_zn2_e</td>\n",
       "      <td>0.0006337</td>\n",
       "      <td>0</td>\n",
       "      <td>0.00%</td>\n",
       "    </tr>\n",
       "  </tbody>\n",
       "</table><h4>Secretion</h4><table border=\"1\" class=\"dataframe\">\n",
       "  <thead>\n",
       "    <tr style=\"text-align: right;\">\n",
       "      <th>Metabolite</th>\n",
       "      <th>Reaction</th>\n",
       "      <th>Flux</th>\n",
       "      <th>C-Number</th>\n",
       "      <th>C-Flux</th>\n",
       "    </tr>\n",
       "  </thead>\n",
       "  <tbody>\n",
       "    <tr>\n",
       "      <td>co2_e</td>\n",
       "      <td>EX_co2_e</td>\n",
       "      <td>-23.48</td>\n",
       "      <td>1</td>\n",
       "      <td>100.00%</td>\n",
       "    </tr>\n",
       "    <tr>\n",
       "      <td>gcald_e</td>\n",
       "      <td>EX_gcald_e</td>\n",
       "      <td>-5.473E-05</td>\n",
       "      <td>2</td>\n",
       "      <td>0.00%</td>\n",
       "    </tr>\n",
       "    <tr>\n",
       "      <td>h2o_e</td>\n",
       "      <td>EX_h2o_e</td>\n",
       "      <td>-42.82</td>\n",
       "      <td>0</td>\n",
       "      <td>0.00%</td>\n",
       "    </tr>\n",
       "    <tr>\n",
       "      <td>ppi_e</td>\n",
       "      <td>EX_ppi_e</td>\n",
       "      <td>-2.544</td>\n",
       "      <td>0</td>\n",
       "      <td>0.00%</td>\n",
       "    </tr>\n",
       "    <tr>\n",
       "      <td>biomass_c</td>\n",
       "      <td>r_2111</td>\n",
       "      <td>-0.8472</td>\n",
       "      <td>0</td>\n",
       "      <td>0.00%</td>\n",
       "    </tr>\n",
       "  </tbody>\n",
       "</table>"
      ],
      "text/plain": [
       "<cobra.summary.model_summary.ModelSummary at 0x2886e7090>"
      ]
     },
     "execution_count": 9,
     "metadata": {},
     "output_type": "execute_result"
    }
   ],
   "source": [
    "sce.reactions.EX_glc__D_e.lower_bound=-10\n",
    "sce.summary()"
   ]
  },
  {
   "cell_type": "code",
   "execution_count": 10,
   "id": "0112a22d",
   "metadata": {},
   "outputs": [
    {
     "data": {
      "text/html": [
       "<h3>Objective</h3><p>1.0 BIOMASS_Ec_iJO1366_core_53p95M = 0.9823718127269814</p><h4>Uptake</h4><table border=\"1\" class=\"dataframe\">\n",
       "  <thead>\n",
       "    <tr style=\"text-align: right;\">\n",
       "      <th>Metabolite</th>\n",
       "      <th>Reaction</th>\n",
       "      <th>Flux</th>\n",
       "      <th>C-Number</th>\n",
       "      <th>C-Flux</th>\n",
       "    </tr>\n",
       "  </thead>\n",
       "  <tbody>\n",
       "    <tr>\n",
       "      <td>ca2_e</td>\n",
       "      <td>EX_ca2_e</td>\n",
       "      <td>0.005113</td>\n",
       "      <td>0</td>\n",
       "      <td>0.00%</td>\n",
       "    </tr>\n",
       "    <tr>\n",
       "      <td>cl_e</td>\n",
       "      <td>EX_cl_e</td>\n",
       "      <td>0.005113</td>\n",
       "      <td>0</td>\n",
       "      <td>0.00%</td>\n",
       "    </tr>\n",
       "    <tr>\n",
       "      <td>cobalt2_e</td>\n",
       "      <td>EX_cobalt2_e</td>\n",
       "      <td>2.456E-05</td>\n",
       "      <td>0</td>\n",
       "      <td>0.00%</td>\n",
       "    </tr>\n",
       "    <tr>\n",
       "      <td>cu2_e</td>\n",
       "      <td>EX_cu2_e</td>\n",
       "      <td>0.0006965</td>\n",
       "      <td>0</td>\n",
       "      <td>0.00%</td>\n",
       "    </tr>\n",
       "    <tr>\n",
       "      <td>fe2_e</td>\n",
       "      <td>EX_fe2_e</td>\n",
       "      <td>0.01578</td>\n",
       "      <td>0</td>\n",
       "      <td>0.00%</td>\n",
       "    </tr>\n",
       "    <tr>\n",
       "      <td>glc__D_e</td>\n",
       "      <td>EX_glc__D_e</td>\n",
       "      <td>10</td>\n",
       "      <td>6</td>\n",
       "      <td>100.00%</td>\n",
       "    </tr>\n",
       "    <tr>\n",
       "      <td>k_e</td>\n",
       "      <td>EX_k_e</td>\n",
       "      <td>0.1918</td>\n",
       "      <td>0</td>\n",
       "      <td>0.00%</td>\n",
       "    </tr>\n",
       "    <tr>\n",
       "      <td>mg2_e</td>\n",
       "      <td>EX_mg2_e</td>\n",
       "      <td>0.008522</td>\n",
       "      <td>0</td>\n",
       "      <td>0.00%</td>\n",
       "    </tr>\n",
       "    <tr>\n",
       "      <td>mn2_e</td>\n",
       "      <td>EX_mn2_e</td>\n",
       "      <td>0.0006788</td>\n",
       "      <td>0</td>\n",
       "      <td>0.00%</td>\n",
       "    </tr>\n",
       "    <tr>\n",
       "      <td>mobd_e</td>\n",
       "      <td>EX_mobd_e</td>\n",
       "      <td>0.0001267</td>\n",
       "      <td>0</td>\n",
       "      <td>0.00%</td>\n",
       "    </tr>\n",
       "    <tr>\n",
       "      <td>nh4_e</td>\n",
       "      <td>EX_nh4_e</td>\n",
       "      <td>10.61</td>\n",
       "      <td>0</td>\n",
       "      <td>0.00%</td>\n",
       "    </tr>\n",
       "    <tr>\n",
       "      <td>ni2_e</td>\n",
       "      <td>EX_ni2_e</td>\n",
       "      <td>0.0003173</td>\n",
       "      <td>0</td>\n",
       "      <td>0.00%</td>\n",
       "    </tr>\n",
       "    <tr>\n",
       "      <td>o2_e</td>\n",
       "      <td>EX_o2_e</td>\n",
       "      <td>17.58</td>\n",
       "      <td>0</td>\n",
       "      <td>0.00%</td>\n",
       "    </tr>\n",
       "    <tr>\n",
       "      <td>pi_e</td>\n",
       "      <td>EX_pi_e</td>\n",
       "      <td>0.9476</td>\n",
       "      <td>0</td>\n",
       "      <td>0.00%</td>\n",
       "    </tr>\n",
       "    <tr>\n",
       "      <td>so4_e</td>\n",
       "      <td>EX_so4_e</td>\n",
       "      <td>0.2478</td>\n",
       "      <td>0</td>\n",
       "      <td>0.00%</td>\n",
       "    </tr>\n",
       "    <tr>\n",
       "      <td>zn2_e</td>\n",
       "      <td>EX_zn2_e</td>\n",
       "      <td>0.000335</td>\n",
       "      <td>0</td>\n",
       "      <td>0.00%</td>\n",
       "    </tr>\n",
       "  </tbody>\n",
       "</table><h4>Secretion</h4><table border=\"1\" class=\"dataframe\">\n",
       "  <thead>\n",
       "    <tr style=\"text-align: right;\">\n",
       "      <th>Metabolite</th>\n",
       "      <th>Reaction</th>\n",
       "      <th>Flux</th>\n",
       "      <th>C-Number</th>\n",
       "      <th>C-Flux</th>\n",
       "    </tr>\n",
       "  </thead>\n",
       "  <tbody>\n",
       "    <tr>\n",
       "      <td>4crsol_c</td>\n",
       "      <td>DM_4crsol_c</td>\n",
       "      <td>-0.0002191</td>\n",
       "      <td>7</td>\n",
       "      <td>0.01%</td>\n",
       "    </tr>\n",
       "    <tr>\n",
       "      <td>5drib_c</td>\n",
       "      <td>DM_5drib_c</td>\n",
       "      <td>-0.000221</td>\n",
       "      <td>5</td>\n",
       "      <td>0.01%</td>\n",
       "    </tr>\n",
       "    <tr>\n",
       "      <td>amob_c</td>\n",
       "      <td>DM_amob_c</td>\n",
       "      <td>-1.965E-06</td>\n",
       "      <td>15</td>\n",
       "      <td>0.00%</td>\n",
       "    </tr>\n",
       "    <tr>\n",
       "      <td>mththf_c</td>\n",
       "      <td>DM_mththf_c</td>\n",
       "      <td>-0.0004401</td>\n",
       "      <td>5</td>\n",
       "      <td>0.01%</td>\n",
       "    </tr>\n",
       "    <tr>\n",
       "      <td>co2_e</td>\n",
       "      <td>EX_co2_e</td>\n",
       "      <td>-19.68</td>\n",
       "      <td>1</td>\n",
       "      <td>99.98%</td>\n",
       "    </tr>\n",
       "    <tr>\n",
       "      <td>h2o_e</td>\n",
       "      <td>EX_h2o_e</td>\n",
       "      <td>-45.62</td>\n",
       "      <td>0</td>\n",
       "      <td>0.00%</td>\n",
       "    </tr>\n",
       "    <tr>\n",
       "      <td>h_e</td>\n",
       "      <td>EX_h_e</td>\n",
       "      <td>-9.026</td>\n",
       "      <td>0</td>\n",
       "      <td>0.00%</td>\n",
       "    </tr>\n",
       "    <tr>\n",
       "      <td>meoh_e</td>\n",
       "      <td>EX_meoh_e</td>\n",
       "      <td>-1.965E-06</td>\n",
       "      <td>1</td>\n",
       "      <td>0.00%</td>\n",
       "    </tr>\n",
       "  </tbody>\n",
       "</table>"
      ],
      "text/plain": [
       "<cobra.summary.model_summary.ModelSummary at 0x28c14a590>"
      ]
     },
     "execution_count": 10,
     "metadata": {},
     "output_type": "execute_result"
    }
   ],
   "source": [
    "eco.reactions.EX_glc__D_e.lower_bound=-10\n",
    "eco.summary()"
   ]
  },
  {
   "cell_type": "markdown",
   "id": "7a668fdc",
   "metadata": {},
   "source": [
    "#### generate flux solutions for each model. "
   ]
  },
  {
   "cell_type": "code",
   "execution_count": 11,
   "id": "bb50fd99",
   "metadata": {},
   "outputs": [],
   "source": [
    "lst_glc_soln = pfba(lst)#.optimize()\n",
    "rto_glc_soln = pfba(rto)#.optimize()\n",
    "ylip_glc_soln = pfba(ylip)#.optimize()\n",
    "sce_glc_soln = pfba(sce)#.optimize()\n",
    "# eco_glc_soln = pfba(eco)#.optimize()\n"
   ]
  },
  {
   "cell_type": "markdown",
   "id": "171458f0",
   "metadata": {},
   "source": [
    "function to find reactions producing/consuming specified metabolites. "
   ]
  },
  {
   "cell_type": "code",
   "execution_count": 12,
   "id": "6da61a33",
   "metadata": {},
   "outputs": [],
   "source": [
    "\n",
    "def get_reaction_contribution_to_metabolite_production(metabolite_ids,solution,model=lst):\n",
    "    ''' Main routine that returns reactions that produce and consume a metabolite\n",
    "    \n",
    "    Args:\n",
    "        metabolite_ids (cobra.core.model.Model.metabolites.id):\n",
    "            Metabolite ID to find.\n",
    "        solution (cobra.flux_analysis.pfba):\n",
    "            pfba solution.\n",
    "        model (cobra.core.model.Model):\n",
    "            Genome-scael metabolic model to find metabolites and reactions.\n",
    "    '''\n",
    "    \n",
    "    \n",
    "    # Step 1: Calculate the total production.\n",
    "    total_production = 0\n",
    "    producing_reactions = {}\n",
    "    total_consumption = 0\n",
    "    consuming_reactions = {}\n",
    "    \n",
    "    for met_id in metabolite_ids:\n",
    "        metabolite = model.metabolites.get_by_id(met_id)\n",
    "        \n",
    "        for rxn in metabolite.reactions:\n",
    "            flux = solution.fluxes[rxn.id]\n",
    "            \n",
    "            if (rxn.id!='NADPHtru'):\n",
    "                # Check if the reaction produces the metabolite.\n",
    "                if (flux < 0 and (rxn.get_coefficient(met_id) < 0)) | (flux > 0 and (rxn.get_coefficient(met_id) > 0)):\n",
    "                    production = abs(rxn.get_coefficient(met_id)) * flux\n",
    "                    total_production += production\n",
    "\n",
    "                    # Store the individual production for this reaction.\n",
    "                    producing_reactions[rxn.id] = production\n",
    "\n",
    "                # Check if the reaction produces the metabolite.\n",
    "                if (flux > 0 and (rxn.get_coefficient(met_id) < 0)) | (flux < 0 and (rxn.get_coefficient(met_id) > 0)):\n",
    "                    consumption = abs(rxn.get_coefficient(met_id)) * abs(flux)\n",
    "                    total_consumption += consumption\n",
    "\n",
    "                    # Store the individual production for this reaction.\n",
    "                    consuming_reactions[rxn.id] = consumption\n",
    "\n",
    "    # Step 2: Calculate the percentage contribution.\n",
    "    reaction_contributions_produce = {}\n",
    "    for rxn_id, production in producing_reactions.items():\n",
    "        reaction_contributions_produce[rxn_id] = abs(production) / total_production * 100\n",
    "    \n",
    "    \n",
    "    # Step 2: Calculate the percentage contribution.\n",
    "    reaction_contributions_consume = {}\n",
    "    for rxn_id, consumption in consuming_reactions.items():\n",
    "        reaction_contributions_consume[rxn_id] = abs(consumption) / total_consumption * 100\n",
    "\n",
    "\n",
    "    return reaction_contributions_produce,reaction_contributions_consume\n"
   ]
  },
  {
   "cell_type": "markdown",
   "id": "e38f69d0",
   "metadata": {},
   "source": [
    "# Step one. Verify the subcellular location of the glyoxylate cycle and related proteins. \n",
    "\n",
    "Using the Bologna Unified Subcellular Component Annotator ([BUSCA](https://busca.biocomp.unibo.it/)) for predictions. For details see: Savojardo, C, Martelli, PL, Fariselli, P, Profiti, G, Casadio, R (2018) BUSCA: an integrative web server to predict subcellular localization of proteins. [Nucleid Acids Research, 46(W1), W459-W466.](https://academic.oup.com/nar/article/46/W1/W459/4990035?login=true)\n",
    "\n"
   ]
  },
  {
   "cell_type": "markdown",
   "id": "0e9f4355",
   "metadata": {},
   "source": [
    "#### Check current genes and locations in the model.  \n",
    "\n",
    "#### ICDH"
   ]
  },
  {
   "cell_type": "code",
   "execution_count": 15,
   "id": "57145ec2",
   "metadata": {},
   "outputs": [
    {
     "data": {
      "text/html": [
       "\n",
       "        <table>\n",
       "            <tr>\n",
       "                <td><strong>Reaction identifier</strong></td><td>ICDHyp</td>\n",
       "            </tr><tr>\n",
       "                <td><strong>Name</strong></td><td>Isocitrate dehydrogenase NADP</td>\n",
       "            </tr><tr>\n",
       "                <td><strong>Memory address</strong></td>\n",
       "                <td>0x17cb03e50</td>\n",
       "            </tr><tr>\n",
       "                <td><strong>Stoichiometry</strong></td>\n",
       "                <td>\n",
       "                    <p style='text-align:right'>icit_x + nadp_x --> akg_x + co2_x + nadph_x</p>\n",
       "                    <p style='text-align:right'>Isocitrate + Nicotinamide adenine dinucleotide phosphate --> 2-Oxoglutarate + CO2 + Nicotinamide adenine dinucleotide phosphate - reduced</p>\n",
       "                </td>\n",
       "            </tr><tr>\n",
       "                <td><strong>GPR</strong></td><td>Lipst1_1_85639</td>\n",
       "            </tr><tr>\n",
       "                <td><strong>Lower bound</strong></td><td>0.0</td>\n",
       "            </tr><tr>\n",
       "                <td><strong>Upper bound</strong></td><td>1000.0</td>\n",
       "            </tr>\n",
       "        </table>\n",
       "        "
      ],
      "text/plain": [
       "<Reaction ICDHyp at 0x17cb03e50>"
      ]
     },
     "execution_count": 15,
     "metadata": {},
     "output_type": "execute_result"
    }
   ],
   "source": [
    "lst.reactions.ICDHyp"
   ]
  },
  {
   "cell_type": "markdown",
   "id": "c9bc5edb",
   "metadata": {},
   "source": [
    "#### location result check. \n",
    "\n",
    "\n",
    "- BUSCA predicts cytoplasm. \n",
    "- Deeploc predicts peroxisomal targeting signal. "
   ]
  },
  {
   "cell_type": "markdown",
   "id": "06177dee",
   "metadata": {},
   "source": [
    "move reaction to both compartments. "
   ]
  },
  {
   "cell_type": "code",
   "execution_count": 16,
   "id": "1cb2a906",
   "metadata": {},
   "outputs": [],
   "source": [
    "r = lst.reactions.ICDHyp.copy()\n",
    "r.id = \"ICDHy\"\n",
    "\n",
    "r.add_metabolites({lst.metabolites.nadp_c: -1,\n",
    "                  lst.metabolites.nadp_x: 1,\n",
    "                  lst.metabolites.nadph_x: -1,\n",
    "                  lst.metabolites.nadph_c: 1,\n",
    "                  lst.metabolites.icit_x: 1,\n",
    "                  lst.metabolites.icit_c: -1,\n",
    "                  lst.metabolites.akg_c: 1,\n",
    "                  lst.metabolites.akg_x: -1,\n",
    "                  lst.metabolites.co2_c: 1,\n",
    "                  lst.metabolites.co2_x: -1                  \n",
    "                  \n",
    "                  })\n",
    "lst.add_reactions([r])"
   ]
  },
  {
   "cell_type": "code",
   "execution_count": 11,
   "id": "96d59820",
   "metadata": {},
   "outputs": [],
   "source": [
    "# r = lst.reactions.ICDHyp.copy()\n",
    "# r.id = \"ICDHym\"\n",
    "\n",
    "# r.add_metabolites({lst.metabolites.nadp_m: -1,\n",
    "#                   lst.metabolites.nadp_x: 1,\n",
    "#                   lst.metabolites.nadph_x: -1,\n",
    "#                   lst.metabolites.nadph_m: 1,\n",
    "#                   lst.metabolites.icit_x: 1,\n",
    "#                   lst.metabolites.icit_m: -1,\n",
    "#                   lst.metabolites.akg_m: 1,\n",
    "#                   lst.metabolites.akg_x: -1,\n",
    "#                   lst.metabolites.co2_m: 1,\n",
    "#                   lst.metabolites.co2_x: -1                  \n",
    "                  \n",
    "#                   })\n",
    "# lst.add_reactions([r])"
   ]
  },
  {
   "cell_type": "code",
   "execution_count": 17,
   "id": "e0ff23e9",
   "metadata": {},
   "outputs": [
    {
     "data": {
      "text/html": [
       "\n",
       "        <table>\n",
       "            <tr>\n",
       "                <td><strong>Reaction identifier</strong></td><td>ICDHxm</td>\n",
       "            </tr><tr>\n",
       "                <td><strong>Name</strong></td><td>Isocitrate dehydrogenase NAD</td>\n",
       "            </tr><tr>\n",
       "                <td><strong>Memory address</strong></td>\n",
       "                <td>0x17cc6c590</td>\n",
       "            </tr><tr>\n",
       "                <td><strong>Stoichiometry</strong></td>\n",
       "                <td>\n",
       "                    <p style='text-align:right'>icit_m + nad_m --> akg_m + co2_m + nadh_m</p>\n",
       "                    <p style='text-align:right'>Isocitrate + Nicotinamide adenine dinucleotide --> 2-Oxoglutarate + CO2 CO2 + Nicotinamide adenine dinucleotide - reduced</p>\n",
       "                </td>\n",
       "            </tr><tr>\n",
       "                <td><strong>GPR</strong></td><td>Lipst1_1_70496 or Lipst1_1_4980</td>\n",
       "            </tr><tr>\n",
       "                <td><strong>Lower bound</strong></td><td>0.0</td>\n",
       "            </tr><tr>\n",
       "                <td><strong>Upper bound</strong></td><td>1000.0</td>\n",
       "            </tr>\n",
       "        </table>\n",
       "        "
      ],
      "text/plain": [
       "<Reaction ICDHxm at 0x17cc6c590>"
      ]
     },
     "execution_count": 17,
     "metadata": {},
     "output_type": "execute_result"
    }
   ],
   "source": [
    "lst.reactions.ICDHxm"
   ]
  },
  {
   "cell_type": "markdown",
   "id": "2ded6f08",
   "metadata": {},
   "source": [
    "#### predictions. \n",
    "- Lipst1_1_70496:  mitochondrial.\n",
    "- Lipst1_1_4980: mitochondrial.\n",
    "\n",
    "\n",
    "\n",
    "https://busca.biocomp.unibo.it/\n",
    "\n"
   ]
  },
  {
   "cell_type": "markdown",
   "id": "4d702bff",
   "metadata": {},
   "source": [
    "#### Citrate synthase. "
   ]
  },
  {
   "cell_type": "code",
   "execution_count": 18,
   "id": "ef2f475c",
   "metadata": {},
   "outputs": [
    {
     "data": {
      "text/html": [
       "\n",
       "        <table>\n",
       "            <tr>\n",
       "                <td><strong>Reaction identifier</strong></td><td>CSm</td>\n",
       "            </tr><tr>\n",
       "                <td><strong>Name</strong></td><td>Citrate synthase</td>\n",
       "            </tr><tr>\n",
       "                <td><strong>Memory address</strong></td>\n",
       "                <td>0x17c928cd0</td>\n",
       "            </tr><tr>\n",
       "                <td><strong>Stoichiometry</strong></td>\n",
       "                <td>\n",
       "                    <p style='text-align:right'>accoa_m + h2o_m + oaa_m --> cit_m + coa_m + h_m</p>\n",
       "                    <p style='text-align:right'>Acetyl-CoA + H2O H2O + Oxaloacetate --> Citrate + Coenzyme A + H+</p>\n",
       "                </td>\n",
       "            </tr><tr>\n",
       "                <td><strong>GPR</strong></td><td>Lipst1_1_92627 or Lipst1_1_47067</td>\n",
       "            </tr><tr>\n",
       "                <td><strong>Lower bound</strong></td><td>0.0</td>\n",
       "            </tr><tr>\n",
       "                <td><strong>Upper bound</strong></td><td>1000.0</td>\n",
       "            </tr>\n",
       "        </table>\n",
       "        "
      ],
      "text/plain": [
       "<Reaction CSm at 0x17c928cd0>"
      ]
     },
     "execution_count": 18,
     "metadata": {},
     "output_type": "execute_result"
    }
   ],
   "source": [
    "lst.reactions.CSm"
   ]
  },
  {
   "cell_type": "code",
   "execution_count": 19,
   "id": "cb271532",
   "metadata": {},
   "outputs": [
    {
     "data": {
      "text/html": [
       "\n",
       "        <table>\n",
       "            <tr>\n",
       "                <td><strong>Reaction identifier</strong></td><td>CSp</td>\n",
       "            </tr><tr>\n",
       "                <td><strong>Name</strong></td><td>Citrate synthase</td>\n",
       "            </tr><tr>\n",
       "                <td><strong>Memory address</strong></td>\n",
       "                <td>0x17c8fcf10</td>\n",
       "            </tr><tr>\n",
       "                <td><strong>Stoichiometry</strong></td>\n",
       "                <td>\n",
       "                    <p style='text-align:right'>accoa_x + h2o_x + oaa_x --> cit_x + coa_x + h_x</p>\n",
       "                    <p style='text-align:right'>Acetyl-CoA + H2O H2O + Oxaloacetate --> Citrate + Coenzyme A + H+</p>\n",
       "                </td>\n",
       "            </tr><tr>\n",
       "                <td><strong>GPR</strong></td><td>Lipst1_1_68065 or Lipst1_1_47067</td>\n",
       "            </tr><tr>\n",
       "                <td><strong>Lower bound</strong></td><td>0.0</td>\n",
       "            </tr><tr>\n",
       "                <td><strong>Upper bound</strong></td><td>1000.0</td>\n",
       "            </tr>\n",
       "        </table>\n",
       "        "
      ],
      "text/plain": [
       "<Reaction CSp at 0x17c8fcf10>"
      ]
     },
     "execution_count": 19,
     "metadata": {},
     "output_type": "execute_result"
    }
   ],
   "source": [
    "lst.reactions.CSp"
   ]
  },
  {
   "cell_type": "markdown",
   "id": "dda627a1",
   "metadata": {},
   "source": [
    "location check. "
   ]
  },
  {
   "cell_type": "markdown",
   "id": "ec60beb5",
   "metadata": {},
   "source": [
    "\n",
    "protein: 68065 \n",
    "- bucas: cytoplasm.\n",
    "- Deeploc: peroxisome.\n",
    "\n",
    "protein: 47067 \n",
    "\n",
    "- bucas: mitochondrial membrane. \n",
    "- Deeploc - cytoplasm with probability of mito.  \n",
    "\n",
    "protein: 92627 \n",
    "\n",
    "- bucas: mitochondrial membrane. \n",
    "- Deeploc - cytoplasm with some probability of mito. \n"
   ]
  },
  {
   "cell_type": "markdown",
   "id": "3509e98f",
   "metadata": {},
   "source": [
    "modify CSp location and GPR."
   ]
  },
  {
   "cell_type": "markdown",
   "id": "1a035acf",
   "metadata": {},
   "source": [
    "#### added reaction #1. "
   ]
  },
  {
   "cell_type": "code",
   "execution_count": 20,
   "id": "ecb95679",
   "metadata": {},
   "outputs": [],
   "source": [
    "## not coppying reaction, moving location. \n",
    "r = lst.reactions.CSp.copy()\n",
    "r.id = 'CS'\n",
    "r.add_metabolites({lst.metabolites.accoa_x: 1,\n",
    "                  lst.metabolites.accoa_c: -1,\n",
    "                  lst.metabolites.h2o_x: 1,\n",
    "                  lst.metabolites.h2o_c: -1,\n",
    "                  lst.metabolites.oaa_x: 1,\n",
    "                  lst.metabolites.oaa_c: -1,\n",
    "                  lst.metabolites.cit_x: -1,\n",
    "                  lst.metabolites.cit_c: 1,\n",
    "                  lst.metabolites.coa_x: -1,\n",
    "                  lst.metabolites.coa_c: 1,\n",
    "                  lst.metabolites.h_x: -1, \n",
    "                  lst.metabolites.h_c: 1\n",
    "                  \n",
    "                  })\n",
    "\n",
    "r.gene_reaction_rule = 'Lipst1_1_68065'\n",
    "lst.add_reactions([r])"
   ]
  },
  {
   "cell_type": "code",
   "execution_count": 21,
   "id": "39f58dcb",
   "metadata": {},
   "outputs": [],
   "source": [
    "r = lst.reactions.CSp\n",
    "r.gene_reaction_rule = 'Lipst1_1_68065'\n"
   ]
  },
  {
   "cell_type": "code",
   "execution_count": 22,
   "id": "7e65560e",
   "metadata": {},
   "outputs": [
    {
     "data": {
      "text/html": [
       "\n",
       "        <table>\n",
       "            <tr>\n",
       "                <td><strong>Reaction identifier</strong></td><td>CSp</td>\n",
       "            </tr><tr>\n",
       "                <td><strong>Name</strong></td><td>Citrate synthase</td>\n",
       "            </tr><tr>\n",
       "                <td><strong>Memory address</strong></td>\n",
       "                <td>0x17c8fcf10</td>\n",
       "            </tr><tr>\n",
       "                <td><strong>Stoichiometry</strong></td>\n",
       "                <td>\n",
       "                    <p style='text-align:right'>accoa_x + h2o_x + oaa_x --> cit_x + coa_x + h_x</p>\n",
       "                    <p style='text-align:right'>Acetyl-CoA + H2O H2O + Oxaloacetate --> Citrate + Coenzyme A + H+</p>\n",
       "                </td>\n",
       "            </tr><tr>\n",
       "                <td><strong>GPR</strong></td><td>Lipst1_1_68065</td>\n",
       "            </tr><tr>\n",
       "                <td><strong>Lower bound</strong></td><td>0.0</td>\n",
       "            </tr><tr>\n",
       "                <td><strong>Upper bound</strong></td><td>1000.0</td>\n",
       "            </tr>\n",
       "        </table>\n",
       "        "
      ],
      "text/plain": [
       "<Reaction CSp at 0x17c8fcf10>"
      ]
     },
     "execution_count": 22,
     "metadata": {},
     "output_type": "execute_result"
    }
   ],
   "source": [
    "r"
   ]
  },
  {
   "cell_type": "markdown",
   "id": "dd23f72c",
   "metadata": {},
   "source": [
    "#### exmaine malate dehydrogenase. \n",
    "\n"
   ]
  },
  {
   "cell_type": "code",
   "execution_count": 23,
   "id": "2ec1a924",
   "metadata": {},
   "outputs": [
    {
     "data": {
      "text/html": [
       "\n",
       "        <table>\n",
       "            <tr>\n",
       "                <td><strong>Reaction identifier</strong></td><td>MDHp</td>\n",
       "            </tr><tr>\n",
       "                <td><strong>Name</strong></td><td>Malate dehydrogenase peroxisomal</td>\n",
       "            </tr><tr>\n",
       "                <td><strong>Memory address</strong></td>\n",
       "                <td>0x17ccc6210</td>\n",
       "            </tr><tr>\n",
       "                <td><strong>Stoichiometry</strong></td>\n",
       "                <td>\n",
       "                    <p style='text-align:right'>mal__L_x + nad_x <=> h_x + nadh_x + oaa_x</p>\n",
       "                    <p style='text-align:right'>(S)-Malate + NAD+ <=> H+ + NADH + Oxaloacetate</p>\n",
       "                </td>\n",
       "            </tr><tr>\n",
       "                <td><strong>GPR</strong></td><td>Lipst1_1_3988 or Lipst1_1_5229</td>\n",
       "            </tr><tr>\n",
       "                <td><strong>Lower bound</strong></td><td>-1000.0</td>\n",
       "            </tr><tr>\n",
       "                <td><strong>Upper bound</strong></td><td>1000.0</td>\n",
       "            </tr>\n",
       "        </table>\n",
       "        "
      ],
      "text/plain": [
       "<Reaction MDHp at 0x17ccc6210>"
      ]
     },
     "execution_count": 23,
     "metadata": {},
     "output_type": "execute_result"
    }
   ],
   "source": [
    "lst.reactions.MDHp"
   ]
  },
  {
   "cell_type": "code",
   "execution_count": 24,
   "id": "a7b8b2ce",
   "metadata": {},
   "outputs": [
    {
     "data": {
      "text/html": [
       "\n",
       "        <table>\n",
       "            <tr>\n",
       "                <td><strong>Reaction identifier</strong></td><td>MDHm</td>\n",
       "            </tr><tr>\n",
       "                <td><strong>Name</strong></td><td>Malate dehydrogenase mitochondrial</td>\n",
       "            </tr><tr>\n",
       "                <td><strong>Memory address</strong></td>\n",
       "                <td>0x17cb78750</td>\n",
       "            </tr><tr>\n",
       "                <td><strong>Stoichiometry</strong></td>\n",
       "                <td>\n",
       "                    <p style='text-align:right'>mal__L_m + nad_m <=> h_m + nadh_m + oaa_m</p>\n",
       "                    <p style='text-align:right'>L-Malate + Nicotinamide adenine dinucleotide <=> H+ + Nicotinamide adenine dinucleotide - reduced + Oxaloacetate</p>\n",
       "                </td>\n",
       "            </tr><tr>\n",
       "                <td><strong>GPR</strong></td><td>Lipst1_1_5229</td>\n",
       "            </tr><tr>\n",
       "                <td><strong>Lower bound</strong></td><td>-1000.0</td>\n",
       "            </tr><tr>\n",
       "                <td><strong>Upper bound</strong></td><td>1000.0</td>\n",
       "            </tr>\n",
       "        </table>\n",
       "        "
      ],
      "text/plain": [
       "<Reaction MDHm at 0x17cb78750>"
      ]
     },
     "execution_count": 24,
     "metadata": {},
     "output_type": "execute_result"
    }
   ],
   "source": [
    "lst.reactions.MDHm"
   ]
  },
  {
   "cell_type": "markdown",
   "id": "b2b05418",
   "metadata": {},
   "source": [
    "#### examine malate dehydrogenase.\n",
    "\n",
    "\n",
    "Lipst1_1_3988:\n",
    "- BUsCA - secreted - (note, this is unlikely to be secreted in reality). \n",
    "- DeepLoc: leaving in cytoplasm location. \n",
    "\n",
    "Lipst1_1_5229:\n",
    "- BUSCA cytoplasm.\n",
    "- DeepLoc: Lysome/Vaculoue. \n",
    "\n",
    "unclear predictions.\n",
    "setting to 'or' GPR."
   ]
  },
  {
   "cell_type": "markdown",
   "id": "31e75202",
   "metadata": {},
   "source": [
    "####  MDHp to be in cytoplasm. "
   ]
  },
  {
   "cell_type": "code",
   "execution_count": 25,
   "id": "1d813c58",
   "metadata": {},
   "outputs": [],
   "source": [
    "lst.reactions.MDHm.gene_reaction_rule = 'Lipst1_1_5229 or Lipst1_1_3988'"
   ]
  },
  {
   "cell_type": "code",
   "execution_count": 26,
   "id": "dccabd0c",
   "metadata": {},
   "outputs": [],
   "source": [
    "lst.reactions.MDHp.gene_reaction_rule = 'Lipst1_1_5229 or Lipst1_1_3988'"
   ]
  },
  {
   "cell_type": "code",
   "execution_count": 27,
   "id": "86ace2c6",
   "metadata": {},
   "outputs": [],
   "source": [
    "# move MDHp to cytoplasm.\n",
    "r = lst.reactions.MDHp.copy()\n",
    "# r = lst.reactions.MDHp\n",
    "\n",
    "r.id = 'MDH'\n",
    "r.name = 'Malate dehydrogenase'\n",
    "r.add_metabolites({lst.metabolites.mal__L_x: 1,\n",
    "                  lst.metabolites.mal__L_c: -1,\n",
    "                  lst.metabolites.nad_x: 1,\n",
    "                  lst.metabolites.nad_c: -1,\n",
    "                  lst.metabolites.h_x: -1,\n",
    "                  lst.metabolites.h_c: 1,\n",
    "                  lst.metabolites.nadh_c: 1,\n",
    "                  lst.metabolites.nadh_x: -1,\n",
    "                  lst.metabolites.oaa_c: 1,\n",
    "                  lst.metabolites.oaa_x: -1,\n",
    "                                     \n",
    "                  })\n",
    "\n",
    "lst.add_reactions([r])\n",
    "\n",
    "# r"
   ]
  },
  {
   "cell_type": "markdown",
   "id": "c5f5974e",
   "metadata": {},
   "source": [
    "#### check Malate synthase.\n",
    "\n"
   ]
  },
  {
   "cell_type": "code",
   "execution_count": 28,
   "id": "d6bc06c6",
   "metadata": {},
   "outputs": [
    {
     "data": {
      "text/html": [
       "\n",
       "        <table>\n",
       "            <tr>\n",
       "                <td><strong>Reaction identifier</strong></td><td>MALSp</td>\n",
       "            </tr><tr>\n",
       "                <td><strong>Name</strong></td><td>Malate synthase</td>\n",
       "            </tr><tr>\n",
       "                <td><strong>Memory address</strong></td>\n",
       "                <td>0x17e431a50</td>\n",
       "            </tr><tr>\n",
       "                <td><strong>Stoichiometry</strong></td>\n",
       "                <td>\n",
       "                    <p style='text-align:right'>accoa_x + glx_x + h2o_x --> coa_x + h_x + mal__L_x</p>\n",
       "                    <p style='text-align:right'>Acetyl-CoA + Glyoxylate + H2O H2O --> Coenzyme A + H+ + (S)-Malate</p>\n",
       "                </td>\n",
       "            </tr><tr>\n",
       "                <td><strong>GPR</strong></td><td>Lipst1_1_73436</td>\n",
       "            </tr><tr>\n",
       "                <td><strong>Lower bound</strong></td><td>0.0</td>\n",
       "            </tr><tr>\n",
       "                <td><strong>Upper bound</strong></td><td>1000.0</td>\n",
       "            </tr>\n",
       "        </table>\n",
       "        "
      ],
      "text/plain": [
       "<Reaction MALSp at 0x17e431a50>"
      ]
     },
     "execution_count": 28,
     "metadata": {},
     "output_type": "execute_result"
    }
   ],
   "source": [
    "lst.reactions.MALSp"
   ]
  },
  {
   "cell_type": "markdown",
   "id": "d4c2c2b4",
   "metadata": {},
   "source": [
    "Lipst1_1_73436. Malate synthase. \n",
    "- BUSCA: cytoplasm.\n",
    "- Deeploc: peroxisome. "
   ]
  },
  {
   "cell_type": "code",
   "execution_count": 29,
   "id": "22a083ed",
   "metadata": {},
   "outputs": [
    {
     "data": {
      "text/html": [
       "\n",
       "        <table>\n",
       "            <tr>\n",
       "                <td><strong>Reaction identifier</strong></td><td>MALS</td>\n",
       "            </tr><tr>\n",
       "                <td><strong>Name</strong></td><td>Malate synthase</td>\n",
       "            </tr><tr>\n",
       "                <td><strong>Memory address</strong></td>\n",
       "                <td>0x17e55eb10</td>\n",
       "            </tr><tr>\n",
       "                <td><strong>Stoichiometry</strong></td>\n",
       "                <td>\n",
       "                    <p style='text-align:right'>accoa_c + glx_c + h2o_c --> coa_c + h_c + mal__L_c</p>\n",
       "                    <p style='text-align:right'>Acetyl-CoA + Glyoxylate + H2O H2O --> Coenzyme A + H+ + L-Malate</p>\n",
       "                </td>\n",
       "            </tr><tr>\n",
       "                <td><strong>GPR</strong></td><td>Lipst1_1_73436</td>\n",
       "            </tr><tr>\n",
       "                <td><strong>Lower bound</strong></td><td>0.0</td>\n",
       "            </tr><tr>\n",
       "                <td><strong>Upper bound</strong></td><td>1000.0</td>\n",
       "            </tr>\n",
       "        </table>\n",
       "        "
      ],
      "text/plain": [
       "<Reaction MALS at 0x17e55eb10>"
      ]
     },
     "execution_count": 29,
     "metadata": {},
     "output_type": "execute_result"
    }
   ],
   "source": [
    "r = lst.reactions.MALSp.copy()\n",
    "\n",
    "r.id = 'MALS'\n",
    "r.name = 'Malate synthase'\n",
    "r.add_metabolites({lst.metabolites.accoa_x: 1,\n",
    "                  lst.metabolites.accoa_c: -1,\n",
    "                  lst.metabolites.glx_x: 1,\n",
    "                  lst.metabolites.glx_c: -1,\n",
    "                  lst.metabolites.h2o_x: 1,\n",
    "                  lst.metabolites.h2o_c: -1,\n",
    "                  lst.metabolites.coa_c: 1,\n",
    "                  lst.metabolites.coa_x: -1,\n",
    "                  lst.metabolites.h_c: 1,\n",
    "                  lst.metabolites.h_x: -1,\n",
    "                  lst.metabolites.mal__L_c: 1,\n",
    "                  lst.metabolites.mal__L_x: -1})\n",
    "lst.add_reactions([r])\n",
    "r                          "
   ]
  },
  {
   "cell_type": "markdown",
   "id": "d1654aaf",
   "metadata": {},
   "source": [
    "#### incomplete glyoxlyate cycle in mitochondria without MALSm. Add to model.\n",
    "\n"
   ]
  },
  {
   "cell_type": "code",
   "execution_count": 105,
   "id": "1564ca4e",
   "metadata": {},
   "outputs": [
    {
     "data": {
      "text/html": [
       "\n",
       "        <table>\n",
       "            <tr>\n",
       "                <td><strong>Reaction identifier</strong></td><td>MALSm</td>\n",
       "            </tr><tr>\n",
       "                <td><strong>Name</strong></td><td>Malate synthase</td>\n",
       "            </tr><tr>\n",
       "                <td><strong>Memory address</strong></td>\n",
       "                <td>0x28bf53010</td>\n",
       "            </tr><tr>\n",
       "                <td><strong>Stoichiometry</strong></td>\n",
       "                <td>\n",
       "                    <p style='text-align:right'>accoa_m + glx_m + h2o_m --> coa_m + h_m + mal__L_m</p>\n",
       "                    <p style='text-align:right'>Acetyl-CoA + Glyoxylate + H2O H2O --> Coenzyme A + H+ + L-Malate</p>\n",
       "                </td>\n",
       "            </tr><tr>\n",
       "                <td><strong>GPR</strong></td><td>Lipst1_1_73436</td>\n",
       "            </tr><tr>\n",
       "                <td><strong>Lower bound</strong></td><td>0.0</td>\n",
       "            </tr><tr>\n",
       "                <td><strong>Upper bound</strong></td><td>1000.0</td>\n",
       "            </tr>\n",
       "        </table>\n",
       "        "
      ],
      "text/plain": [
       "<Reaction MALSm at 0x28bf53010>"
      ]
     },
     "execution_count": 105,
     "metadata": {},
     "output_type": "execute_result"
    }
   ],
   "source": [
    "r = lst.reactions.MALSp.copy()\n",
    "\n",
    "r.id = 'MALSm'\n",
    "r.name = 'Malate synthase'\n",
    "r.add_metabolites({lst.metabolites.accoa_x: 1,\n",
    "                  lst.metabolites.accoa_m: -1,\n",
    "                  lst.metabolites.glx_x: 1,\n",
    "                  lst.metabolites.glx_m: -1,\n",
    "                  lst.metabolites.h2o_x: 1,\n",
    "                  lst.metabolites.h2o_m: -1,\n",
    "                  lst.metabolites.coa_m: 1,\n",
    "                  lst.metabolites.coa_x: -1,\n",
    "                  lst.metabolites.h_m: 1,\n",
    "                  lst.metabolites.h_x: -1,\n",
    "                  lst.metabolites.mal__L_m: 1,\n",
    "                  lst.metabolites.mal__L_x: -1})\n",
    "lst.add_reactions([r])\n",
    "r                          "
   ]
  },
  {
   "cell_type": "markdown",
   "id": "d6f357b0",
   "metadata": {},
   "source": [
    "#### Isocitrate lyase. "
   ]
  },
  {
   "cell_type": "code",
   "execution_count": 30,
   "id": "b7c86e9c",
   "metadata": {},
   "outputs": [
    {
     "data": {
      "text/html": [
       "\n",
       "        <table>\n",
       "            <tr>\n",
       "                <td><strong>Reaction identifier</strong></td><td>ICLp</td>\n",
       "            </tr><tr>\n",
       "                <td><strong>Name</strong></td><td>Isocitrate lyase</td>\n",
       "            </tr><tr>\n",
       "                <td><strong>Memory address</strong></td>\n",
       "                <td>0x17ce85e90</td>\n",
       "            </tr><tr>\n",
       "                <td><strong>Stoichiometry</strong></td>\n",
       "                <td>\n",
       "                    <p style='text-align:right'>icit_x --> glx_x + succ_x</p>\n",
       "                    <p style='text-align:right'>Isocitrate --> Glyoxylate + Succinate</p>\n",
       "                </td>\n",
       "            </tr><tr>\n",
       "                <td><strong>GPR</strong></td><td>Lipst1_1_112377 or Lipst1_1_75138</td>\n",
       "            </tr><tr>\n",
       "                <td><strong>Lower bound</strong></td><td>0.0</td>\n",
       "            </tr><tr>\n",
       "                <td><strong>Upper bound</strong></td><td>1000.0</td>\n",
       "            </tr>\n",
       "        </table>\n",
       "        "
      ],
      "text/plain": [
       "<Reaction ICLp at 0x17ce85e90>"
      ]
     },
     "execution_count": 30,
     "metadata": {},
     "output_type": "execute_result"
    }
   ],
   "source": [
    "lst.reactions.ICLp"
   ]
  },
  {
   "cell_type": "markdown",
   "id": "5f7e2c07",
   "metadata": {},
   "source": [
    "#### Isocitrate lyase. \n",
    "\n",
    "- Lipst1_1_112377 \n",
    "    - BUSCA: cytoplasm\n",
    "    - Deeploc: cytoplasm with peroxisome signalling. \n",
    "- Lipst1_1_75138 \n",
    "    - mitochondria"
   ]
  },
  {
   "cell_type": "code",
   "execution_count": 31,
   "id": "7aee9307",
   "metadata": {},
   "outputs": [],
   "source": [
    "r = lst.reactions.ICLp.copy()\n",
    "r.id = 'ICL'\n",
    "r.name = 'Isocitrate lyase'\n",
    "r.gene_reaction_rule = 'Lipst1_1_112377'\n",
    "r.add_metabolites({lst.metabolites.icit_c: -1,\n",
    "                  lst.metabolites.icit_x: 1,\n",
    "                  lst.metabolites.glx_x: -1,\n",
    "                  lst.metabolites.glx_c: 1,\n",
    "                  lst.metabolites.succ_x: -1,\n",
    "                  lst.metabolites.succ_c: 1,\n",
    "                                     \n",
    "                  })\n",
    "\n",
    "r\n",
    "lst.add_reactions([r])"
   ]
  },
  {
   "cell_type": "code",
   "execution_count": 32,
   "id": "bfbb3d09",
   "metadata": {},
   "outputs": [
    {
     "data": {
      "text/html": [
       "\n",
       "        <table>\n",
       "            <tr>\n",
       "                <td><strong>Reaction identifier</strong></td><td>ICLm</td>\n",
       "            </tr><tr>\n",
       "                <td><strong>Name</strong></td><td>Isocitrate lyase mitochondria</td>\n",
       "            </tr><tr>\n",
       "                <td><strong>Memory address</strong></td>\n",
       "                <td>0x28be6d7d0</td>\n",
       "            </tr><tr>\n",
       "                <td><strong>Stoichiometry</strong></td>\n",
       "                <td>\n",
       "                    <p style='text-align:right'>icit_m --> glx_m + succ_m</p>\n",
       "                    <p style='text-align:right'>Isocitrate --> Glyoxylate + Succinate</p>\n",
       "                </td>\n",
       "            </tr><tr>\n",
       "                <td><strong>GPR</strong></td><td>Lipst1_1_75138</td>\n",
       "            </tr><tr>\n",
       "                <td><strong>Lower bound</strong></td><td>0.0</td>\n",
       "            </tr><tr>\n",
       "                <td><strong>Upper bound</strong></td><td>1000.0</td>\n",
       "            </tr>\n",
       "        </table>\n",
       "        "
      ],
      "text/plain": [
       "<Reaction ICLm at 0x28be6d7d0>"
      ]
     },
     "execution_count": 32,
     "metadata": {},
     "output_type": "execute_result"
    }
   ],
   "source": [
    "r = lst.reactions.ICLp.copy()\n",
    "r.id = 'ICLm'\n",
    "r.name = 'Isocitrate lyase mitochondria'\n",
    "r.gene_reaction_rule = 'Lipst1_1_75138'\n",
    "r.add_metabolites({lst.metabolites.icit_m: -1,\n",
    "                  lst.metabolites.icit_x: 1,\n",
    "                  lst.metabolites.glx_x: -1,\n",
    "                  lst.metabolites.glx_m: 1,\n",
    "                  lst.metabolites.succ_x: -1,\n",
    "                  lst.metabolites.succ_m: 1,\n",
    "                                     \n",
    "                  })\n",
    "lst.add_reactions([r])\n",
    "r"
   ]
  },
  {
   "cell_type": "markdown",
   "id": "e97fb2bc",
   "metadata": {},
   "source": [
    "#### malic enzyme. "
   ]
  },
  {
   "cell_type": "code",
   "execution_count": 33,
   "id": "959fc42e",
   "metadata": {},
   "outputs": [
    {
     "data": {
      "text/html": [
       "\n",
       "        <table>\n",
       "            <tr>\n",
       "                <td><strong>Reaction identifier</strong></td><td>ME1m</td>\n",
       "            </tr><tr>\n",
       "                <td><strong>Name</strong></td><td>Malic enzyme NAD mitochondrial</td>\n",
       "            </tr><tr>\n",
       "                <td><strong>Memory address</strong></td>\n",
       "                <td>0x17e4677d0</td>\n",
       "            </tr><tr>\n",
       "                <td><strong>Stoichiometry</strong></td>\n",
       "                <td>\n",
       "                    <p style='text-align:right'>mal__L_m + nad_m --> co2_m + nadh_m + pyr_m</p>\n",
       "                    <p style='text-align:right'>L-Malate + Nicotinamide adenine dinucleotide --> CO2 CO2 + Nicotinamide adenine dinucleotide - reduced + Pyruvate</p>\n",
       "                </td>\n",
       "            </tr><tr>\n",
       "                <td><strong>GPR</strong></td><td>Lipst1_1_72728</td>\n",
       "            </tr><tr>\n",
       "                <td><strong>Lower bound</strong></td><td>0.0</td>\n",
       "            </tr><tr>\n",
       "                <td><strong>Upper bound</strong></td><td>1000.0</td>\n",
       "            </tr>\n",
       "        </table>\n",
       "        "
      ],
      "text/plain": [
       "<Reaction ME1m at 0x17e4677d0>"
      ]
     },
     "execution_count": 33,
     "metadata": {},
     "output_type": "execute_result"
    }
   ],
   "source": [
    "lst.reactions.ME1m"
   ]
  },
  {
   "cell_type": "markdown",
   "id": "5c231176",
   "metadata": {},
   "source": [
    "- Lipst1_1_72728 \n",
    "    - BUSCA cytoplasm. \n",
    "    - Deeploc: cytoplasm and peroxisome targetting. "
   ]
  },
  {
   "cell_type": "code",
   "execution_count": 34,
   "id": "1c3b6437",
   "metadata": {},
   "outputs": [],
   "source": [
    "r = lst.reactions.ME1m.copy()\n",
    "r.id = 'ME1'\n",
    "r.name = 'Malic enzyme'\n",
    "r.gene_reaction_rule = 'Lipst1_1_72728'\n",
    "r.add_metabolites({lst.metabolites.mal__L_c: -1,\n",
    "                  lst.metabolites.mal__L_m: 1,\n",
    "                  lst.metabolites.nad_c: -1,\n",
    "                  lst.metabolites.nad_m: 1,\n",
    "                  lst.metabolites.co2_m: -1,\n",
    "                  lst.metabolites.co2_c: 1,\n",
    "                  lst.metabolites.nadh_m: -1,\n",
    "                  lst.metabolites.nadh_c: 1,\n",
    "                  lst.metabolites.pyr_m: -1,\n",
    "                  lst.metabolites.pyr_c: 1})\n",
    "\n",
    "lst.add_reactions([r])\n",
    "\n",
    "\n",
    "### pryuvate is not in peroxisome. \n",
    "\n",
    "m = lst.metabolites.pyr_c.copy()\n",
    "m.id = 'pyr_x'\n",
    "lst.add_metabolites([m])\n",
    "\n",
    "\n",
    "r = lst.reactions.ME1m.copy()\n",
    "r.id = 'ME1p'\n",
    "r.name = 'Malic enzyme'\n",
    "r.gene_reaction_rule = 'Lipst1_1_72728'\n",
    "r.add_metabolites({lst.metabolites.mal__L_x: -1,\n",
    "                  lst.metabolites.mal__L_m: 1,\n",
    "                  lst.metabolites.nad_x: -1,\n",
    "                  lst.metabolites.nad_m: 1,\n",
    "                  lst.metabolites.co2_m: -1,\n",
    "                  lst.metabolites.co2_x: 1,\n",
    "                  lst.metabolites.nadh_m: -1,\n",
    "                  lst.metabolites.nadh_x: 1,\n",
    "                  lst.metabolites.pyr_m: -1,\n",
    "                  lst.metabolites.pyr_x: 1})\n",
    "\n",
    "lst.add_reactions([r])"
   ]
  },
  {
   "cell_type": "markdown",
   "id": "c6405e26",
   "metadata": {},
   "source": [
    "add transporter for pyruvate in peroxisome. \n",
    "\n",
    "[reaction](http://bigg.ucsd.edu/universal/reactions/PYRt_x)"
   ]
  },
  {
   "cell_type": "code",
   "execution_count": 35,
   "id": "683ff618",
   "metadata": {},
   "outputs": [],
   "source": [
    "r = lst.reactions.ME1.copy()\n",
    "r.id = 'PYRt_x'\n",
    "r.name = 'Pyruvate peroxisome transporter'\n",
    "r.gene_reaction_rule = ''\n",
    "r.add_metabolites({lst.metabolites.mal__L_c: 1,\n",
    "                  lst.metabolites.nad_c: 1,\n",
    "                  lst.metabolites.co2_c: -1,\n",
    "                  lst.metabolites.nadh_c: -1,\n",
    "                  lst.metabolites.pyr_c: -2,\n",
    "#                   lst.metabolites.pyr_c: -1,\n",
    "\n",
    "                  lst.metabolites.pyr_x: 1})\n",
    "r.bounds = -1000,1000\n",
    "\n",
    "lst.add_reactions([r])"
   ]
  },
  {
   "cell_type": "code",
   "execution_count": 36,
   "id": "fa4559db",
   "metadata": {},
   "outputs": [
    {
     "data": {
      "text/html": [
       "\n",
       "        <table>\n",
       "            <tr>\n",
       "                <td><strong>Reaction identifier</strong></td><td>PYRt_x</td>\n",
       "            </tr><tr>\n",
       "                <td><strong>Name</strong></td><td>Pyruvate peroxisome transporter</td>\n",
       "            </tr><tr>\n",
       "                <td><strong>Memory address</strong></td>\n",
       "                <td>0x28be77b50</td>\n",
       "            </tr><tr>\n",
       "                <td><strong>Stoichiometry</strong></td>\n",
       "                <td>\n",
       "                    <p style='text-align:right'>pyr_c <=> pyr_x</p>\n",
       "                    <p style='text-align:right'>Pyruvate <=> Pyruvate</p>\n",
       "                </td>\n",
       "            </tr><tr>\n",
       "                <td><strong>GPR</strong></td><td></td>\n",
       "            </tr><tr>\n",
       "                <td><strong>Lower bound</strong></td><td>-1000</td>\n",
       "            </tr><tr>\n",
       "                <td><strong>Upper bound</strong></td><td>1000</td>\n",
       "            </tr>\n",
       "        </table>\n",
       "        "
      ],
      "text/plain": [
       "<Reaction PYRt_x at 0x28be77b50>"
      ]
     },
     "execution_count": 36,
     "metadata": {},
     "output_type": "execute_result"
    }
   ],
   "source": [
    "r"
   ]
  },
  {
   "cell_type": "markdown",
   "id": "1f6d5e05",
   "metadata": {},
   "source": [
    "#### oxoalacetate decarboyxlase & PPCK."
   ]
  },
  {
   "cell_type": "code",
   "execution_count": 37,
   "id": "56839436",
   "metadata": {},
   "outputs": [
    {
     "data": {
      "text/html": [
       "\n",
       "        <table>\n",
       "            <tr>\n",
       "                <td><strong>Reaction identifier</strong></td><td>OAADCm</td>\n",
       "            </tr><tr>\n",
       "                <td><strong>Name</strong></td><td>Oxaloacetate decarboxylase mitochondrial</td>\n",
       "            </tr><tr>\n",
       "                <td><strong>Memory address</strong></td>\n",
       "                <td>0x17e94c3d0</td>\n",
       "            </tr><tr>\n",
       "                <td><strong>Stoichiometry</strong></td>\n",
       "                <td>\n",
       "                    <p style='text-align:right'>h_m + oaa_m --> co2_m + pyr_m</p>\n",
       "                    <p style='text-align:right'>H+ + Oxaloacetate --> CO2 CO2 + Pyruvate</p>\n",
       "                </td>\n",
       "            </tr><tr>\n",
       "                <td><strong>GPR</strong></td><td>Lipst1_1_72728</td>\n",
       "            </tr><tr>\n",
       "                <td><strong>Lower bound</strong></td><td>0.0</td>\n",
       "            </tr><tr>\n",
       "                <td><strong>Upper bound</strong></td><td>1000.0</td>\n",
       "            </tr>\n",
       "        </table>\n",
       "        "
      ],
      "text/plain": [
       "<Reaction OAADCm at 0x17e94c3d0>"
      ]
     },
     "execution_count": 37,
     "metadata": {},
     "output_type": "execute_result"
    }
   ],
   "source": [
    "lst.reactions.OAADCm"
   ]
  },
  {
   "cell_type": "code",
   "execution_count": 38,
   "id": "75a59b46",
   "metadata": {},
   "outputs": [
    {
     "data": {
      "text/html": [
       "\n",
       "        <table>\n",
       "            <tr>\n",
       "                <td><strong>Reaction identifier</strong></td><td>PPCK</td>\n",
       "            </tr><tr>\n",
       "                <td><strong>Name</strong></td><td>Phosphoenolpyruvate carboxykinase</td>\n",
       "            </tr><tr>\n",
       "                <td><strong>Memory address</strong></td>\n",
       "                <td>0x17cdef950</td>\n",
       "            </tr><tr>\n",
       "                <td><strong>Stoichiometry</strong></td>\n",
       "                <td>\n",
       "                    <p style='text-align:right'>atp_c + oaa_c --> adp_c + co2_c + pep_c</p>\n",
       "                    <p style='text-align:right'>ATP C10H12N5O13P3 + Oxaloacetate --> ADP C10H12N5O10P2 + CO2 CO2 + Phosphoenolpyruvate</p>\n",
       "                </td>\n",
       "            </tr><tr>\n",
       "                <td><strong>GPR</strong></td><td>Lipst1_1_934</td>\n",
       "            </tr><tr>\n",
       "                <td><strong>Lower bound</strong></td><td>0.0</td>\n",
       "            </tr><tr>\n",
       "                <td><strong>Upper bound</strong></td><td>1000.0</td>\n",
       "            </tr>\n",
       "        </table>\n",
       "        "
      ],
      "text/plain": [
       "<Reaction PPCK at 0x17cdef950>"
      ]
     },
     "execution_count": 38,
     "metadata": {},
     "output_type": "execute_result"
    }
   ],
   "source": [
    "lst.reactions.PPCK"
   ]
  },
  {
   "cell_type": "markdown",
   "id": "eff3d36c",
   "metadata": {},
   "source": [
    "- OAACDm\n",
    "    - BUSCA: cyotoplasm\n",
    "    - Deeploc: cytoplasm with Peroxisome tag.\n",
    "- PPCK\n",
    "    - cytoplasm\n",
    "    - Deeploc: cytoplasm with Peroxisome tag. -however no pep_x, no adp_x in model. \n"
   ]
  },
  {
   "cell_type": "code",
   "execution_count": 39,
   "id": "5dfb5fdd",
   "metadata": {},
   "outputs": [
    {
     "name": "stderr",
     "output_type": "stream",
     "text": [
      "Ignoring reaction 'OAADC' since it already exists.\n"
     ]
    },
    {
     "data": {
      "text/html": [
       "\n",
       "        <table>\n",
       "            <tr>\n",
       "                <td><strong>Reaction identifier</strong></td><td>OAADCp</td>\n",
       "            </tr><tr>\n",
       "                <td><strong>Name</strong></td><td>Oxaloacetate decarboxylase</td>\n",
       "            </tr><tr>\n",
       "                <td><strong>Memory address</strong></td>\n",
       "                <td>0x28c309c90</td>\n",
       "            </tr><tr>\n",
       "                <td><strong>Stoichiometry</strong></td>\n",
       "                <td>\n",
       "                    <p style='text-align:right'>h_x + oaa_x --> co2_x + pyr_x</p>\n",
       "                    <p style='text-align:right'>H+ + Oxaloacetate --> CO2 + Pyruvate</p>\n",
       "                </td>\n",
       "            </tr><tr>\n",
       "                <td><strong>GPR</strong></td><td>Lipst1_1_72728</td>\n",
       "            </tr><tr>\n",
       "                <td><strong>Lower bound</strong></td><td>0.0</td>\n",
       "            </tr><tr>\n",
       "                <td><strong>Upper bound</strong></td><td>1000.0</td>\n",
       "            </tr>\n",
       "        </table>\n",
       "        "
      ],
      "text/plain": [
       "<Reaction OAADCp at 0x28c309c90>"
      ]
     },
     "execution_count": 39,
     "metadata": {},
     "output_type": "execute_result"
    }
   ],
   "source": [
    "r = lst.reactions.OAADCm.copy()\n",
    "r.id = 'OAADC'\n",
    "r.name = 'Oxaloacetate decarboxylase'\n",
    "r.add_metabolites({lst.metabolites.oaa_c: -1,\n",
    "                  lst.metabolites.oaa_m: 1,\n",
    "                  lst.metabolites.h_c: -1,\n",
    "                  lst.metabolites.h_m: 1,\n",
    "                  lst.metabolites.co2_m: -1,\n",
    "                  lst.metabolites.co2_c: 1,\n",
    "                  lst.metabolites.pyr_m: -1,\n",
    "                  lst.metabolites.pyr_c: 1})\n",
    "\n",
    "lst.add_reactions([r])\n",
    "\n",
    "r = lst.reactions.OAADCm.copy()\n",
    "r.id = 'OAADCp'\n",
    "r.name = 'Oxaloacetate decarboxylase'\n",
    "r.add_metabolites({lst.metabolites.oaa_x: -1,\n",
    "                  lst.metabolites.oaa_m: 1,\n",
    "                  lst.metabolites.h_x: -1,\n",
    "                  lst.metabolites.h_m: 1,\n",
    "                  lst.metabolites.co2_m: -1,\n",
    "                  lst.metabolites.co2_x: 1,\n",
    "                  lst.metabolites.pyr_m: -1,\n",
    "                  lst.metabolites.pyr_x: 1})\n",
    "lst.add_reactions([r])\n",
    "\n",
    "r"
   ]
  },
  {
   "cell_type": "code",
   "execution_count": 40,
   "id": "fbda6e86",
   "metadata": {},
   "outputs": [],
   "source": [
    "# r = lst.reactions.OAADC.copy()\n",
    "# r.id = 'OAAtm'\n",
    "# r.name = 'Oxaloacetate decarboxylase'\n",
    "# r.add_metabolites({\n",
    "#                   lst.metabolites.oaa_m: 1,\n",
    "#                   lst.metabolites.h_c: 1,\n",
    "#                   lst.metabolites.co2_c: -1,\n",
    "#                   lst.metabolites.pyr_c: -1})\n",
    "# r.bounds = -1000,1000\n",
    "# lst.add_reactions([r])"
   ]
  },
  {
   "cell_type": "code",
   "execution_count": 41,
   "id": "88740864",
   "metadata": {},
   "outputs": [
    {
     "data": {
      "text/html": [
       "\n",
       "        <table>\n",
       "            <tr>\n",
       "                <td><strong>Reaction identifier</strong></td><td>PPCK</td>\n",
       "            </tr><tr>\n",
       "                <td><strong>Name</strong></td><td>Phosphoenolpyruvate carboxykinase</td>\n",
       "            </tr><tr>\n",
       "                <td><strong>Memory address</strong></td>\n",
       "                <td>0x17cdef950</td>\n",
       "            </tr><tr>\n",
       "                <td><strong>Stoichiometry</strong></td>\n",
       "                <td>\n",
       "                    <p style='text-align:right'>atp_c + oaa_c --> adp_c + co2_c + pep_c</p>\n",
       "                    <p style='text-align:right'>ATP C10H12N5O13P3 + Oxaloacetate --> ADP C10H12N5O10P2 + CO2 CO2 + Phosphoenolpyruvate</p>\n",
       "                </td>\n",
       "            </tr><tr>\n",
       "                <td><strong>GPR</strong></td><td>Lipst1_1_934</td>\n",
       "            </tr><tr>\n",
       "                <td><strong>Lower bound</strong></td><td>0.0</td>\n",
       "            </tr><tr>\n",
       "                <td><strong>Upper bound</strong></td><td>1000.0</td>\n",
       "            </tr>\n",
       "        </table>\n",
       "        "
      ],
      "text/plain": [
       "<Reaction PPCK at 0x17cdef950>"
      ]
     },
     "execution_count": 41,
     "metadata": {},
     "output_type": "execute_result"
    }
   ],
   "source": [
    "lst.reactions.PPCK"
   ]
  },
  {
   "cell_type": "code",
   "execution_count": 42,
   "id": "0935d6e9",
   "metadata": {},
   "outputs": [],
   "source": [
    "\n",
    "m = lst.metabolites.adp_c.copy()\n",
    "m.id = 'adp_x'\n",
    "lst.add_metabolites([m])\n",
    "\n",
    "# m = lst.metabolites.pep_c.copy()\n",
    "# m.id = 'pep_x'\n",
    "# lst.add_metabolites([m])\n",
    "\n",
    "# r = lst.reactions.PPCK.copy()\n",
    "# r.id = 'PPCKp'\n",
    "# r.name = 'Phosphoenolpyruvate carboxykinase peroxisome'\n",
    "# r.add_metabolites({lst.metabolites.oaa_x: -1,\n",
    "#                   lst.metabolites.oaa_c: 1,\n",
    "#                   lst.metabolites.atp_x: -1,\n",
    "#                   lst.metabolites.atp_c: 1,\n",
    "#                   lst.metabolites.adp_c: -1,\n",
    "#                   lst.metabolites.adp_x: 1,\n",
    "#                   lst.metabolites.co2_c: -1,\n",
    "#                   lst.metabolites.co2_x: 1,\n",
    "#                   lst.metabolites.pep_c: -1,\n",
    "#                   lst.metabolites.pep_x: 1})\n",
    "# r"
   ]
  },
  {
   "cell_type": "markdown",
   "id": "2d5d629a",
   "metadata": {},
   "source": [
    "<!-- add adp_x transporter and metabolite.\n",
    "\n",
    "[bigg reaction](http://bigg.ucsd.edu/universal/reactions/ADPtx)\n",
    "\n",
    "add PYRt_x  -->"
   ]
  },
  {
   "cell_type": "code",
   "execution_count": 43,
   "id": "170172eb",
   "metadata": {},
   "outputs": [],
   "source": [
    "r = lst.reactions.ME1.copy()\n",
    "r.id = 'ADPtx'\n",
    "r.name = 'ADP peroxisome transporter'\n",
    "r.gene_reaction_rule = ''\n",
    "r.add_metabolites({lst.metabolites.mal__L_c: 1,\n",
    "                  lst.metabolites.nad_c: 1,\n",
    "                  lst.metabolites.co2_c: -1,\n",
    "                  lst.metabolites.nadh_c: -1,\n",
    "                  lst.metabolites.pyr_c: -1,\n",
    "                  lst.metabolites.adp_c: -1,\n",
    "\n",
    "                  lst.metabolites.adp_x: 1})\n",
    "r.bounds = -1000,1000\n",
    "\n",
    "lst.add_reactions([r])"
   ]
  },
  {
   "cell_type": "code",
   "execution_count": 44,
   "id": "21623fea",
   "metadata": {},
   "outputs": [],
   "source": [
    "# lst.add_reactions([r])\n"
   ]
  },
  {
   "cell_type": "code",
   "execution_count": 45,
   "id": "2a25101f",
   "metadata": {},
   "outputs": [
    {
     "data": {
      "text/html": [
       "<strong><em>Optimal</em> solution with objective value 0.905</strong><br><div>\n",
       "<style scoped>\n",
       "    .dataframe tbody tr th:only-of-type {\n",
       "        vertical-align: middle;\n",
       "    }\n",
       "\n",
       "    .dataframe tbody tr th {\n",
       "        vertical-align: top;\n",
       "    }\n",
       "\n",
       "    .dataframe thead th {\n",
       "        text-align: right;\n",
       "    }\n",
       "</style>\n",
       "<table border=\"1\" class=\"dataframe\">\n",
       "  <thead>\n",
       "    <tr style=\"text-align: right;\">\n",
       "      <th></th>\n",
       "      <th>fluxes</th>\n",
       "      <th>reduced_costs</th>\n",
       "    </tr>\n",
       "  </thead>\n",
       "  <tbody>\n",
       "    <tr>\n",
       "      <th>ALCD25yi</th>\n",
       "      <td>0.0</td>\n",
       "      <td>1.110223e-16</td>\n",
       "    </tr>\n",
       "    <tr>\n",
       "      <th>MTHFCm</th>\n",
       "      <td>0.0</td>\n",
       "      <td>-0.000000e+00</td>\n",
       "    </tr>\n",
       "    <tr>\n",
       "      <th>AMPN</th>\n",
       "      <td>0.0</td>\n",
       "      <td>-4.356738e-03</td>\n",
       "    </tr>\n",
       "    <tr>\n",
       "      <th>DAGCPTer_RT</th>\n",
       "      <td>0.0</td>\n",
       "      <td>-1.110223e-16</td>\n",
       "    </tr>\n",
       "    <tr>\n",
       "      <th>PYRt2</th>\n",
       "      <td>0.0</td>\n",
       "      <td>0.000000e+00</td>\n",
       "    </tr>\n",
       "    <tr>\n",
       "      <th>...</th>\n",
       "      <td>...</td>\n",
       "      <td>...</td>\n",
       "    </tr>\n",
       "    <tr>\n",
       "      <th>ME1</th>\n",
       "      <td>0.0</td>\n",
       "      <td>-4.356738e-03</td>\n",
       "    </tr>\n",
       "    <tr>\n",
       "      <th>ME1p</th>\n",
       "      <td>0.0</td>\n",
       "      <td>-4.356738e-03</td>\n",
       "    </tr>\n",
       "    <tr>\n",
       "      <th>PYRt_x</th>\n",
       "      <td>0.0</td>\n",
       "      <td>0.000000e+00</td>\n",
       "    </tr>\n",
       "    <tr>\n",
       "      <th>OAADCp</th>\n",
       "      <td>0.0</td>\n",
       "      <td>-4.356738e-03</td>\n",
       "    </tr>\n",
       "    <tr>\n",
       "      <th>ADPtx</th>\n",
       "      <td>0.0</td>\n",
       "      <td>-0.000000e+00</td>\n",
       "    </tr>\n",
       "  </tbody>\n",
       "</table>\n",
       "<p>2172 rows × 2 columns</p>\n",
       "</div>"
      ],
      "text/plain": [
       "<Solution 0.905 at 0x28c41ce90>"
      ]
     },
     "execution_count": 45,
     "metadata": {},
     "output_type": "execute_result"
    }
   ],
   "source": [
    "lst.optimize()"
   ]
  },
  {
   "cell_type": "markdown",
   "id": "a60d8b14",
   "metadata": {},
   "source": [
    "#### Aspartate transaminase. "
   ]
  },
  {
   "cell_type": "code",
   "execution_count": 46,
   "id": "4e7eca73",
   "metadata": {},
   "outputs": [
    {
     "data": {
      "text/html": [
       "\n",
       "        <table>\n",
       "            <tr>\n",
       "                <td><strong>Reaction identifier</strong></td><td>ASPTAm</td>\n",
       "            </tr><tr>\n",
       "                <td><strong>Name</strong></td><td>Aspartate transaminase</td>\n",
       "            </tr><tr>\n",
       "                <td><strong>Memory address</strong></td>\n",
       "                <td>0x17cf103d0</td>\n",
       "            </tr><tr>\n",
       "                <td><strong>Stoichiometry</strong></td>\n",
       "                <td>\n",
       "                    <p style='text-align:right'>akg_m + asp__L_m <=> glu__L_m + oaa_m</p>\n",
       "                    <p style='text-align:right'>2-Oxoglutarate + L-Aspartate <=> L-Glutamate + Oxaloacetate</p>\n",
       "                </td>\n",
       "            </tr><tr>\n",
       "                <td><strong>GPR</strong></td><td>Lipst1_1_315712 or Lipst1_1_5184</td>\n",
       "            </tr><tr>\n",
       "                <td><strong>Lower bound</strong></td><td>-1000.0</td>\n",
       "            </tr><tr>\n",
       "                <td><strong>Upper bound</strong></td><td>1000.0</td>\n",
       "            </tr>\n",
       "        </table>\n",
       "        "
      ],
      "text/plain": [
       "<Reaction ASPTAm at 0x17cf103d0>"
      ]
     },
     "execution_count": 46,
     "metadata": {},
     "output_type": "execute_result"
    }
   ],
   "source": [
    "lst.reactions.ASPTAm"
   ]
  },
  {
   "cell_type": "code",
   "execution_count": 47,
   "id": "35984a46",
   "metadata": {},
   "outputs": [
    {
     "data": {
      "text/html": [
       "\n",
       "        <table>\n",
       "            <tr>\n",
       "                <td><strong>Reaction identifier</strong></td><td>ASPTA</td>\n",
       "            </tr><tr>\n",
       "                <td><strong>Name</strong></td><td>Aspartate transaminase</td>\n",
       "            </tr><tr>\n",
       "                <td><strong>Memory address</strong></td>\n",
       "                <td>0x17cab9d10</td>\n",
       "            </tr><tr>\n",
       "                <td><strong>Stoichiometry</strong></td>\n",
       "                <td>\n",
       "                    <p style='text-align:right'>akg_c + asp__L_c <=> glu__L_c + oaa_c</p>\n",
       "                    <p style='text-align:right'>2-Oxoglutarate + L-Aspartate <=> L-Glutamate + Oxaloacetate</p>\n",
       "                </td>\n",
       "            </tr><tr>\n",
       "                <td><strong>GPR</strong></td><td>Lipst1_1_5184</td>\n",
       "            </tr><tr>\n",
       "                <td><strong>Lower bound</strong></td><td>-1000.0</td>\n",
       "            </tr><tr>\n",
       "                <td><strong>Upper bound</strong></td><td>1000.0</td>\n",
       "            </tr>\n",
       "        </table>\n",
       "        "
      ],
      "text/plain": [
       "<Reaction ASPTA at 0x17cab9d10>"
      ]
     },
     "execution_count": 47,
     "metadata": {},
     "output_type": "execute_result"
    }
   ],
   "source": [
    "lst.reactions.ASPTA"
   ]
  },
  {
   "cell_type": "markdown",
   "id": "ffe62e12",
   "metadata": {},
   "source": [
    ">5184\n",
    "- BUSCA organelle membrane\n",
    "- Deeploc (cytoplasm)\n",
    "\n",
    ">315712\n",
    "- BUSCA mitochondrial membrane. \n",
    "- Deeploc mitochondrion."
   ]
  },
  {
   "cell_type": "markdown",
   "id": "d2a9a894",
   "metadata": {},
   "source": [
    "membrane proteins may be facing either way. However, previous work assumed ASPTA is only [cytolsolic](https://academic.oup.com/femsyr/article/5/6-7/545/528244). "
   ]
  },
  {
   "cell_type": "code",
   "execution_count": 48,
   "id": "7d0f7142",
   "metadata": {},
   "outputs": [],
   "source": [
    "lst.reactions.ASPTA.gene_reaction_rule = 'Lipst1_1_315712 or Lipst1_1_5184'\n",
    "lst.reactions.ASPTAm.bounds = 0,0"
   ]
  },
  {
   "cell_type": "code",
   "execution_count": 49,
   "id": "d95161df",
   "metadata": {},
   "outputs": [
    {
     "data": {
      "text/html": [
       "<strong><em>Optimal</em> solution with objective value 0.905</strong><br><div>\n",
       "<style scoped>\n",
       "    .dataframe tbody tr th:only-of-type {\n",
       "        vertical-align: middle;\n",
       "    }\n",
       "\n",
       "    .dataframe tbody tr th {\n",
       "        vertical-align: top;\n",
       "    }\n",
       "\n",
       "    .dataframe thead th {\n",
       "        text-align: right;\n",
       "    }\n",
       "</style>\n",
       "<table border=\"1\" class=\"dataframe\">\n",
       "  <thead>\n",
       "    <tr style=\"text-align: right;\">\n",
       "      <th></th>\n",
       "      <th>fluxes</th>\n",
       "      <th>reduced_costs</th>\n",
       "    </tr>\n",
       "  </thead>\n",
       "  <tbody>\n",
       "    <tr>\n",
       "      <th>ALCD25yi</th>\n",
       "      <td>0.0</td>\n",
       "      <td>1.110223e-16</td>\n",
       "    </tr>\n",
       "    <tr>\n",
       "      <th>MTHFCm</th>\n",
       "      <td>0.0</td>\n",
       "      <td>-0.000000e+00</td>\n",
       "    </tr>\n",
       "    <tr>\n",
       "      <th>AMPN</th>\n",
       "      <td>0.0</td>\n",
       "      <td>-4.356738e-03</td>\n",
       "    </tr>\n",
       "    <tr>\n",
       "      <th>DAGCPTer_RT</th>\n",
       "      <td>0.0</td>\n",
       "      <td>-1.110223e-16</td>\n",
       "    </tr>\n",
       "    <tr>\n",
       "      <th>PYRt2</th>\n",
       "      <td>0.0</td>\n",
       "      <td>0.000000e+00</td>\n",
       "    </tr>\n",
       "    <tr>\n",
       "      <th>...</th>\n",
       "      <td>...</td>\n",
       "      <td>...</td>\n",
       "    </tr>\n",
       "    <tr>\n",
       "      <th>ME1</th>\n",
       "      <td>0.0</td>\n",
       "      <td>-4.356738e-03</td>\n",
       "    </tr>\n",
       "    <tr>\n",
       "      <th>ME1p</th>\n",
       "      <td>0.0</td>\n",
       "      <td>-4.356738e-03</td>\n",
       "    </tr>\n",
       "    <tr>\n",
       "      <th>PYRt_x</th>\n",
       "      <td>0.0</td>\n",
       "      <td>0.000000e+00</td>\n",
       "    </tr>\n",
       "    <tr>\n",
       "      <th>OAADCp</th>\n",
       "      <td>0.0</td>\n",
       "      <td>-4.356738e-03</td>\n",
       "    </tr>\n",
       "    <tr>\n",
       "      <th>ADPtx</th>\n",
       "      <td>0.0</td>\n",
       "      <td>-0.000000e+00</td>\n",
       "    </tr>\n",
       "  </tbody>\n",
       "</table>\n",
       "<p>2172 rows × 2 columns</p>\n",
       "</div>"
      ],
      "text/plain": [
       "<Solution 0.905 at 0x28c41e390>"
      ]
     },
     "execution_count": 49,
     "metadata": {},
     "output_type": "execute_result"
    }
   ],
   "source": [
    "lst.optimize()"
   ]
  },
  {
   "cell_type": "markdown",
   "id": "242cb238",
   "metadata": {},
   "source": [
    "## begin examining cofactor cycles. "
   ]
  },
  {
   "cell_type": "markdown",
   "id": "c5ae0660",
   "metadata": {},
   "source": [
    "\n",
    "### NADPH start. "
   ]
  },
  {
   "cell_type": "code",
   "execution_count": 46,
   "id": "21ecde58",
   "metadata": {},
   "outputs": [],
   "source": [
    "# cobra.io.save_json_model(lst,'test_with_compartments.json')"
   ]
  },
  {
   "cell_type": "code",
   "execution_count": 50,
   "id": "d00b7225",
   "metadata": {},
   "outputs": [],
   "source": [
    "# pfba(lst).fluxes.to_csv('test_w_compartments_.csv')"
   ]
  },
  {
   "cell_type": "code",
   "execution_count": 51,
   "id": "bd24df8e",
   "metadata": {},
   "outputs": [
    {
     "name": "stdout",
     "output_type": "stream",
     "text": [
      "Reaction GND contributes 13.40% of the total NADPH production.\n",
      "Reaction FTHFDH contributes 0.75% of the total NADPH production.\n",
      "Reaction PPND2 contributes 0.44% of the total NADPH production.\n",
      "Reaction MTHFD contributes 2.42% of the total NADPH production.\n",
      "Reaction G6PDH2r contributes 13.40% of the total NADPH production.\n",
      "Reaction ALDD19x_P contributes 63.63% of the total NADPH production.\n",
      "Reaction ALDD2ym contributes 5.97% of the total NADPH production.\n",
      "\n",
      "\n",
      "Reaction TRDR contributes 0.71% of the total NADPH consumption.\n",
      "Reaction SHK3Dr contributes 1.23% of the total NADPH consumption.\n",
      "Reaction FAS180COA contributes 4.19% of the total NADPH consumption.\n",
      "Reaction FAS140COA contributes 7.23% of the total NADPH consumption.\n",
      "Reaction SULR contributes 1.90% of the total NADPH consumption.\n",
      "Reaction DPR contributes 0.00% of the total NADPH consumption.\n",
      "Reaction FAS160COA contributes 7.23% of the total NADPH consumption.\n",
      "Reaction FAS120COA contributes 7.23% of the total NADPH consumption.\n",
      "Reaction AASAD1 contributes 0.95% of the total NADPH consumption.\n",
      "Reaction SACCD1 contributes 0.95% of the total NADPH consumption.\n",
      "Reaction KYN3OX contributes 0.01% of the total NADPH consumption.\n",
      "Reaction G5SD contributes 1.18% of the total NADPH consumption.\n",
      "Reaction HMGCOAR contributes 0.90% of the total NADPH consumption.\n",
      "Reaction PYDXOR contributes 0.01% of the total NADPH consumption.\n",
      "Reaction FAS100COA contributes 7.23% of the total NADPH consumption.\n",
      "Reaction ASAD contributes 2.81% of the total NADPH consumption.\n",
      "Reaction DHFR contributes 0.04% of the total NADPH consumption.\n",
      "Reaction APRAUR contributes 0.01% of the total NADPH consumption.\n",
      "Reaction GLUDy contributes 28.53% of the total NADPH consumption.\n",
      "Reaction FAS80COA_L contributes 21.68% of the total NADPH consumption.\n",
      "Reaction KARA1im contributes 4.01% of the total NADPH consumption.\n",
      "Reaction 3NPABH_m contributes 0.00% of the total NADPH consumption.\n",
      "Reaction 3NPAHBDH_m contributes 0.01% of the total NADPH consumption.\n",
      "Reaction HEMEASm contributes 0.01% of the total NADPH consumption.\n",
      "Reaction KARA2im contributes 1.15% of the total NADPH consumption.\n",
      "Reaction COQ7_m contributes 0.00% of the total NADPH consumption.\n",
      "Reaction AGPRim contributes 0.85% of the total NADPH consumption.\n"
     ]
    }
   ],
   "source": [
    "lst_glc_soln = pfba(lst)\n",
    "# lst_glc_soln = lst.optimize()\n",
    "nadph_produce,nadph_consume = get_reaction_contribution_to_metabolite_production([\"nadph_c\", \"nadph_m\", \"nadph_x\"],lst_glc_soln)\n",
    "\n",
    "for rxn_id, percentage in nadph_produce.items():\n",
    "    print(f\"Reaction {rxn_id} contributes {percentage:.2f}% of the total NADPH production.\")\n",
    "\n",
    "print('\\n')\n",
    "for rxn_id, percentage in nadph_consume.items():\n",
    "    print(f\"Reaction {rxn_id} contributes {percentage:.2f}% of the total NADPH consumption.\")"
   ]
  },
  {
   "cell_type": "markdown",
   "id": "8d627a13",
   "metadata": {},
   "source": [
    "### constrain the feasibility of ALCD reactions to prevent cofactor cycling. "
   ]
  },
  {
   "cell_type": "code",
   "execution_count": 52,
   "id": "0567ed3e",
   "metadata": {},
   "outputs": [
    {
     "data": {
      "text/html": [
       "\n",
       "        <table>\n",
       "            <tr>\n",
       "                <td><strong>Reaction identifier</strong></td><td>ALCD2y</td>\n",
       "            </tr><tr>\n",
       "                <td><strong>Name</strong></td><td>Alcohol dehydrogenase (ethanol, NADP)</td>\n",
       "            </tr><tr>\n",
       "                <td><strong>Memory address</strong></td>\n",
       "                <td>0x17cb2db90</td>\n",
       "            </tr><tr>\n",
       "                <td><strong>Stoichiometry</strong></td>\n",
       "                <td>\n",
       "                    <p style='text-align:right'>etoh_c + nadp_c --> acald_c + h_c + nadph_c</p>\n",
       "                    <p style='text-align:right'>Ethanol + Nicotinamide adenine dinucleotide phosphate --> Acetaldehyde + H+ + Nicotinamide adenine dinucleotide phosphate - reduced</p>\n",
       "                </td>\n",
       "            </tr><tr>\n",
       "                <td><strong>GPR</strong></td><td>Lipst1_1_177423 or Lipst1_1_121954</td>\n",
       "            </tr><tr>\n",
       "                <td><strong>Lower bound</strong></td><td>0.0</td>\n",
       "            </tr><tr>\n",
       "                <td><strong>Upper bound</strong></td><td>1000.0</td>\n",
       "            </tr>\n",
       "        </table>\n",
       "        "
      ],
      "text/plain": [
       "<Reaction ALCD2y at 0x17cb2db90>"
      ]
     },
     "execution_count": 52,
     "metadata": {},
     "output_type": "execute_result"
    }
   ],
   "source": [
    "lst.reactions.ALCD2y"
   ]
  },
  {
   "cell_type": "code",
   "execution_count": 53,
   "id": "b0389370",
   "metadata": {},
   "outputs": [
    {
     "data": {
      "text/plain": [
       "0.0"
      ]
     },
     "execution_count": 53,
     "metadata": {},
     "output_type": "execute_result"
    }
   ],
   "source": [
    "lst_glc_soln.fluxes['ALCD2y']"
   ]
  },
  {
   "cell_type": "code",
   "execution_count": 54,
   "id": "5e14f464",
   "metadata": {},
   "outputs": [
    {
     "name": "stdout",
     "output_type": "stream",
     "text": [
      "-0.9599360855009768 ACALDtm: acald_m <=> acald_c\n",
      "0.9599360855009768 PYRDC: h_c + pyr_c --> acald_c + co2_c\n"
     ]
    }
   ],
   "source": [
    "for rx in lst.metabolites.acald_c.reactions:\n",
    "    if lst_glc_soln.fluxes[rx.id]!=0:\n",
    "        print(lst_glc_soln.fluxes[rx.id],rx)"
   ]
  },
  {
   "cell_type": "markdown",
   "id": "5ed16822",
   "metadata": {},
   "source": [
    "there is an nadh = nadph cycle due to the ALCD2x and ALCD2y reactions. check constraints in other models. "
   ]
  },
  {
   "cell_type": "code",
   "execution_count": null,
   "id": "2d407415",
   "metadata": {},
   "outputs": [],
   "source": []
  },
  {
   "cell_type": "markdown",
   "id": "c42bf09f",
   "metadata": {},
   "source": [
    "there is no ALCD2y reaction in the yeast8 model."
   ]
  },
  {
   "cell_type": "code",
   "execution_count": 55,
   "id": "b5cf3a76",
   "metadata": {
    "scrolled": true
   },
   "outputs": [],
   "source": [
    "# sce.reactions.ALCD2y"
   ]
  },
  {
   "cell_type": "code",
   "execution_count": 56,
   "id": "40b49f09",
   "metadata": {},
   "outputs": [],
   "source": [
    "for r in lst.metabolites.etoh_c.reactions:\n",
    "    if lst_glc_soln[r.id]!=0:\n",
    "        print(r.id,lst_glc_soln[r.id],r.subsystem,r.name)"
   ]
  },
  {
   "cell_type": "code",
   "execution_count": 57,
   "id": "9c3345b2",
   "metadata": {},
   "outputs": [
    {
     "data": {
      "text/html": [
       "\n",
       "        <table>\n",
       "            <tr>\n",
       "                <td><strong>Reaction identifier</strong></td><td>ALCD2x</td>\n",
       "            </tr><tr>\n",
       "                <td><strong>Name</strong></td><td>Alcohol dehydrogenase (ethanol)</td>\n",
       "            </tr><tr>\n",
       "                <td><strong>Memory address</strong></td>\n",
       "                <td>0x17ca09550</td>\n",
       "            </tr><tr>\n",
       "                <td><strong>Stoichiometry</strong></td>\n",
       "                <td>\n",
       "                    <p style='text-align:right'>etoh_c + nad_c <=> acald_c + h_c + nadh_c</p>\n",
       "                    <p style='text-align:right'>Ethanol + Nicotinamide adenine dinucleotide <=> Acetaldehyde + H+ + Nicotinamide adenine dinucleotide - reduced</p>\n",
       "                </td>\n",
       "            </tr><tr>\n",
       "                <td><strong>GPR</strong></td><td>Lipst1_1_99746</td>\n",
       "            </tr><tr>\n",
       "                <td><strong>Lower bound</strong></td><td>-1000.0</td>\n",
       "            </tr><tr>\n",
       "                <td><strong>Upper bound</strong></td><td>1000.0</td>\n",
       "            </tr>\n",
       "        </table>\n",
       "        "
      ],
      "text/plain": [
       "<Reaction ALCD2x at 0x17ca09550>"
      ]
     },
     "execution_count": 57,
     "metadata": {},
     "output_type": "execute_result"
    }
   ],
   "source": [
    "lst.reactions.ALCD2x"
   ]
  },
  {
   "cell_type": "code",
   "execution_count": 58,
   "id": "48551135",
   "metadata": {},
   "outputs": [
    {
     "data": {
      "text/html": [
       "\n",
       "        <table>\n",
       "            <tr>\n",
       "                <td><strong>Reaction identifier</strong></td><td>ALCD2x</td>\n",
       "            </tr><tr>\n",
       "                <td><strong>Name</strong></td><td>alcohol dehydrogenase (ethanol to acetaldehyde)</td>\n",
       "            </tr><tr>\n",
       "                <td><strong>Memory address</strong></td>\n",
       "                <td>0x289f205d0</td>\n",
       "            </tr><tr>\n",
       "                <td><strong>Stoichiometry</strong></td>\n",
       "                <td>\n",
       "                    <p style='text-align:right'>etoh_c + nad_c --> acald_c + h_c + nadh_c</p>\n",
       "                    <p style='text-align:right'>ethanol + NAD --> acetaldehyde + H+ + NADH</p>\n",
       "                </td>\n",
       "            </tr><tr>\n",
       "                <td><strong>GPR</strong></td><td>YMR303C</td>\n",
       "            </tr><tr>\n",
       "                <td><strong>Lower bound</strong></td><td>0.0</td>\n",
       "            </tr><tr>\n",
       "                <td><strong>Upper bound</strong></td><td>1000.0</td>\n",
       "            </tr>\n",
       "        </table>\n",
       "        "
      ],
      "text/plain": [
       "<Reaction ALCD2x at 0x289f205d0>"
      ]
     },
     "execution_count": 58,
     "metadata": {},
     "output_type": "execute_result"
    }
   ],
   "source": [
    "sce.reactions.ALCD2x"
   ]
  },
  {
   "cell_type": "code",
   "execution_count": 59,
   "id": "7eefb4e3",
   "metadata": {},
   "outputs": [
    {
     "data": {
      "text/html": [
       "\n",
       "        <table>\n",
       "            <tr>\n",
       "                <td><strong>Reaction identifier</strong></td><td>ALCD2x</td>\n",
       "            </tr><tr>\n",
       "                <td><strong>Name</strong></td><td>Alcohol dehydrogenase (ethanol)</td>\n",
       "            </tr><tr>\n",
       "                <td><strong>Memory address</strong></td>\n",
       "                <td>0x17f4b1290</td>\n",
       "            </tr><tr>\n",
       "                <td><strong>Stoichiometry</strong></td>\n",
       "                <td>\n",
       "                    <p style='text-align:right'>etoh_c + nad_c <=> acald_c + h_c + nadh_c</p>\n",
       "                    <p style='text-align:right'>Ethanol + Nicotinamide adenine dinucleotide <=> Acetaldehyde + H+ + Nicotinamide adenine dinucleotide - reduced</p>\n",
       "                </td>\n",
       "            </tr><tr>\n",
       "                <td><strong>GPR</strong></td><td>15438</td>\n",
       "            </tr><tr>\n",
       "                <td><strong>Lower bound</strong></td><td>-1000.0</td>\n",
       "            </tr><tr>\n",
       "                <td><strong>Upper bound</strong></td><td>1000.0</td>\n",
       "            </tr>\n",
       "        </table>\n",
       "        "
      ],
      "text/plain": [
       "<Reaction ALCD2x at 0x17f4b1290>"
      ]
     },
     "execution_count": 59,
     "metadata": {},
     "output_type": "execute_result"
    }
   ],
   "source": [
    "rto.reactions.ALCD2x"
   ]
  },
  {
   "cell_type": "code",
   "execution_count": 60,
   "id": "0beb2d70",
   "metadata": {},
   "outputs": [
    {
     "data": {
      "text/html": [
       "\n",
       "        <table>\n",
       "            <tr>\n",
       "                <td><strong>Reaction identifier</strong></td><td>ALCD2y</td>\n",
       "            </tr><tr>\n",
       "                <td><strong>Name</strong></td><td>Alcohol dehydrogenase (ethanol, NADP)</td>\n",
       "            </tr><tr>\n",
       "                <td><strong>Memory address</strong></td>\n",
       "                <td>0x17f620ed0</td>\n",
       "            </tr><tr>\n",
       "                <td><strong>Stoichiometry</strong></td>\n",
       "                <td>\n",
       "                    <p style='text-align:right'>etoh_c + nadp_c --> acald_c + h_c + nadph_c</p>\n",
       "                    <p style='text-align:right'>Ethanol + Nicotinamide adenine dinucleotide phosphate --> Acetaldehyde + H+ + Nicotinamide adenine dinucleotide phosphate - reduced</p>\n",
       "                </td>\n",
       "            </tr><tr>\n",
       "                <td><strong>GPR</strong></td><td>11882 or 12784 or 9774</td>\n",
       "            </tr><tr>\n",
       "                <td><strong>Lower bound</strong></td><td>0.0</td>\n",
       "            </tr><tr>\n",
       "                <td><strong>Upper bound</strong></td><td>1000.0</td>\n",
       "            </tr>\n",
       "        </table>\n",
       "        "
      ],
      "text/plain": [
       "<Reaction ALCD2y at 0x17f620ed0>"
      ]
     },
     "execution_count": 60,
     "metadata": {},
     "output_type": "execute_result"
    }
   ],
   "source": [
    "rto.reactions.ALCD2y"
   ]
  },
  {
   "cell_type": "code",
   "execution_count": 61,
   "id": "76efb93e",
   "metadata": {},
   "outputs": [],
   "source": [
    "# sce.reactions.ALCD2y"
   ]
  },
  {
   "cell_type": "markdown",
   "id": "6d19f10f",
   "metadata": {},
   "source": [
    "#### introduced constraint #1.\n",
    "\n",
    "set bounds on on ALCD2y - blocking reaction. "
   ]
  },
  {
   "cell_type": "code",
   "execution_count": 62,
   "id": "6d05611a",
   "metadata": {},
   "outputs": [],
   "source": [
    "# lst.reactions.ALCD2x.lower_bound=-1000\n",
    "lst.reactions.ALCD2y.bounds=0,0"
   ]
  },
  {
   "cell_type": "code",
   "execution_count": 63,
   "id": "8e0ef824",
   "metadata": {},
   "outputs": [],
   "source": [
    "# lst_glc_soln = lst.optimize()\n",
    "lst_glc_soln = pfba(lst)\n",
    "# lst_glc_fva_soln = cobra.flux_analysis.flux_variability_analysis(lst)"
   ]
  },
  {
   "cell_type": "code",
   "execution_count": null,
   "id": "97d398aa",
   "metadata": {},
   "outputs": [],
   "source": []
  },
  {
   "cell_type": "code",
   "execution_count": 64,
   "id": "c09883eb",
   "metadata": {
    "scrolled": false
   },
   "outputs": [
    {
     "name": "stdout",
     "output_type": "stream",
     "text": [
      "Reaction GND contributes 13.40% of the total NADPH production.\n",
      "Reaction FTHFDH contributes 0.75% of the total NADPH production.\n",
      "Reaction PPND2 contributes 0.44% of the total NADPH production.\n",
      "Reaction MTHFD contributes 2.42% of the total NADPH production.\n",
      "Reaction HSDy contributes 63.63% of the total NADPH production.\n",
      "Reaction G6PDH2r contributes 13.40% of the total NADPH production.\n",
      "Reaction ALDD2ym contributes 5.97% of the total NADPH production.\n",
      "\n",
      "\n",
      "Reaction TRDR contributes 0.71% of the total NADPH consumption.\n",
      "Reaction SHK3Dr contributes 1.23% of the total NADPH consumption.\n",
      "Reaction FAS180COA contributes 4.19% of the total NADPH consumption.\n",
      "Reaction FAS140COA contributes 7.23% of the total NADPH consumption.\n",
      "Reaction SULR contributes 1.90% of the total NADPH consumption.\n",
      "Reaction DPR contributes 0.00% of the total NADPH consumption.\n",
      "Reaction FAS160COA contributes 7.23% of the total NADPH consumption.\n",
      "Reaction FAS120COA contributes 7.23% of the total NADPH consumption.\n",
      "Reaction AASAD1 contributes 0.95% of the total NADPH consumption.\n",
      "Reaction SACCD1 contributes 0.95% of the total NADPH consumption.\n",
      "Reaction KYN3OX contributes 0.01% of the total NADPH consumption.\n",
      "Reaction G5SD contributes 1.18% of the total NADPH consumption.\n",
      "Reaction HMGCOAR contributes 0.90% of the total NADPH consumption.\n",
      "Reaction PYDXOR contributes 0.01% of the total NADPH consumption.\n",
      "Reaction FAS100COA contributes 7.23% of the total NADPH consumption.\n",
      "Reaction ASAD contributes 2.81% of the total NADPH consumption.\n",
      "Reaction DHFR contributes 0.04% of the total NADPH consumption.\n",
      "Reaction APRAUR contributes 0.01% of the total NADPH consumption.\n",
      "Reaction GLUDy contributes 28.53% of the total NADPH consumption.\n",
      "Reaction FAS80COA_L contributes 21.68% of the total NADPH consumption.\n",
      "Reaction KARA1im contributes 4.01% of the total NADPH consumption.\n",
      "Reaction 3NPABH_m contributes 0.00% of the total NADPH consumption.\n",
      "Reaction 3NPAHBDH_m contributes 0.01% of the total NADPH consumption.\n",
      "Reaction HEMEASm contributes 0.01% of the total NADPH consumption.\n",
      "Reaction KARA2im contributes 1.15% of the total NADPH consumption.\n",
      "Reaction COQ7_m contributes 0.00% of the total NADPH consumption.\n",
      "Reaction AGPRim contributes 0.85% of the total NADPH consumption.\n"
     ]
    }
   ],
   "source": [
    "lst_glc_soln = pfba(lst)\n",
    "# lst_glc_soln = lst.optimize()\n",
    "nadph_produce,nadph_consume = get_reaction_contribution_to_metabolite_production([\"nadph_c\", \"nadph_m\", \"nadph_x\"],lst_glc_soln)\n",
    "\n",
    "for rxn_id, percentage in nadph_produce.items():\n",
    "    print(f\"Reaction {rxn_id} contributes {percentage:.2f}% of the total NADPH production.\")\n",
    "\n",
    "print('\\n')\n",
    "for rxn_id, percentage in nadph_consume.items():\n",
    "    print(f\"Reaction {rxn_id} contributes {percentage:.2f}% of the total NADPH consumption.\")"
   ]
  },
  {
   "cell_type": "markdown",
   "id": "20bbf6c0",
   "metadata": {},
   "source": [
    "examine HSDy reaction."
   ]
  },
  {
   "cell_type": "code",
   "execution_count": 65,
   "id": "b42874b7",
   "metadata": {},
   "outputs": [
    {
     "data": {
      "text/html": [
       "\n",
       "        <table>\n",
       "            <tr>\n",
       "                <td><strong>Reaction identifier</strong></td><td>HSDy</td>\n",
       "            </tr><tr>\n",
       "                <td><strong>Name</strong></td><td>Homoserine dehydrogenase (NADPH)</td>\n",
       "            </tr><tr>\n",
       "                <td><strong>Memory address</strong></td>\n",
       "                <td>0x17e474b90</td>\n",
       "            </tr><tr>\n",
       "                <td><strong>Stoichiometry</strong></td>\n",
       "                <td>\n",
       "                    <p style='text-align:right'>hom__L_c + nadp_c <=> aspsa_c + h_c + nadph_c</p>\n",
       "                    <p style='text-align:right'>L-Homoserine + Nicotinamide adenine dinucleotide phosphate <=> L-Aspartate 4-semialdehyde + H+ + Nicotinamide adenine dinucleotide phosphate - reduced</p>\n",
       "                </td>\n",
       "            </tr><tr>\n",
       "                <td><strong>GPR</strong></td><td>Lipst1_1_3431</td>\n",
       "            </tr><tr>\n",
       "                <td><strong>Lower bound</strong></td><td>-1000.0</td>\n",
       "            </tr><tr>\n",
       "                <td><strong>Upper bound</strong></td><td>1000.0</td>\n",
       "            </tr>\n",
       "        </table>\n",
       "        "
      ],
      "text/plain": [
       "<Reaction HSDy at 0x17e474b90>"
      ]
     },
     "execution_count": 65,
     "metadata": {},
     "output_type": "execute_result"
    }
   ],
   "source": [
    "lst.reactions.HSDy"
   ]
  },
  {
   "cell_type": "code",
   "execution_count": 66,
   "id": "8f47e4f9",
   "metadata": {},
   "outputs": [
    {
     "name": "stdout",
     "output_type": "stream",
     "text": [
      "ASAD -0.44868728406647834 Threonine and Lysine Metabolism Aspartate-semialdehyde dehydrogenase\n",
      "HSDy 10.23652185765077 Threonine and Lysine Metabolism Homoserine dehydrogenase (NADPH)\n",
      "HSDxi 10.685209141717248 Glycine and Serine Metabolism Homoserine dehydrogenase  NADH   irreversible\n"
     ]
    }
   ],
   "source": [
    "for r in lst.metabolites.aspsa_c.reactions:\n",
    "    if lst_glc_soln[r.id]!=0:\n",
    "        print(r.id,lst_glc_soln[r.id],r.subsystem,r.name)"
   ]
  },
  {
   "cell_type": "markdown",
   "id": "8570211b",
   "metadata": {},
   "source": [
    "there is a nadph = nadh cycle through HSDy and HSDxi. Examine the constraints in ohter models. "
   ]
  },
  {
   "cell_type": "code",
   "execution_count": 67,
   "id": "078fc405",
   "metadata": {
    "scrolled": true
   },
   "outputs": [
    {
     "data": {
      "text/html": [
       "\n",
       "        <table>\n",
       "            <tr>\n",
       "                <td><strong>Reaction identifier</strong></td><td>HSDy</td>\n",
       "            </tr><tr>\n",
       "                <td><strong>Name</strong></td><td>Homoserine dehydrogenase (NADPH)</td>\n",
       "            </tr><tr>\n",
       "                <td><strong>Memory address</strong></td>\n",
       "                <td>0x17f988fd0</td>\n",
       "            </tr><tr>\n",
       "                <td><strong>Stoichiometry</strong></td>\n",
       "                <td>\n",
       "                    <p style='text-align:right'>hom__L_c + nadp_c <=> aspsa_c + h_c + nadph_c</p>\n",
       "                    <p style='text-align:right'>L-Homoserine + Nicotinamide adenine dinucleotide phosphate <=> L-Aspartate 4-semialdehyde + H+ + Nicotinamide adenine dinucleotide phosphate - reduced</p>\n",
       "                </td>\n",
       "            </tr><tr>\n",
       "                <td><strong>GPR</strong></td><td>12080 or 16738</td>\n",
       "            </tr><tr>\n",
       "                <td><strong>Lower bound</strong></td><td>-1000.0</td>\n",
       "            </tr><tr>\n",
       "                <td><strong>Upper bound</strong></td><td>1000.0</td>\n",
       "            </tr>\n",
       "        </table>\n",
       "        "
      ],
      "text/plain": [
       "<Reaction HSDy at 0x17f988fd0>"
      ]
     },
     "execution_count": 67,
     "metadata": {},
     "output_type": "execute_result"
    }
   ],
   "source": [
    "rto.reactions.HSDy"
   ]
  },
  {
   "cell_type": "code",
   "execution_count": 68,
   "id": "97d55873",
   "metadata": {},
   "outputs": [
    {
     "data": {
      "text/html": [
       "\n",
       "        <table>\n",
       "            <tr>\n",
       "                <td><strong>Reaction identifier</strong></td><td>HSDy</td>\n",
       "            </tr><tr>\n",
       "                <td><strong>Name</strong></td><td>homoserine dehydrogenase (NADP)</td>\n",
       "            </tr><tr>\n",
       "                <td><strong>Memory address</strong></td>\n",
       "                <td>0x28a012790</td>\n",
       "            </tr><tr>\n",
       "                <td><strong>Stoichiometry</strong></td>\n",
       "                <td>\n",
       "                    <p style='text-align:right'>aspsa_c + h_c + nadph_c --> hom__L_c + nadp_c</p>\n",
       "                    <p style='text-align:right'>L-aspartate 4-semialdehyde + H+ + NADPH --> L-homoserine + NADP(+)</p>\n",
       "                </td>\n",
       "            </tr><tr>\n",
       "                <td><strong>GPR</strong></td><td>YJR139C</td>\n",
       "            </tr><tr>\n",
       "                <td><strong>Lower bound</strong></td><td>0.0</td>\n",
       "            </tr><tr>\n",
       "                <td><strong>Upper bound</strong></td><td>1000.0</td>\n",
       "            </tr>\n",
       "        </table>\n",
       "        "
      ],
      "text/plain": [
       "<Reaction HSDy at 0x28a012790>"
      ]
     },
     "execution_count": 68,
     "metadata": {},
     "output_type": "execute_result"
    }
   ],
   "source": [
    "sce.reactions.HSDy"
   ]
  },
  {
   "cell_type": "code",
   "execution_count": 69,
   "id": "86b38398",
   "metadata": {},
   "outputs": [
    {
     "data": {
      "text/html": [
       "\n",
       "        <table>\n",
       "            <tr>\n",
       "                <td><strong>Reaction identifier</strong></td><td>HSDxi</td>\n",
       "            </tr><tr>\n",
       "                <td><strong>Name</strong></td><td>homoserine dehydrogenase (NADH)</td>\n",
       "            </tr><tr>\n",
       "                <td><strong>Memory address</strong></td>\n",
       "                <td>0x28a012090</td>\n",
       "            </tr><tr>\n",
       "                <td><strong>Stoichiometry</strong></td>\n",
       "                <td>\n",
       "                    <p style='text-align:right'>aspsa_c + h_c + nadh_c --> hom__L_c + nad_c</p>\n",
       "                    <p style='text-align:right'>L-aspartate 4-semialdehyde + H+ + NADH --> L-homoserine + NAD</p>\n",
       "                </td>\n",
       "            </tr><tr>\n",
       "                <td><strong>GPR</strong></td><td>YJR139C</td>\n",
       "            </tr><tr>\n",
       "                <td><strong>Lower bound</strong></td><td>0.0</td>\n",
       "            </tr><tr>\n",
       "                <td><strong>Upper bound</strong></td><td>1000.0</td>\n",
       "            </tr>\n",
       "        </table>\n",
       "        "
      ],
      "text/plain": [
       "<Reaction HSDxi at 0x28a012090>"
      ]
     },
     "execution_count": 69,
     "metadata": {},
     "output_type": "execute_result"
    }
   ],
   "source": [
    "sce.reactions.HSDxi"
   ]
  },
  {
   "cell_type": "code",
   "execution_count": 70,
   "id": "e138ee29",
   "metadata": {},
   "outputs": [
    {
     "data": {
      "text/html": [
       "\n",
       "        <table>\n",
       "            <tr>\n",
       "                <td><strong>Reaction identifier</strong></td><td>HSDxi</td>\n",
       "            </tr><tr>\n",
       "                <td><strong>Name</strong></td><td>Homoserine dehydrogenase NADH irreversible</td>\n",
       "            </tr><tr>\n",
       "                <td><strong>Memory address</strong></td>\n",
       "                <td>0x17f727b50</td>\n",
       "            </tr><tr>\n",
       "                <td><strong>Stoichiometry</strong></td>\n",
       "                <td>\n",
       "                    <p style='text-align:right'>aspsa_c + h_c + nadh_c --> hom__L_c + nad_c</p>\n",
       "                    <p style='text-align:right'>L-Aspartate 4-semialdehyde + H+ + Nicotinamide adenine dinucleotide - reduced --> L-Homoserine + Nicotinamide adenine dinucleotide</p>\n",
       "                </td>\n",
       "            </tr><tr>\n",
       "                <td><strong>GPR</strong></td><td>12080 or 16738</td>\n",
       "            </tr><tr>\n",
       "                <td><strong>Lower bound</strong></td><td>0.0</td>\n",
       "            </tr><tr>\n",
       "                <td><strong>Upper bound</strong></td><td>1000.0</td>\n",
       "            </tr>\n",
       "        </table>\n",
       "        "
      ],
      "text/plain": [
       "<Reaction HSDxi at 0x17f727b50>"
      ]
     },
     "execution_count": 70,
     "metadata": {},
     "output_type": "execute_result"
    }
   ],
   "source": [
    "rto.reactions.HSDxi"
   ]
  },
  {
   "cell_type": "markdown",
   "id": "eecbef2e",
   "metadata": {},
   "source": [
    "#### introduced constraint #2.\n",
    "\n",
    "HSDy is irrevisible in sce. following sce convention. "
   ]
  },
  {
   "cell_type": "code",
   "execution_count": 71,
   "id": "e43e99fe",
   "metadata": {},
   "outputs": [],
   "source": [
    "lst.reactions.HSDy.upper_bound = 0"
   ]
  },
  {
   "cell_type": "code",
   "execution_count": 72,
   "id": "01288d4a",
   "metadata": {
    "scrolled": true
   },
   "outputs": [
    {
     "name": "stdout",
     "output_type": "stream",
     "text": [
      "Reaction GND contributes 13.40% of the total NADPH production.\n",
      "Reaction FTHFDH contributes 0.75% of the total NADPH production.\n",
      "Reaction PPND2 contributes 0.44% of the total NADPH production.\n",
      "Reaction MTHFD contributes 2.42% of the total NADPH production.\n",
      "Reaction G6PDH2r contributes 13.40% of the total NADPH production.\n",
      "Reaction ALDD19x_P contributes 63.63% of the total NADPH production.\n",
      "Reaction ALDD2ym contributes 5.97% of the total NADPH production.\n",
      "\n",
      "\n",
      "Reaction TRDR contributes 0.71% of the total NADPH consumption.\n",
      "Reaction SHK3Dr contributes 1.23% of the total NADPH consumption.\n",
      "Reaction FAS180COA contributes 4.19% of the total NADPH consumption.\n",
      "Reaction FAS140COA contributes 7.23% of the total NADPH consumption.\n",
      "Reaction SULR contributes 1.90% of the total NADPH consumption.\n",
      "Reaction DPR contributes 0.00% of the total NADPH consumption.\n",
      "Reaction FAS160COA contributes 7.23% of the total NADPH consumption.\n",
      "Reaction FAS120COA contributes 7.23% of the total NADPH consumption.\n",
      "Reaction AASAD1 contributes 0.95% of the total NADPH consumption.\n",
      "Reaction SACCD1 contributes 0.95% of the total NADPH consumption.\n",
      "Reaction KYN3OX contributes 0.01% of the total NADPH consumption.\n",
      "Reaction G5SD contributes 1.18% of the total NADPH consumption.\n",
      "Reaction HMGCOAR contributes 0.90% of the total NADPH consumption.\n",
      "Reaction PYDXOR contributes 0.01% of the total NADPH consumption.\n",
      "Reaction FAS100COA contributes 7.23% of the total NADPH consumption.\n",
      "Reaction ASAD contributes 2.81% of the total NADPH consumption.\n",
      "Reaction DHFR contributes 0.04% of the total NADPH consumption.\n",
      "Reaction APRAUR contributes 0.01% of the total NADPH consumption.\n",
      "Reaction GLUDy contributes 28.53% of the total NADPH consumption.\n",
      "Reaction FAS80COA_L contributes 21.68% of the total NADPH consumption.\n",
      "Reaction KARA1im contributes 4.01% of the total NADPH consumption.\n",
      "Reaction 3NPABH_m contributes 0.00% of the total NADPH consumption.\n",
      "Reaction 3NPAHBDH_m contributes 0.01% of the total NADPH consumption.\n",
      "Reaction HEMEASm contributes 0.01% of the total NADPH consumption.\n",
      "Reaction KARA2im contributes 1.15% of the total NADPH consumption.\n",
      "Reaction COQ7_m contributes 0.00% of the total NADPH consumption.\n",
      "Reaction AGPRim contributes 0.85% of the total NADPH consumption.\n"
     ]
    }
   ],
   "source": [
    "lst_glc_soln = pfba(lst)\n",
    "\n",
    "nadph_produce,nadph_consume = get_reaction_contribution_to_metabolite_production([\"nadph_c\", \"nadph_m\", \"nadph_x\"],lst_glc_soln)\n",
    "\n",
    "for rxn_id, percentage in nadph_produce.items():\n",
    "    print(f\"Reaction {rxn_id} contributes {percentage:.2f}% of the total NADPH production.\")\n",
    "\n",
    "print('\\n')\n",
    "for rxn_id, percentage in nadph_consume.items():\n",
    "    print(f\"Reaction {rxn_id} contributes {percentage:.2f}% of the total NADPH consumption.\")"
   ]
  },
  {
   "cell_type": "markdown",
   "id": "f167e113",
   "metadata": {},
   "source": [
    "Examine ALDD19x_P."
   ]
  },
  {
   "cell_type": "code",
   "execution_count": 73,
   "id": "61659662",
   "metadata": {},
   "outputs": [
    {
     "data": {
      "text/html": [
       "\n",
       "        <table>\n",
       "            <tr>\n",
       "                <td><strong>Reaction identifier</strong></td><td>ALDD19x_P</td>\n",
       "            </tr><tr>\n",
       "                <td><strong>Name</strong></td><td>Aldehyde dehydrogenase (phenylacetaldehyde, NADP)</td>\n",
       "            </tr><tr>\n",
       "                <td><strong>Memory address</strong></td>\n",
       "                <td>0x17e882c90</td>\n",
       "            </tr><tr>\n",
       "                <td><strong>Stoichiometry</strong></td>\n",
       "                <td>\n",
       "                    <p style='text-align:right'>h2o_c + nadp_c + pacald_c --> 2.0 h_c + nadph_c + pac_c</p>\n",
       "                    <p style='text-align:right'>H2O H2O + Nicotinamide adenine dinucleotide phosphate + Phenylacetaldehyde --> 2.0 H+ + Nicotinamide adenine dinucleotide phosphate - reduced + Phenylacetic acid</p>\n",
       "                </td>\n",
       "            </tr><tr>\n",
       "                <td><strong>GPR</strong></td><td>Lipst1_1_314464 or Lipst1_1_291711 or Lipst1_1_767</td>\n",
       "            </tr><tr>\n",
       "                <td><strong>Lower bound</strong></td><td>0.0</td>\n",
       "            </tr><tr>\n",
       "                <td><strong>Upper bound</strong></td><td>1000.0</td>\n",
       "            </tr>\n",
       "        </table>\n",
       "        "
      ],
      "text/plain": [
       "<Reaction ALDD19x_P at 0x17e882c90>"
      ]
     },
     "execution_count": 73,
     "metadata": {},
     "output_type": "execute_result"
    }
   ],
   "source": [
    "lst.reactions.get_by_id('ALDD19x_P')"
   ]
  },
  {
   "cell_type": "code",
   "execution_count": 74,
   "id": "166391bb",
   "metadata": {},
   "outputs": [
    {
     "name": "stdout",
     "output_type": "stream",
     "text": [
      "ALDD19x_P 10.236521857650354 Phenylalanine Metabolism Aldehyde dehydrogenase (phenylacetaldehyde, NADP)\n",
      "ALDD19xr -10.236521857650354 Alternate Carbon Metabolism Aldehyde dehydrogenase (phenylacetaldehyde, NAD)\n"
     ]
    }
   ],
   "source": [
    "for r in lst.metabolites.pac_c.reactions:\n",
    "    if lst_glc_soln[r.id]!=0:\n",
    "        print(r.id,lst_glc_soln[r.id],r.subsystem,r.name)"
   ]
  },
  {
   "cell_type": "markdown",
   "id": "18e407e1",
   "metadata": {},
   "source": [
    "there is a nadh = nadph cycle due to reactions ALDD19x_P and ALDD19xr. examine reactions in other models. "
   ]
  },
  {
   "cell_type": "markdown",
   "id": "402514bd",
   "metadata": {},
   "source": [
    "there is no ALDD19x_P reaction in the yeast8 model."
   ]
  },
  {
   "cell_type": "code",
   "execution_count": 75,
   "id": "73ad9bcc",
   "metadata": {},
   "outputs": [],
   "source": [
    "# sce.reactions.ALDD19x_P"
   ]
  },
  {
   "cell_type": "markdown",
   "id": "1dafda4b",
   "metadata": {},
   "source": [
    "look for a cofactor futile cycle."
   ]
  },
  {
   "cell_type": "code",
   "execution_count": 76,
   "id": "a788f5a4",
   "metadata": {},
   "outputs": [
    {
     "data": {
      "text/html": [
       "\n",
       "        <table>\n",
       "            <tr>\n",
       "                <td><strong>Reaction identifier</strong></td><td>ALDD19xr</td>\n",
       "            </tr><tr>\n",
       "                <td><strong>Name</strong></td><td>aldehyde dehydrogenase (phenylacetaldehyde, NAD)</td>\n",
       "            </tr><tr>\n",
       "                <td><strong>Memory address</strong></td>\n",
       "                <td>0x289f4ae90</td>\n",
       "            </tr><tr>\n",
       "                <td><strong>Stoichiometry</strong></td>\n",
       "                <td>\n",
       "                    <p style='text-align:right'>h2o_c + nad_c + pacald_c --> 2.0 h_c + nadh_c + pac_c</p>\n",
       "                    <p style='text-align:right'>H2O + NAD + phenylacetaldehyde --> 2.0 H+ + NADH + phenylacetic acid</p>\n",
       "                </td>\n",
       "            </tr><tr>\n",
       "                <td><strong>GPR</strong></td><td>YMR169C or YMR170C</td>\n",
       "            </tr><tr>\n",
       "                <td><strong>Lower bound</strong></td><td>0.0</td>\n",
       "            </tr><tr>\n",
       "                <td><strong>Upper bound</strong></td><td>1000.0</td>\n",
       "            </tr>\n",
       "        </table>\n",
       "        "
      ],
      "text/plain": [
       "<Reaction ALDD19xr at 0x289f4ae90>"
      ]
     },
     "execution_count": 76,
     "metadata": {},
     "output_type": "execute_result"
    }
   ],
   "source": [
    "sce.reactions.ALDD19xr"
   ]
  },
  {
   "cell_type": "markdown",
   "id": "ad389857",
   "metadata": {},
   "source": [
    "#### introduced constraint #3 - set bounds on ALDD19x_P to 0, blocking reaction."
   ]
  },
  {
   "cell_type": "code",
   "execution_count": 77,
   "id": "32649dff",
   "metadata": {},
   "outputs": [],
   "source": [
    "lst.reactions.get_by_id('ALDD19x_P').bounds=0,0\n",
    "# lst.reactions.get_by_id('ALDD19xr').bounds=0,0"
   ]
  },
  {
   "cell_type": "code",
   "execution_count": 78,
   "id": "dc8b59e3",
   "metadata": {},
   "outputs": [],
   "source": [
    "lst_glc_soln = pfba(lst)#.optimize()"
   ]
  },
  {
   "cell_type": "code",
   "execution_count": 79,
   "id": "686f9e87",
   "metadata": {},
   "outputs": [
    {
     "name": "stdout",
     "output_type": "stream",
     "text": [
      "Reaction GND contributes 45.21% of the total NADPH production.\n",
      "Reaction FTHFDH contributes 0.75% of the total NADPH production.\n",
      "Reaction PPND2 contributes 0.44% of the total NADPH production.\n",
      "Reaction MTHFD contributes 2.42% of the total NADPH production.\n",
      "Reaction G6PDH2r contributes 45.21% of the total NADPH production.\n",
      "Reaction ALDD2ym contributes 5.97% of the total NADPH production.\n",
      "\n",
      "\n",
      "Reaction TRDR contributes 0.71% of the total NADPH consumption.\n",
      "Reaction SHK3Dr contributes 1.23% of the total NADPH consumption.\n",
      "Reaction FAS180COA contributes 4.19% of the total NADPH consumption.\n",
      "Reaction FAS140COA contributes 7.23% of the total NADPH consumption.\n",
      "Reaction SULR contributes 1.90% of the total NADPH consumption.\n",
      "Reaction DPR contributes 0.00% of the total NADPH consumption.\n",
      "Reaction FAS160COA contributes 7.23% of the total NADPH consumption.\n",
      "Reaction FAS120COA contributes 7.23% of the total NADPH consumption.\n",
      "Reaction AASAD1 contributes 0.95% of the total NADPH consumption.\n",
      "Reaction SACCD1 contributes 0.95% of the total NADPH consumption.\n",
      "Reaction KYN3OX contributes 0.01% of the total NADPH consumption.\n",
      "Reaction G5SD contributes 1.18% of the total NADPH consumption.\n",
      "Reaction HMGCOAR contributes 0.90% of the total NADPH consumption.\n",
      "Reaction PYDXOR contributes 0.01% of the total NADPH consumption.\n",
      "Reaction FAS100COA contributes 7.23% of the total NADPH consumption.\n",
      "Reaction ASAD contributes 2.81% of the total NADPH consumption.\n",
      "Reaction DHFR contributes 0.04% of the total NADPH consumption.\n",
      "Reaction APRAUR contributes 0.01% of the total NADPH consumption.\n",
      "Reaction GLUDy contributes 28.53% of the total NADPH consumption.\n",
      "Reaction FAS80COA_L contributes 21.68% of the total NADPH consumption.\n",
      "Reaction KARA1im contributes 4.01% of the total NADPH consumption.\n",
      "Reaction 3NPABH_m contributes 0.00% of the total NADPH consumption.\n",
      "Reaction 3NPAHBDH_m contributes 0.01% of the total NADPH consumption.\n",
      "Reaction HEMEASm contributes 0.01% of the total NADPH consumption.\n",
      "Reaction KARA2im contributes 1.15% of the total NADPH consumption.\n",
      "Reaction COQ7_m contributes 0.00% of the total NADPH consumption.\n",
      "Reaction AGPRim contributes 0.85% of the total NADPH consumption.\n"
     ]
    }
   ],
   "source": [
    "nadph_produce,nadph_consume = get_reaction_contribution_to_metabolite_production([\"nadph_c\", \"nadph_m\", \"nadph_x\"],lst_glc_soln)\n",
    "\n",
    "for rxn_id, percentage in nadph_produce.items():\n",
    "    print(f\"Reaction {rxn_id} contributes {percentage:.2f}% of the total NADPH production.\")\n",
    "\n",
    "print('\\n')\n",
    "for rxn_id, percentage in nadph_consume.items():\n",
    "    print(f\"Reaction {rxn_id} contributes {percentage:.2f}% of the total NADPH consumption.\")"
   ]
  },
  {
   "cell_type": "markdown",
   "id": "1327ab47",
   "metadata": {},
   "source": [
    "Compare the sce and ylip."
   ]
  },
  {
   "cell_type": "code",
   "execution_count": 80,
   "id": "093ed930",
   "metadata": {
    "scrolled": false
   },
   "outputs": [
    {
     "name": "stdout",
     "output_type": "stream",
     "text": [
      "Reaction MTHFD contributes 4.03% of the total NADPH production.\n",
      "Reaction ICDHyr contributes 3.37% of the total NADPH production.\n",
      "Reaction G6PDH2r contributes 36.05% of the total NADPH production.\n",
      "Reaction r_0234 contributes 0.30% of the total NADPH production.\n",
      "Reaction ALDD2y contributes 10.81% of the total NADPH production.\n",
      "Reaction GND contributes 36.05% of the total NADPH production.\n",
      "Reaction SSALy contributes 0.00% of the total NADPH production.\n",
      "Reaction r_0771 contributes 0.03% of the total NADPH production.\n",
      "Reaction PPND2 contributes 0.94% of the total NADPH production.\n",
      "Reaction ICDHym contributes 8.43% of the total NADPH production.\n",
      "\n",
      "\n",
      "Reaction r_0015 contributes 0.01% of the total NADPH consumption.\n",
      "Reaction ASAD contributes 2.24% of the total NADPH consumption.\n",
      "Reaction SQLS contributes 0.30% of the total NADPH consumption.\n",
      "Reaction HMGCOAR contributes 3.57% of the total NADPH consumption.\n",
      "Reaction r_2140 contributes 14.10% of the total NADPH consumption.\n",
      "Reaction C14STR contributes 0.30% of the total NADPH consumption.\n",
      "Reaction r_0238 contributes 0.30% of the total NADPH consumption.\n",
      "Reaction KYN3OX contributes 0.94% of the total NADPH consumption.\n",
      "Reaction SHK3Dr contributes 3.39% of the total NADPH consumption.\n",
      "Reaction AASAD1 contributes 2.65% of the total NADPH consumption.\n",
      "Reaction GLUDy contributes 47.11% of the total NADPH consumption.\n",
      "Reaction SULR contributes 1.60% of the total NADPH consumption.\n",
      "Reaction DPR contributes 0.00% of the total NADPH consumption.\n",
      "Reaction G5SD contributes 1.53% of the total NADPH consumption.\n",
      "Reaction r_2141 contributes 5.01% of the total NADPH consumption.\n",
      "Reaction HMR_1503 contributes 0.30% of the total NADPH consumption.\n",
      "Reaction r_0240 contributes 0.30% of the total NADPH consumption.\n",
      "Reaction DHFR contributes 0.03% of the total NADPH consumption.\n",
      "Reaction SACCD1 contributes 2.65% of the total NADPH consumption.\n",
      "Reaction r_4598 contributes 0.02% of the total NADPH consumption.\n",
      "Reaction LNS14DM contributes 0.89% of the total NADPH consumption.\n",
      "Reaction TRDR contributes 0.57% of the total NADPH consumption.\n",
      "Reaction MTHFR3 contributes 1.60% of the total NADPH consumption.\n",
      "Reaction r_0236 contributes 0.30% of the total NADPH consumption.\n",
      "Reaction HMR_1509 contributes 0.30% of the total NADPH consumption.\n",
      "Reaction P5CR contributes 1.53% of the total NADPH consumption.\n",
      "Reaction AGPRim contributes 1.49% of the total NADPH consumption.\n",
      "Reaction KARA2im contributes 1.79% of the total NADPH consumption.\n",
      "Reaction r_0096 contributes 5.20% of the total NADPH consumption.\n"
     ]
    }
   ],
   "source": [
    "nadph_produce,nadph_consume = get_reaction_contribution_to_metabolite_production([\"nadph_c\", \"nadph_m\", \"nadph_p\"],sce_glc_soln,sce)\n",
    "\n",
    "for rxn_id, percentage in nadph_produce.items():\n",
    "    print(f\"Reaction {rxn_id} contributes {percentage:.2f}% of the total NADPH production.\")\n",
    "\n",
    "print('\\n')\n",
    "for rxn_id, percentage in nadph_consume.items():\n",
    "    print(f\"Reaction {rxn_id} contributes {percentage:.2f}% of the total NADPH consumption.\")"
   ]
  },
  {
   "cell_type": "code",
   "execution_count": 81,
   "id": "24ad9972",
   "metadata": {},
   "outputs": [
    {
     "name": "stdout",
     "output_type": "stream",
     "text": [
      "Reaction GND contributes 45.21% of the total NADPH production.\n",
      "Reaction FTHFDH contributes 0.75% of the total NADPH production.\n",
      "Reaction PPND2 contributes 0.44% of the total NADPH production.\n",
      "Reaction MTHFD contributes 2.42% of the total NADPH production.\n",
      "Reaction G6PDH2r contributes 45.21% of the total NADPH production.\n",
      "Reaction ALDD2ym contributes 5.97% of the total NADPH production.\n",
      "\n",
      "\n",
      "Reaction TRDR contributes 0.71% of the total NADPH consumption.\n",
      "Reaction SHK3Dr contributes 1.23% of the total NADPH consumption.\n",
      "Reaction FAS180COA contributes 4.19% of the total NADPH consumption.\n",
      "Reaction FAS140COA contributes 7.23% of the total NADPH consumption.\n",
      "Reaction SULR contributes 1.90% of the total NADPH consumption.\n",
      "Reaction DPR contributes 0.00% of the total NADPH consumption.\n",
      "Reaction FAS160COA contributes 7.23% of the total NADPH consumption.\n",
      "Reaction FAS120COA contributes 7.23% of the total NADPH consumption.\n",
      "Reaction AASAD1 contributes 0.95% of the total NADPH consumption.\n",
      "Reaction SACCD1 contributes 0.95% of the total NADPH consumption.\n",
      "Reaction KYN3OX contributes 0.01% of the total NADPH consumption.\n",
      "Reaction G5SD contributes 1.18% of the total NADPH consumption.\n",
      "Reaction HMGCOAR contributes 0.90% of the total NADPH consumption.\n",
      "Reaction PYDXOR contributes 0.01% of the total NADPH consumption.\n",
      "Reaction FAS100COA contributes 7.23% of the total NADPH consumption.\n",
      "Reaction ASAD contributes 2.81% of the total NADPH consumption.\n",
      "Reaction DHFR contributes 0.04% of the total NADPH consumption.\n",
      "Reaction APRAUR contributes 0.01% of the total NADPH consumption.\n",
      "Reaction GLUDy contributes 28.53% of the total NADPH consumption.\n",
      "Reaction FAS80COA_L contributes 21.68% of the total NADPH consumption.\n",
      "Reaction KARA1im contributes 4.01% of the total NADPH consumption.\n",
      "Reaction 3NPABH_m contributes 0.00% of the total NADPH consumption.\n",
      "Reaction 3NPAHBDH_m contributes 0.01% of the total NADPH consumption.\n",
      "Reaction HEMEASm contributes 0.01% of the total NADPH consumption.\n",
      "Reaction KARA2im contributes 1.15% of the total NADPH consumption.\n",
      "Reaction COQ7_m contributes 0.00% of the total NADPH consumption.\n",
      "Reaction AGPRim contributes 0.85% of the total NADPH consumption.\n"
     ]
    }
   ],
   "source": [
    "lst_glc_soln = pfba(lst)\n",
    "nadph_produce,nadph_consume = get_reaction_contribution_to_metabolite_production([\"nadph_c\", \"nadph_m\", ],lst_glc_soln)\n",
    "\n",
    "for rxn_id, percentage in nadph_produce.items():\n",
    "    print(f\"Reaction {rxn_id} contributes {percentage:.2f}% of the total NADPH production.\")\n",
    "\n",
    "print('\\n')\n",
    "for rxn_id, percentage in nadph_consume.items():\n",
    "    print(f\"Reaction {rxn_id} contributes {percentage:.2f}% of the total NADPH consumption.\")"
   ]
  },
  {
   "cell_type": "code",
   "execution_count": 83,
   "id": "a60bedfa",
   "metadata": {},
   "outputs": [],
   "source": [
    "# cobra.io.save_json_model(lst,'test_with_buca_w3_firstconstraints.json')\n",
    "# pfba(lst).fluxes.to_csv('test_w_busca_w3_firstconstraints.csv')"
   ]
  },
  {
   "cell_type": "code",
   "execution_count": null,
   "id": "a03e7dcc",
   "metadata": {},
   "outputs": [],
   "source": []
  },
  {
   "cell_type": "markdown",
   "id": "f754f0c1",
   "metadata": {},
   "source": [
    "#### Several transport reactions were not functioning. \n",
    "\n",
    "#### introduced constraint."
   ]
  },
  {
   "cell_type": "code",
   "execution_count": 84,
   "id": "c79982f1",
   "metadata": {},
   "outputs": [],
   "source": [
    "lst.reactions.ACRNtm.bounds = -1000,1000\n"
   ]
  },
  {
   "cell_type": "code",
   "execution_count": 85,
   "id": "bef92792",
   "metadata": {},
   "outputs": [
    {
     "name": "stdout",
     "output_type": "stream",
     "text": [
      "Reaction GND contributes 45.21% of the total NADPH production.\n",
      "Reaction FTHFDH contributes 0.75% of the total NADPH production.\n",
      "Reaction PPND2 contributes 0.44% of the total NADPH production.\n",
      "Reaction MTHFD contributes 2.42% of the total NADPH production.\n",
      "Reaction G6PDH2r contributes 45.21% of the total NADPH production.\n",
      "Reaction ALDD2ym contributes 5.97% of the total NADPH production.\n",
      "\n",
      "\n",
      "Reaction TRDR contributes 0.71% of the total NADPH consumption.\n",
      "Reaction SHK3Dr contributes 1.23% of the total NADPH consumption.\n",
      "Reaction FAS180COA contributes 4.19% of the total NADPH consumption.\n",
      "Reaction FAS140COA contributes 7.23% of the total NADPH consumption.\n",
      "Reaction SULR contributes 1.90% of the total NADPH consumption.\n",
      "Reaction DPR contributes 0.00% of the total NADPH consumption.\n",
      "Reaction FAS160COA contributes 7.23% of the total NADPH consumption.\n",
      "Reaction FAS120COA contributes 7.23% of the total NADPH consumption.\n",
      "Reaction AASAD1 contributes 0.95% of the total NADPH consumption.\n",
      "Reaction SACCD1 contributes 0.95% of the total NADPH consumption.\n",
      "Reaction KYN3OX contributes 0.01% of the total NADPH consumption.\n",
      "Reaction G5SD contributes 1.18% of the total NADPH consumption.\n",
      "Reaction HMGCOAR contributes 0.90% of the total NADPH consumption.\n",
      "Reaction PYDXOR contributes 0.01% of the total NADPH consumption.\n",
      "Reaction FAS100COA contributes 7.23% of the total NADPH consumption.\n",
      "Reaction ASAD contributes 2.81% of the total NADPH consumption.\n",
      "Reaction DHFR contributes 0.04% of the total NADPH consumption.\n",
      "Reaction APRAUR contributes 0.01% of the total NADPH consumption.\n",
      "Reaction GLUDy contributes 28.53% of the total NADPH consumption.\n",
      "Reaction FAS80COA_L contributes 21.68% of the total NADPH consumption.\n",
      "Reaction KARA1im contributes 4.01% of the total NADPH consumption.\n",
      "Reaction 3NPABH_m contributes 0.00% of the total NADPH consumption.\n",
      "Reaction 3NPAHBDH_m contributes 0.01% of the total NADPH consumption.\n",
      "Reaction HEMEASm contributes 0.01% of the total NADPH consumption.\n",
      "Reaction KARA2im contributes 1.15% of the total NADPH consumption.\n",
      "Reaction COQ7_m contributes 0.00% of the total NADPH consumption.\n",
      "Reaction AGPRim contributes 0.85% of the total NADPH consumption.\n"
     ]
    }
   ],
   "source": [
    "lst_glc_soln = pfba(lst)\n",
    "# lst_glc_soln = lst.optimize()\n",
    "nadph_produce,nadph_consume = get_reaction_contribution_to_metabolite_production([\"nadph_c\", \"nadph_m\", \"nadph_x\"],lst_glc_soln)\n",
    "\n",
    "for rxn_id, percentage in nadph_produce.items():\n",
    "    print(f\"Reaction {rxn_id} contributes {percentage:.2f}% of the total NADPH production.\")\n",
    "\n",
    "print('\\n')\n",
    "for rxn_id, percentage in nadph_consume.items():\n",
    "    print(f\"Reaction {rxn_id} contributes {percentage:.2f}% of the total NADPH consumption.\")"
   ]
  },
  {
   "cell_type": "code",
   "execution_count": 86,
   "id": "b9ef71be",
   "metadata": {},
   "outputs": [
    {
     "name": "stdout",
     "output_type": "stream",
     "text": [
      "Reaction GND contributes 45.21% of the total NADPH production.\n",
      "Reaction FTHFDH contributes 0.75% of the total NADPH production.\n",
      "Reaction PPND2 contributes 0.44% of the total NADPH production.\n",
      "Reaction MTHFD contributes 2.42% of the total NADPH production.\n",
      "Reaction G6PDH2r contributes 45.21% of the total NADPH production.\n",
      "Reaction ALDD2ym contributes 5.97% of the total NADPH production.\n",
      "\n",
      "\n",
      "Reaction TRDR contributes 0.71% of the total NADPH consumption.\n",
      "Reaction SHK3Dr contributes 1.23% of the total NADPH consumption.\n",
      "Reaction FAS180COA contributes 4.19% of the total NADPH consumption.\n",
      "Reaction FAS140COA contributes 7.23% of the total NADPH consumption.\n",
      "Reaction SULR contributes 1.90% of the total NADPH consumption.\n",
      "Reaction DPR contributes 0.00% of the total NADPH consumption.\n",
      "Reaction FAS160COA contributes 7.23% of the total NADPH consumption.\n",
      "Reaction FAS120COA contributes 7.23% of the total NADPH consumption.\n",
      "Reaction AASAD1 contributes 0.95% of the total NADPH consumption.\n",
      "Reaction SACCD1 contributes 0.95% of the total NADPH consumption.\n",
      "Reaction KYN3OX contributes 0.01% of the total NADPH consumption.\n",
      "Reaction G5SD contributes 1.18% of the total NADPH consumption.\n",
      "Reaction HMGCOAR contributes 0.90% of the total NADPH consumption.\n",
      "Reaction PYDXOR contributes 0.01% of the total NADPH consumption.\n",
      "Reaction FAS100COA contributes 7.23% of the total NADPH consumption.\n",
      "Reaction ASAD contributes 2.81% of the total NADPH consumption.\n",
      "Reaction DHFR contributes 0.04% of the total NADPH consumption.\n",
      "Reaction APRAUR contributes 0.01% of the total NADPH consumption.\n",
      "Reaction GLUDy contributes 28.53% of the total NADPH consumption.\n",
      "Reaction FAS80COA_L contributes 21.68% of the total NADPH consumption.\n",
      "Reaction KARA1im contributes 4.01% of the total NADPH consumption.\n",
      "Reaction 3NPABH_m contributes 0.00% of the total NADPH consumption.\n",
      "Reaction 3NPAHBDH_m contributes 0.01% of the total NADPH consumption.\n",
      "Reaction HEMEASm contributes 0.01% of the total NADPH consumption.\n",
      "Reaction KARA2im contributes 1.15% of the total NADPH consumption.\n",
      "Reaction COQ7_m contributes 0.00% of the total NADPH consumption.\n",
      "Reaction AGPRim contributes 0.85% of the total NADPH consumption.\n"
     ]
    }
   ],
   "source": [
    "lst_glc_soln = pfba(lst)\n",
    "# lst_glc_soln = lst.optimize()\n",
    "nadph_produce,nadph_consume = get_reaction_contribution_to_metabolite_production([\"nadph_c\", \"nadph_m\", \"nadph_x\"],lst_glc_soln)\n",
    "\n",
    "for rxn_id, percentage in nadph_produce.items():\n",
    "    print(f\"Reaction {rxn_id} contributes {percentage:.2f}% of the total NADPH production.\")\n",
    "\n",
    "print('\\n')\n",
    "for rxn_id, percentage in nadph_consume.items():\n",
    "    print(f\"Reaction {rxn_id} contributes {percentage:.2f}% of the total NADPH consumption.\")"
   ]
  },
  {
   "cell_type": "code",
   "execution_count": 87,
   "id": "c62d84c4",
   "metadata": {},
   "outputs": [
    {
     "data": {
      "text/plain": [
       "7.2025618459514815"
      ]
     },
     "execution_count": 87,
     "metadata": {},
     "output_type": "execute_result"
    }
   ],
   "source": [
    "lst_glc_soln['GND']"
   ]
  },
  {
   "cell_type": "code",
   "execution_count": 88,
   "id": "e17ec48c",
   "metadata": {},
   "outputs": [
    {
     "data": {
      "text/plain": [
       "1.7523921653489234"
      ]
     },
     "execution_count": 88,
     "metadata": {},
     "output_type": "execute_result"
    }
   ],
   "source": [
    "lst_glc_soln['PGI']"
   ]
  },
  {
   "cell_type": "code",
   "execution_count": 89,
   "id": "e3037bb5",
   "metadata": {},
   "outputs": [
    {
     "data": {
      "text/plain": [
       "3.279276568507006"
      ]
     },
     "execution_count": 89,
     "metadata": {},
     "output_type": "execute_result"
    }
   ],
   "source": [
    "\n",
    "lst_glc_soln['FBA']"
   ]
  },
  {
   "cell_type": "code",
   "execution_count": 90,
   "id": "3b500951",
   "metadata": {},
   "outputs": [
    {
     "name": "stdout",
     "output_type": "stream",
     "text": [
      "Reaction GND contributes 45.21% of the total NADPH production.\n",
      "Reaction FTHFDH contributes 0.75% of the total NADPH production.\n",
      "Reaction PPND2 contributes 0.44% of the total NADPH production.\n",
      "Reaction MTHFD contributes 2.42% of the total NADPH production.\n",
      "Reaction G6PDH2r contributes 45.21% of the total NADPH production.\n",
      "Reaction ALDD2ym contributes 5.97% of the total NADPH production.\n",
      "\n",
      "\n",
      "Reaction TRDR contributes 0.71% of the total NADPH consumption.\n",
      "Reaction SHK3Dr contributes 1.23% of the total NADPH consumption.\n",
      "Reaction FAS180COA contributes 4.19% of the total NADPH consumption.\n",
      "Reaction FAS140COA contributes 7.23% of the total NADPH consumption.\n",
      "Reaction SULR contributes 1.90% of the total NADPH consumption.\n",
      "Reaction DPR contributes 0.00% of the total NADPH consumption.\n",
      "Reaction FAS160COA contributes 7.23% of the total NADPH consumption.\n",
      "Reaction FAS120COA contributes 7.23% of the total NADPH consumption.\n",
      "Reaction AASAD1 contributes 0.95% of the total NADPH consumption.\n",
      "Reaction SACCD1 contributes 0.95% of the total NADPH consumption.\n",
      "Reaction KYN3OX contributes 0.01% of the total NADPH consumption.\n",
      "Reaction G5SD contributes 1.18% of the total NADPH consumption.\n",
      "Reaction HMGCOAR contributes 0.90% of the total NADPH consumption.\n",
      "Reaction PYDXOR contributes 0.01% of the total NADPH consumption.\n",
      "Reaction FAS100COA contributes 7.23% of the total NADPH consumption.\n",
      "Reaction ASAD contributes 2.81% of the total NADPH consumption.\n",
      "Reaction DHFR contributes 0.04% of the total NADPH consumption.\n",
      "Reaction APRAUR contributes 0.01% of the total NADPH consumption.\n",
      "Reaction GLUDy contributes 28.53% of the total NADPH consumption.\n",
      "Reaction FAS80COA_L contributes 21.68% of the total NADPH consumption.\n",
      "Reaction KARA1im contributes 4.01% of the total NADPH consumption.\n",
      "Reaction 3NPABH_m contributes 0.00% of the total NADPH consumption.\n",
      "Reaction 3NPAHBDH_m contributes 0.01% of the total NADPH consumption.\n",
      "Reaction HEMEASm contributes 0.01% of the total NADPH consumption.\n",
      "Reaction KARA2im contributes 1.15% of the total NADPH consumption.\n",
      "Reaction COQ7_m contributes 0.00% of the total NADPH consumption.\n",
      "Reaction AGPRim contributes 0.85% of the total NADPH consumption.\n"
     ]
    }
   ],
   "source": [
    "lst_glc_soln = pfba(lst)\n",
    "# lst_glc_soln = lst.optimize()\n",
    "nadph_produce,nadph_consume = get_reaction_contribution_to_metabolite_production([\"nadph_c\", \"nadph_m\", \"nadph_x\"],lst_glc_soln)\n",
    "\n",
    "for rxn_id, percentage in nadph_produce.items():\n",
    "    print(f\"Reaction {rxn_id} contributes {percentage:.2f}% of the total NADPH production.\")\n",
    "\n",
    "print('\\n')\n",
    "for rxn_id, percentage in nadph_consume.items():\n",
    "    print(f\"Reaction {rxn_id} contributes {percentage:.2f}% of the total NADPH consumption.\")"
   ]
  },
  {
   "cell_type": "code",
   "execution_count": 88,
   "id": "905dce50",
   "metadata": {
    "scrolled": true
   },
   "outputs": [
    {
     "name": "stdout",
     "output_type": "stream",
     "text": [
      "0.33373398076257205\n",
      "0.7140335796182373\n",
      "Reaction G6PDH2r contributes 45.21% of the total NADPH production.\n",
      "Reaction MTHFD contributes 2.42% of the total NADPH production.\n",
      "Reaction GND contributes 45.21% of the total NADPH production.\n",
      "Reaction FTHFDH contributes 0.75% of the total NADPH production.\n",
      "Reaction PPND2 contributes 0.44% of the total NADPH production.\n",
      "Reaction ALDD2ym contributes 5.97% of the total NADPH production.\n",
      "\n",
      "\n",
      "Reaction DPR contributes 0.00% of the total NADPH consumption.\n",
      "Reaction SULR contributes 1.90% of the total NADPH consumption.\n",
      "Reaction G5SD contributes 1.18% of the total NADPH consumption.\n",
      "Reaction AASAD1 contributes 0.95% of the total NADPH consumption.\n",
      "Reaction KYN3OX contributes 0.01% of the total NADPH consumption.\n",
      "Reaction HMGCOAR contributes 0.90% of the total NADPH consumption.\n",
      "Reaction FAS100COA contributes 7.23% of the total NADPH consumption.\n",
      "Reaction GLUDy contributes 28.53% of the total NADPH consumption.\n",
      "Reaction APRAUR contributes 0.01% of the total NADPH consumption.\n",
      "Reaction DHFR contributes 0.04% of the total NADPH consumption.\n",
      "Reaction ASAD contributes 2.81% of the total NADPH consumption.\n",
      "Reaction FAS180COA contributes 4.19% of the total NADPH consumption.\n",
      "Reaction PYDXOR contributes 0.01% of the total NADPH consumption.\n",
      "Reaction FAS80COA_L contributes 21.68% of the total NADPH consumption.\n",
      "Reaction FAS140COA contributes 7.23% of the total NADPH consumption.\n",
      "Reaction SHK3Dr contributes 1.23% of the total NADPH consumption.\n",
      "Reaction SACCD1 contributes 0.95% of the total NADPH consumption.\n",
      "Reaction FAS120COA contributes 7.23% of the total NADPH consumption.\n",
      "Reaction FAS160COA contributes 7.23% of the total NADPH consumption.\n",
      "Reaction TRDR contributes 0.71% of the total NADPH consumption.\n",
      "Reaction COQ7_m contributes 0.00% of the total NADPH consumption.\n",
      "Reaction KARA1im contributes 4.01% of the total NADPH consumption.\n",
      "Reaction KARA2im contributes 1.15% of the total NADPH consumption.\n",
      "Reaction HEMEASm contributes 0.01% of the total NADPH consumption.\n",
      "Reaction AGPRim contributes 0.85% of the total NADPH consumption.\n",
      "Reaction 3NPABH_m contributes 0.00% of the total NADPH consumption.\n",
      "Reaction 3NPAHBDH_m contributes 0.01% of the total NADPH consumption.\n"
     ]
    }
   ],
   "source": [
    "# lst.reactions.ACS.bounds = -1000,1000\n",
    "# # lst.reactions.ACS.bounds = 0,0\n",
    "# # # lst.reactions.ACSm.bounds = 0,0\n",
    "# # # # lst.reactions.ACSm.bounds = -1000,1000\n",
    "\n",
    "# # # lst.reactions.ACRNtm.bounds = -1000,1000\n",
    "# # # # lst.reactions.XYLK.bounds = -1000,1000\n",
    "# lst.reactions.ACt2r.lower_bound =-1000\n",
    "# lst.reactions.ACtr.lower_bound =-1000\n",
    "# # lst.reactions.ACt2r.lower_bound = 0\n",
    "# # lst.reactions.ACtr.lower_bound = 0\n",
    "\n",
    "# lst.reactions.ACtm.bounds = -1000,1000\n",
    "# lst.reactions.HMGCOAtm.bounds = -1000,1000\n",
    "# lst.reactions.ACtm.bounds = 0,0\n",
    "# lst.reactions.HMGCOAtm.bounds = 0,0\n",
    "\n",
    "\n",
    "soln = pfba(lst)#optimize()\n",
    "print(soln['FBA'])\n",
    "print(soln['GND'])\n",
    "\n",
    "# Get the percentage contributions\n",
    "nadph_produce,nadph_consume = get_reaction_contribution_to_metabolite_production([\"nadph_c\", \"nadph_m\", \"nadph_x\"],soln,lst)\n",
    "\n",
    "for rxn_id, percentage in nadph_produce.items():\n",
    "    print(f\"Reaction {rxn_id} contributes {percentage:.2f}% of the total NADPH production.\")\n",
    "\n",
    "print('\\n')\n",
    "for rxn_id, percentage in nadph_consume.items():\n",
    "\n",
    "    print(f\"Reaction {rxn_id} contributes {percentage:.2f}% of the total NADPH consumption.\")"
   ]
  },
  {
   "cell_type": "code",
   "execution_count": 91,
   "id": "98a42bcd",
   "metadata": {},
   "outputs": [
    {
     "name": "stdout",
     "output_type": "stream",
     "text": [
      "ENO 11.92478591854981 Glycolysis/Gluconeogenesis Enolase \n",
      " ENO: 2pg_c <=> h2o_c + pep_c\n",
      "FBA 3.279276568507006 Glycolysis/Gluconeogenesis Fructose-bisphosphate aldolase \n",
      " FBA: fdp_c <=> dhap_c + g3p_c\n",
      "GAPD 13.298208262763724 Glycolysis/Gluconeogenesis Glyceraldehyde-3-phosphate dehydrogenase \n",
      " GAPD: g3p_c + nad_c + pi_c <=> 13dpg_c + h_c + nadh_c\n",
      "HEX1 10.0 Glycolysis/Gluconeogenesis Hexokinase (D-glucose:ATP) \n",
      " HEX1: atp_c + glc__D_c --> adp_c + g6p_c + h_c\n",
      "PDHm 7.569548557308286 Glycolysis/Gluconeogenesis Pyruvate dehydrogenase \n",
      " PDHm: coa_m + nad_m + pyr_m --> accoa_m + co2_m + nadh_m\n",
      "PFK 3.279276568507006 Glycolysis/Gluconeogenesis Phosphofructokinase \n",
      " PFK: atp_c + f6p_c --> adp_c + fdp_c + h_c\n",
      "PGI 1.7523921653489234 Glycolysis/Gluconeogenesis Glucose-6-phosphate isomerase \n",
      " PGI: g6p_c <=> f6p_c\n",
      "PGK -13.298208262763724 Glycolysis/Gluconeogenesis Phosphoglycerate kinase \n",
      " PGK: 3pg_c + atp_c <=> 13dpg_c + adp_c\n",
      "PGM -11.92478591854981 Glycolysis/Gluconeogenesis Phosphoglycerate mutase \n",
      " PGM: 2pg_c <=> 3pg_c\n",
      "PYK 11.537465249983438 Glycolysis/Gluconeogenesis Pyruvate kinase \n",
      " PYK: adp_c + h_c + pep_c --> atp_c + pyr_c\n",
      "TPI 5.314495745830351 Glycolysis/Gluconeogenesis Triose-phosphate isomerase \n",
      " TPI: dhap_c <=> g3p_c\n"
     ]
    }
   ],
   "source": [
    "rxn_list = []\n",
    "\n",
    "for r in lst.reactions:\n",
    "    sub = r.subsystem\n",
    "    if sub =='Glycolysis/Gluconeogenesis':\n",
    "        rxn_list.append(r)\n",
    "\n",
    "sorted_reactions = sorted(rxn_list, key=lambda reaction: reaction.id)\n",
    "\n",
    "for r in sorted_reactions:\n",
    "    if lst_glc_soln[r.id]!=0:\n",
    "        print(r.id,lst_glc_soln[r.id],r.subsystem,r.name,'\\n',r)"
   ]
  },
  {
   "cell_type": "code",
   "execution_count": 92,
   "id": "740ac196",
   "metadata": {},
   "outputs": [
    {
     "name": "stdout",
     "output_type": "stream",
     "text": [
      "FBA3 2.2345260347653273 Pentose Phosphate Pathway Sedoheptulose 1,7-bisphosphate D-glyceraldehyde-3-phosphate-lyase \n",
      " FBA3: s17bp_c <=> dhap_c + e4p_c\n",
      "G6PDH2r 7.2025618459514815 Pentose Phosphate Pathway Glucose 6-phosphate dehydrogenase \n",
      " G6PDH2r: g6p_c + nadp_c <=> 6pgl_c + h_c + nadph_c\n",
      "GND 7.2025618459514815 Pentose Phosphate Pathway Phosphogluconate dehydrogenase \n",
      " GND: 6pgc_c + nadp_c --> co2_c + nadph_c + ru5p__D_c\n",
      "PFK_3 2.2345260347653273 Pentose Phosphate Pathway Phosphofructokinase (s7p) \n",
      " PFK_3: atp_c + s7p_c --> adp_c + h_c + s17bp_c\n",
      "PGL 7.2025618459514815 Pentose Phosphate Pathway 6-phosphogluconolactonase \n",
      " PGL: 6pgl_c + h2o_c --> 6pgc_c + h_c\n",
      "PPM -0.0032838105833473807 Pentose Phosphate Pathway Phosphopentomutase \n",
      " PPM: r1p_c <=> r5p_c\n",
      "RPE 4.275391735247468 Pentose Phosphate Pathway Ribulose 5-phosphate 3-epimerase \n",
      " RPE: ru5p__D_c <=> xu5p__D_c\n",
      "RPI -2.9250368591272937 Pentose Phosphate Pathway Ribose-5-phosphate isomerase \n",
      " RPI: r5p_c <=> ru5p__D_c\n",
      "TKT1 2.2345260347653273 Pentose Phosphate Pathway Transketolase \n",
      " TKT1: r5p_c + xu5p__D_c <=> g3p_c + s7p_c\n",
      "TKT2 2.040865700482141 Pentose Phosphate Pathway Transketolase \n",
      " TKT2: e4p_c + xu5p__D_c <=> f6p_c + g3p_c\n"
     ]
    }
   ],
   "source": [
    "rxn_list = []\n",
    "\n",
    "for r in lst.reactions:\n",
    "    sub = r.subsystem\n",
    "    if sub =='Pentose Phosphate Pathway':\n",
    "        rxn_list.append(r)\n",
    "\n",
    "sorted_reactions = sorted(rxn_list, key=lambda reaction: reaction.id)\n",
    "\n",
    "for r in sorted_reactions:\n",
    "    if lst_glc_soln[r.id]!=0:\n",
    "        print(r.id,lst_glc_soln[r.id],r.subsystem,r.name,'\\n',r)"
   ]
  },
  {
   "cell_type": "code",
   "execution_count": 93,
   "id": "0976408f",
   "metadata": {},
   "outputs": [
    {
     "data": {
      "text/plain": [
       "7.2025618459514815"
      ]
     },
     "execution_count": 93,
     "metadata": {},
     "output_type": "execute_result"
    }
   ],
   "source": [
    "lst_glc_soln.fluxes['GND']"
   ]
  },
  {
   "cell_type": "code",
   "execution_count": 94,
   "id": "577ee447",
   "metadata": {},
   "outputs": [
    {
     "data": {
      "text/plain": [
       "-13.298208262763724"
      ]
     },
     "execution_count": 94,
     "metadata": {},
     "output_type": "execute_result"
    }
   ],
   "source": [
    "lst_glc_soln.fluxes['PGK']"
   ]
  },
  {
   "cell_type": "code",
   "execution_count": 95,
   "id": "9f039092",
   "metadata": {},
   "outputs": [
    {
     "data": {
      "text/plain": [
       "8.232561612229778"
      ]
     },
     "execution_count": 95,
     "metadata": {},
     "output_type": "execute_result"
    }
   ],
   "source": [
    "lst_glc_soln.fluxes['CSm']"
   ]
  },
  {
   "cell_type": "markdown",
   "id": "9403b320",
   "metadata": {},
   "source": [
    "# Repeat for NADH."
   ]
  },
  {
   "cell_type": "code",
   "execution_count": 96,
   "id": "f2f92e8c",
   "metadata": {},
   "outputs": [],
   "source": [
    "lst_glc_soln = pfba(lst)"
   ]
  },
  {
   "cell_type": "code",
   "execution_count": 97,
   "id": "d892d709",
   "metadata": {},
   "outputs": [
    {
     "name": "stdout",
     "output_type": "stream",
     "text": [
      "Reaction GAPD contributes 28.57% of the total NADH production.\n",
      "Reaction GCALDD contributes 0.01% of the total NADH production.\n",
      "Reaction PGCD contributes 2.95% of the total NADH production.\n",
      "Reaction FDH contributes 0.92% of the total NADH production.\n",
      "Reaction IMPD contributes 0.11% of the total NADH production.\n",
      "Reaction SACCD2 contributes 0.32% of the total NADH production.\n",
      "Reaction HISTD contributes 0.24% of the total NADH production.\n",
      "Reaction IPMD contributes 0.56% of the total NADH production.\n",
      "Reaction OIVD2m contributes 0.27% of the total NADH production.\n",
      "Reaction MMSAD1m contributes 0.27% of the total NADH production.\n",
      "Reaction MMSAD3m contributes 0.27% of the total NADH production.\n",
      "Reaction HICITDm contributes 0.32% of the total NADH production.\n",
      "Reaction 3HPDm contributes 0.27% of the total NADH production.\n",
      "Reaction ICDHxm contributes 6.66% of the total NADH production.\n",
      "Reaction PDHm contributes 16.26% of the total NADH production.\n",
      "Reaction AKGDm contributes 5.04% of the total NADH production.\n",
      "Reaction HIBDm contributes 0.27% of the total NADH production.\n",
      "Reaction MDHm contributes 17.12% of the total NADH production.\n",
      "Reaction ME1m contributes 19.57% of the total NADH production.\n",
      "\n",
      "\n",
      "Reaction G3PD1ir contributes 0.43% of the total NADH consumption.\n",
      "Reaction NADHtru contributes 0.72% of the total NADH consumption.\n",
      "Reaction HSDxi contributes 0.95% of the total NADH consumption.\n",
      "Reaction MDH contributes 30.93% of the total NADH consumption.\n",
      "Reaction P5CRx contributes 0.40% of the total NADH consumption.\n",
      "Reaction MTHFR2 contributes 0.24% of the total NADH consumption.\n",
      "Reaction NADH2_u9m2 contributes 66.32% of the total NADH consumption.\n"
     ]
    }
   ],
   "source": [
    "\n",
    "soln = pfba(lst)#optimize()\n",
    "\n",
    "\n",
    "# Get the percentage contributions\n",
    "nadph_produce,nadph_consume = get_reaction_contribution_to_metabolite_production([\"nadh_c\", \"nadh_m\", \"nadh_x\"],soln,lst)\n",
    "\n",
    "for rxn_id, percentage in nadph_produce.items():\n",
    "    print(f\"Reaction {rxn_id} contributes {percentage:.2f}% of the total NADH production.\")\n",
    "\n",
    "print('\\n')\n",
    "for rxn_id, percentage in nadph_consume.items():\n",
    "\n",
    "    print(f\"Reaction {rxn_id} contributes {percentage:.2f}% of the total NADH consumption.\")"
   ]
  },
  {
   "cell_type": "markdown",
   "id": "e2a7fea0",
   "metadata": {},
   "source": [
    "# look at ATP. "
   ]
  },
  {
   "cell_type": "code",
   "execution_count": 98,
   "id": "38463df7",
   "metadata": {
    "scrolled": false
   },
   "outputs": [
    {
     "name": "stdout",
     "output_type": "stream",
     "text": [
      "Reaction PYK contributes 5.22% of the total ATP production.\n",
      "Reaction ATPtm contributes 51.21% of the total ATP production.\n",
      "Reaction PGK contributes 6.02% of the total ATP production.\n",
      "Reaction URIDK2r contributes 0.00% of the total ATP production.\n",
      "Reaction SUCOASm contributes 1.06% of the total ATP production.\n",
      "Reaction ATPS3m contributes 50.65% of the total ATP production.\n",
      "\n",
      "\n",
      "Reaction GLYTRS contributes 0.16% of the total ATP consumption.\n",
      "Reaction RBFK contributes 0.00% of the total ATP consumption.\n",
      "Reaction ATPM contributes 0.15% of the total ATP consumption.\n",
      "Reaction MEVK1 contributes 0.03% of the total ATP consumption.\n",
      "Reaction METTRS contributes 0.02% of the total ATP consumption.\n",
      "Reaction PNTK contributes 0.00% of the total ATP consumption.\n",
      "Reaction BIOMASS_Ls contributes 34.19% of the total ATP consumption.\n",
      "Reaction PFK_3 contributes 0.89% of the total ATP consumption.\n",
      "Reaction HEX1 contributes 3.96% of the total ATP consumption.\n",
      "Reaction ASPK contributes 0.18% of the total ATP consumption.\n",
      "Reaction CYSTRS contributes 0.01% of the total ATP consumption.\n",
      "Reaction ILETRS contributes 0.07% of the total ATP consumption.\n",
      "Reaction HSK contributes 0.14% of the total ATP consumption.\n",
      "Reaction HPPK2 contributes 0.00% of the total ATP consumption.\n",
      "Reaction ALATRS contributes 0.16% of the total ATP consumption.\n",
      "Reaction ADNK1 contributes 0.02% of the total ATP consumption.\n",
      "Reaction PRFGS contributes 0.04% of the total ATP consumption.\n",
      "Reaction GTHS contributes 0.00% of the total ATP consumption.\n",
      "Reaction PTPATi contributes 0.00% of the total ATP consumption.\n",
      "Reaction AASAD1 contributes 0.06% of the total ATP consumption.\n",
      "Reaction VALTRS contributes 0.10% of the total ATP consumption.\n",
      "Reaction NDPK7 contributes 0.00% of the total ATP consumption.\n",
      "Reaction ADNCYC contributes 0.00% of the total ATP consumption.\n",
      "Reaction ACS contributes 0.04% of the total ATP consumption.\n",
      "Reaction NDPK1 contributes 0.64% of the total ATP consumption.\n",
      "Reaction GLNS contributes 0.25% of the total ATP consumption.\n",
      "Reaction GLUCYS contributes 0.00% of the total ATP consumption.\n",
      "Reaction PRPPS contributes 0.27% of the total ATP consumption.\n",
      "Reaction ATPPRT contributes 0.02% of the total ATP consumption.\n",
      "Reaction ARGSS contributes 0.05% of the total ATP consumption.\n",
      "Reaction CYTK2 contributes 0.00% of the total ATP consumption.\n",
      "Reaction PFK contributes 1.30% of the total ATP consumption.\n",
      "Reaction SERTRS contributes 0.14% of the total ATP consumption.\n",
      "Reaction GMPS contributes 0.02% of the total ATP consumption.\n",
      "Reaction NDPK3 contributes 0.01% of the total ATP consumption.\n",
      "Reaction HISTRS contributes 0.02% of the total ATP consumption.\n",
      "Reaction ADK1 contributes 1.96% of the total ATP consumption.\n",
      "Reaction GLUTRS contributes 0.07% of the total ATP consumption.\n",
      "Reaction DPMVD contributes 0.03% of the total ATP consumption.\n",
      "Reaction FMNAT contributes 0.00% of the total ATP consumption.\n",
      "Reaction CYTK1 contributes 0.01% of the total ATP consumption.\n",
      "Reaction METAT contributes 0.02% of the total ATP consumption.\n",
      "Reaction NNAT contributes 0.00% of the total ATP consumption.\n",
      "Reaction ASPTRS contributes 0.07% of the total ATP consumption.\n",
      "Reaction DHFS contributes 0.00% of the total ATP consumption.\n",
      "Reaction TRPTRS contributes 0.01% of the total ATP consumption.\n",
      "Reaction ASNTRS contributes 0.05% of the total ATP consumption.\n",
      "Reaction NMNAT contributes 0.00% of the total ATP consumption.\n",
      "Reaction PROTRS contributes 0.07% of the total ATP consumption.\n",
      "Reaction NDPK5 contributes 0.00% of the total ATP consumption.\n",
      "Reaction LEUTRS contributes 0.10% of the total ATP consumption.\n",
      "Reaction PC contributes 4.24% of the total ATP consumption.\n",
      "Reaction ACCOAC contributes 1.71% of the total ATP consumption.\n",
      "Reaction PMEVK contributes 0.03% of the total ATP consumption.\n",
      "Reaction NDPK4 contributes 0.00% of the total ATP consumption.\n",
      "Reaction ARGTRS contributes 0.05% of the total ATP consumption.\n",
      "Reaction PRAIS contributes 0.04% of the total ATP consumption.\n",
      "Reaction NADK contributes 0.00% of the total ATP consumption.\n",
      "Reaction RNMK contributes 0.00% of the total ATP consumption.\n",
      "Reaction PANTS contributes 0.00% of the total ATP consumption.\n",
      "Reaction DTMPK contributes 0.00% of the total ATP consumption.\n",
      "Reaction ASNS2 contributes 0.05% of the total ATP consumption.\n",
      "Reaction NDPK2 contributes 0.45% of the total ATP consumption.\n",
      "Reaction PYDXNK contributes 0.00% of the total ATP consumption.\n",
      "Reaction THRTRS contributes 0.08% of the total ATP consumption.\n",
      "Reaction TYRTRS contributes 0.03% of the total ATP consumption.\n",
      "Reaction PPNCL3 contributes 0.00% of the total ATP consumption.\n",
      "Reaction GLNTRS contributes 0.04% of the total ATP consumption.\n",
      "Reaction NDPK8 contributes 0.00% of the total ATP consumption.\n",
      "Reaction CTPS1 contributes 0.02% of the total ATP consumption.\n",
      "Reaction UMPK contributes 0.04% of the total ATP consumption.\n",
      "Reaction CBPS contributes 0.17% of the total ATP consumption.\n",
      "Reaction TMDPK contributes 0.00% of the total ATP consumption.\n",
      "Reaction LYSTRS contributes 0.06% of the total ATP consumption.\n",
      "Reaction DPCOAK contributes 0.00% of the total ATP consumption.\n",
      "Reaction ACITL contributes 2.03% of the total ATP consumption.\n",
      "Reaction SHKK contributes 0.08% of the total ATP consumption.\n",
      "Reaction PHETRS contributes 0.04% of the total ATP consumption.\n",
      "Reaction PRAGSr contributes 0.04% of the total ATP consumption.\n",
      "Reaction GLU5K contributes 0.07% of the total ATP consumption.\n",
      "Reaction PMPK contributes 0.00% of the total ATP consumption.\n",
      "Reaction NADS1 contributes 0.00% of the total ATP consumption.\n",
      "Reaction GK1 contributes 0.02% of the total ATP consumption.\n",
      "Reaction PRASCSi contributes 0.04% of the total ATP consumption.\n",
      "Reaction LIPATPTm contributes 0.00% of the total ATP consumption.\n",
      "Reaction DBTSm contributes 0.00% of the total ATP consumption.\n",
      "Reaction ACGKm contributes 0.05% of the total ATP consumption.\n",
      "Reaction ATPtm contributes 44.86% of the total ATP consumption.\n",
      "Reaction ACSm contributes 0.38% of the total ATP consumption.\n"
     ]
    }
   ],
   "source": [
    "lst_glc_soln = pfba(lst)\n",
    "\n",
    "\n",
    "soln = pfba(lst)#optimize()\n",
    "\n",
    "\n",
    "# Get the percentage contributions\n",
    "nadph_produce,nadph_consume = get_reaction_contribution_to_metabolite_production([\"atp_c\", \"atp_m\", \"atp_x\"],soln,lst)\n",
    "\n",
    "for rxn_id, percentage in nadph_produce.items():\n",
    "    print(f\"Reaction {rxn_id} contributes {percentage:.2f}% of the total ATP production.\")\n",
    "\n",
    "print('\\n')\n",
    "for rxn_id, percentage in nadph_consume.items():\n",
    "\n",
    "    print(f\"Reaction {rxn_id} contributes {percentage:.2f}% of the total ATP consumption.\")\n",
    "# rxn_list = []\n",
    "# for r in lst.metabolites.atp_c.reactions:\n",
    "#     if lst_glc_soln[r.id]!=0:\n",
    "#         rxn_list.append(r)\n",
    "# #         print(r.id,lst_glc_soln[r.id],r.subsystem,r.name)\n",
    "\n",
    "# for r in lst.metabolites.atp_m.reactions:\n",
    "#     if lst_glc_soln[r.id]!=0:\n",
    "#         rxn_list.append(r)\n",
    "# #         print(r.id,lst_glc_soln[r\n",
    "\n",
    "# for r in lst.metabolites.atp_x.reactions:\n",
    "#     if lst_glc_soln[r.id]!=0:\n",
    "#         rxn_list.append(r)\n",
    "        \n",
    "# sorted_reactions = sorted(rxn_list, key=lambda reaction: reaction.id)\n",
    "\n",
    "# for r in sorted_reactions:\n",
    "#     print(r.id,lst_glc_soln[r.id],r.subsystem,r.name)"
   ]
  },
  {
   "cell_type": "code",
   "execution_count": 99,
   "id": "a3fa351f",
   "metadata": {},
   "outputs": [
    {
     "data": {
      "text/html": [
       "\n",
       "        <table>\n",
       "            <tr>\n",
       "                <td><strong>Reaction identifier</strong></td><td>ADK1</td>\n",
       "            </tr><tr>\n",
       "                <td><strong>Name</strong></td><td>Adenylate kinase</td>\n",
       "            </tr><tr>\n",
       "                <td><strong>Memory address</strong></td>\n",
       "                <td>0x17ca2f1d0</td>\n",
       "            </tr><tr>\n",
       "                <td><strong>Stoichiometry</strong></td>\n",
       "                <td>\n",
       "                    <p style='text-align:right'>amp_c + atp_c <=> 2.0 adp_c</p>\n",
       "                    <p style='text-align:right'>AMP C10H12N5O7P + ATP C10H12N5O13P3 <=> 2.0 ADP C10H12N5O10P2</p>\n",
       "                </td>\n",
       "            </tr><tr>\n",
       "                <td><strong>GPR</strong></td><td>Lipst1_1_2516 or Lipst1_1_327549</td>\n",
       "            </tr><tr>\n",
       "                <td><strong>Lower bound</strong></td><td>-1000.0</td>\n",
       "            </tr><tr>\n",
       "                <td><strong>Upper bound</strong></td><td>1000.0</td>\n",
       "            </tr>\n",
       "        </table>\n",
       "        "
      ],
      "text/plain": [
       "<Reaction ADK1 at 0x17ca2f1d0>"
      ]
     },
     "execution_count": 99,
     "metadata": {},
     "output_type": "execute_result"
    }
   ],
   "source": [
    "lst.reactions.ADK1"
   ]
  },
  {
   "cell_type": "code",
   "execution_count": 100,
   "id": "1f312f29",
   "metadata": {},
   "outputs": [
    {
     "data": {
      "text/html": [
       "\n",
       "        <table>\n",
       "            <tr>\n",
       "                <td><strong>Reaction identifier</strong></td><td>ADK1</td>\n",
       "            </tr><tr>\n",
       "                <td><strong>Name</strong></td><td>adenylate kinase</td>\n",
       "            </tr><tr>\n",
       "                <td><strong>Memory address</strong></td>\n",
       "                <td>0x289f50dd0</td>\n",
       "            </tr><tr>\n",
       "                <td><strong>Stoichiometry</strong></td>\n",
       "                <td>\n",
       "                    <p style='text-align:right'>amp_c + atp_c --> 2.0 adp_c</p>\n",
       "                    <p style='text-align:right'>AMP + ATP --> 2.0 ADP</p>\n",
       "                </td>\n",
       "            </tr><tr>\n",
       "                <td><strong>GPR</strong></td><td>YDL166C or YDR226W</td>\n",
       "            </tr><tr>\n",
       "                <td><strong>Lower bound</strong></td><td>0.0</td>\n",
       "            </tr><tr>\n",
       "                <td><strong>Upper bound</strong></td><td>1000.0</td>\n",
       "            </tr>\n",
       "        </table>\n",
       "        "
      ],
      "text/plain": [
       "<Reaction ADK1 at 0x289f50dd0>"
      ]
     },
     "execution_count": 100,
     "metadata": {},
     "output_type": "execute_result"
    }
   ],
   "source": [
    "sce.reactions.ADK1"
   ]
  },
  {
   "cell_type": "markdown",
   "id": "66e4e11b",
   "metadata": {},
   "source": [
    "#### introduced constraint."
   ]
  },
  {
   "cell_type": "code",
   "execution_count": 101,
   "id": "f1922bd7",
   "metadata": {},
   "outputs": [],
   "source": [
    "lst.reactions.ADK1.lower_bound = 0"
   ]
  },
  {
   "cell_type": "code",
   "execution_count": 102,
   "id": "701b6c58",
   "metadata": {},
   "outputs": [
    {
     "name": "stdout",
     "output_type": "stream",
     "text": [
      "3.279276568507654\n",
      "7.2025618459505045\n",
      "Reaction PYK contributes 5.22% of the total ATP production.\n",
      "Reaction ATPtm contributes 51.21% of the total ATP production.\n",
      "Reaction PGK contributes 6.02% of the total ATP production.\n",
      "Reaction URIDK2r contributes 0.00% of the total ATP production.\n",
      "Reaction SUCOASm contributes 1.06% of the total ATP production.\n",
      "Reaction ATPS3m contributes 50.65% of the total ATP production.\n",
      "\n",
      "\n",
      "Reaction GLYTRS contributes 0.16% of the total ATP consumption.\n",
      "Reaction RBFK contributes 0.00% of the total ATP consumption.\n",
      "Reaction ATPM contributes 0.15% of the total ATP consumption.\n",
      "Reaction MEVK1 contributes 0.03% of the total ATP consumption.\n",
      "Reaction METTRS contributes 0.02% of the total ATP consumption.\n",
      "Reaction PNTK contributes 0.00% of the total ATP consumption.\n",
      "Reaction BIOMASS_Ls contributes 34.19% of the total ATP consumption.\n",
      "Reaction PFK_3 contributes 0.89% of the total ATP consumption.\n",
      "Reaction HEX1 contributes 3.96% of the total ATP consumption.\n",
      "Reaction ASPK contributes 0.18% of the total ATP consumption.\n",
      "Reaction CYSTRS contributes 0.01% of the total ATP consumption.\n",
      "Reaction ILETRS contributes 0.07% of the total ATP consumption.\n",
      "Reaction HSK contributes 0.14% of the total ATP consumption.\n",
      "Reaction HPPK2 contributes 0.00% of the total ATP consumption.\n",
      "Reaction ALATRS contributes 0.16% of the total ATP consumption.\n",
      "Reaction ADNK1 contributes 0.02% of the total ATP consumption.\n",
      "Reaction PRFGS contributes 0.04% of the total ATP consumption.\n",
      "Reaction GTHS contributes 0.00% of the total ATP consumption.\n",
      "Reaction PTPATi contributes 0.00% of the total ATP consumption.\n",
      "Reaction AASAD1 contributes 0.06% of the total ATP consumption.\n",
      "Reaction VALTRS contributes 0.10% of the total ATP consumption.\n",
      "Reaction NDPK7 contributes 0.00% of the total ATP consumption.\n",
      "Reaction ADNCYC contributes 0.00% of the total ATP consumption.\n",
      "Reaction ACS contributes 0.04% of the total ATP consumption.\n",
      "Reaction NDPK1 contributes 0.64% of the total ATP consumption.\n",
      "Reaction GLNS contributes 0.25% of the total ATP consumption.\n",
      "Reaction GLUCYS contributes 0.00% of the total ATP consumption.\n",
      "Reaction PRPPS contributes 0.27% of the total ATP consumption.\n",
      "Reaction ATPPRT contributes 0.02% of the total ATP consumption.\n",
      "Reaction ARGSS contributes 0.05% of the total ATP consumption.\n",
      "Reaction CYTK2 contributes 0.00% of the total ATP consumption.\n",
      "Reaction PFK contributes 1.30% of the total ATP consumption.\n",
      "Reaction SERTRS contributes 0.14% of the total ATP consumption.\n",
      "Reaction GMPS contributes 0.02% of the total ATP consumption.\n",
      "Reaction NDPK3 contributes 0.01% of the total ATP consumption.\n",
      "Reaction HISTRS contributes 0.02% of the total ATP consumption.\n",
      "Reaction ADK1 contributes 1.96% of the total ATP consumption.\n",
      "Reaction GLUTRS contributes 0.07% of the total ATP consumption.\n",
      "Reaction DPMVD contributes 0.03% of the total ATP consumption.\n",
      "Reaction FMNAT contributes 0.00% of the total ATP consumption.\n",
      "Reaction CYTK1 contributes 0.01% of the total ATP consumption.\n",
      "Reaction METAT contributes 0.02% of the total ATP consumption.\n",
      "Reaction NNAT contributes 0.00% of the total ATP consumption.\n",
      "Reaction ASPTRS contributes 0.07% of the total ATP consumption.\n",
      "Reaction DHFS contributes 0.00% of the total ATP consumption.\n",
      "Reaction TRPTRS contributes 0.01% of the total ATP consumption.\n",
      "Reaction ASNTRS contributes 0.05% of the total ATP consumption.\n",
      "Reaction NMNAT contributes 0.00% of the total ATP consumption.\n",
      "Reaction PROTRS contributes 0.07% of the total ATP consumption.\n",
      "Reaction NDPK5 contributes 0.00% of the total ATP consumption.\n",
      "Reaction LEUTRS contributes 0.10% of the total ATP consumption.\n",
      "Reaction PC contributes 4.24% of the total ATP consumption.\n",
      "Reaction ACCOAC contributes 1.71% of the total ATP consumption.\n",
      "Reaction PMEVK contributes 0.03% of the total ATP consumption.\n",
      "Reaction NDPK4 contributes 0.00% of the total ATP consumption.\n",
      "Reaction ARGTRS contributes 0.05% of the total ATP consumption.\n",
      "Reaction PRAIS contributes 0.04% of the total ATP consumption.\n",
      "Reaction NADK contributes 0.00% of the total ATP consumption.\n",
      "Reaction RNMK contributes 0.00% of the total ATP consumption.\n",
      "Reaction PANTS contributes 0.00% of the total ATP consumption.\n",
      "Reaction DTMPK contributes 0.00% of the total ATP consumption.\n",
      "Reaction ASNS2 contributes 0.05% of the total ATP consumption.\n",
      "Reaction NDPK2 contributes 0.45% of the total ATP consumption.\n",
      "Reaction PYDXNK contributes 0.00% of the total ATP consumption.\n",
      "Reaction THRTRS contributes 0.08% of the total ATP consumption.\n",
      "Reaction TYRTRS contributes 0.03% of the total ATP consumption.\n",
      "Reaction PPNCL3 contributes 0.00% of the total ATP consumption.\n",
      "Reaction GLNTRS contributes 0.04% of the total ATP consumption.\n",
      "Reaction NDPK8 contributes 0.00% of the total ATP consumption.\n",
      "Reaction CTPS1 contributes 0.02% of the total ATP consumption.\n",
      "Reaction UMPK contributes 0.04% of the total ATP consumption.\n",
      "Reaction CBPS contributes 0.17% of the total ATP consumption.\n",
      "Reaction TMDPK contributes 0.00% of the total ATP consumption.\n",
      "Reaction LYSTRS contributes 0.06% of the total ATP consumption.\n",
      "Reaction DPCOAK contributes 0.00% of the total ATP consumption.\n",
      "Reaction ACITL contributes 2.03% of the total ATP consumption.\n",
      "Reaction SHKK contributes 0.08% of the total ATP consumption.\n",
      "Reaction PHETRS contributes 0.04% of the total ATP consumption.\n",
      "Reaction PRAGSr contributes 0.04% of the total ATP consumption.\n",
      "Reaction GLU5K contributes 0.07% of the total ATP consumption.\n",
      "Reaction PMPK contributes 0.00% of the total ATP consumption.\n",
      "Reaction NADS1 contributes 0.00% of the total ATP consumption.\n",
      "Reaction GK1 contributes 0.02% of the total ATP consumption.\n",
      "Reaction PRASCSi contributes 0.04% of the total ATP consumption.\n",
      "Reaction LIPATPTm contributes 0.00% of the total ATP consumption.\n",
      "Reaction DBTSm contributes 0.00% of the total ATP consumption.\n",
      "Reaction ACGKm contributes 0.05% of the total ATP consumption.\n",
      "Reaction ATPtm contributes 44.86% of the total ATP consumption.\n",
      "Reaction ACSm contributes 0.38% of the total ATP consumption.\n"
     ]
    }
   ],
   "source": [
    "lst_glc_soln = pfba(lst)\n",
    "\n",
    "\n",
    "soln = pfba(lst)#optimize()\n",
    "print(soln['FBA'])\n",
    "print(soln['GND'])\n",
    "\n",
    "# Get the percentage contributions\n",
    "nadph_produce,nadph_consume = get_reaction_contribution_to_metabolite_production([\"atp_c\", \"atp_m\", \"atp_x\"],soln,lst)\n",
    "\n",
    "for rxn_id, percentage in nadph_produce.items():\n",
    "    print(f\"Reaction {rxn_id} contributes {percentage:.2f}% of the total ATP production.\")\n",
    "\n",
    "print('\\n')\n",
    "for rxn_id, percentage in nadph_consume.items():\n",
    "\n",
    "    print(f\"Reaction {rxn_id} contributes {percentage:.2f}% of the total ATP consumption.\")\n"
   ]
  },
  {
   "cell_type": "markdown",
   "id": "01105139",
   "metadata": {},
   "source": [
    "leave one reaction unconstrained for ICDH - leaves room for more realistic flux. "
   ]
  },
  {
   "cell_type": "code",
   "execution_count": 101,
   "id": "48cff288",
   "metadata": {},
   "outputs": [],
   "source": []
  },
  {
   "cell_type": "code",
   "execution_count": 106,
   "id": "259fccc6",
   "metadata": {},
   "outputs": [],
   "source": [
    "lst_glc_soln = pfba(lst)"
   ]
  },
  {
   "cell_type": "code",
   "execution_count": 107,
   "id": "43bc7b88",
   "metadata": {},
   "outputs": [],
   "source": [
    "# lst_glc_soln.fluxes.to_csv('forFig_pub_nogludglusx.csv')"
   ]
  },
  {
   "cell_type": "code",
   "execution_count": 108,
   "id": "99fba265",
   "metadata": {},
   "outputs": [],
   "source": [
    "cobra.io.save_json_model(lst,'../models/Lst_v0.3_model_forPUB.json')\n"
   ]
  },
  {
   "cell_type": "code",
   "execution_count": null,
   "id": "cbd27d26",
   "metadata": {},
   "outputs": [],
   "source": []
  }
 ],
 "metadata": {
  "kernelspec": {
   "display_name": "Python [conda env:lipGSM]",
   "language": "python",
   "name": "conda-env-lipGSM-py"
  },
  "language_info": {
   "codemirror_mode": {
    "name": "ipython",
    "version": 3
   },
   "file_extension": ".py",
   "mimetype": "text/x-python",
   "name": "python",
   "nbconvert_exporter": "python",
   "pygments_lexer": "ipython3",
   "version": "3.11.3"
  }
 },
 "nbformat": 4,
 "nbformat_minor": 5
}
